{
 "cells": [
  {
   "cell_type": "code",
   "execution_count": null,
   "id": "5ddb1a03",
   "metadata": {},
   "outputs": [],
   "source": [
    "#Inorder the check Matching Patterns \n",
    "#Both the original Transcriptions and the changes made through Homophones"
   ]
  },
  {
   "cell_type": "code",
   "execution_count": 51,
   "id": "1b4fa7f5",
   "metadata": {},
   "outputs": [
    {
     "name": "stdout",
     "output_type": "stream",
     "text": [
      "Patient number 1 to 1913\n",
      "patient number is 13 to 5 to three\n",
      "I'm recording for calibration. Number 10 to 203\n",
      "number 1 to 1894\n",
      "patient 3 to 9702\n",
      "This is for patient 98446 named quickly\n",
      "Patient number 121913\n",
      "patient number is 132523\n",
      "Patient number 21638\n",
      "I'm recording for Cali patient Number 102203\n",
      "Number one two one eight nine four\n",
      "patient 329702\n",
      "This is for patient 95143 named peanut\n",
      "This is for patient 98446\n",
      "Atlas inpatient record 7 11 22\n",
      "This is for patient 98446 named Quigley\n"
     ]
    }
   ],
   "source": [
    "import spacy\n",
    "from spacy.matcher import Matcher\n",
    "\n",
    "nlp = spacy.load(\"en_core_web_sm\")\n",
    "matcher = Matcher(nlp.vocab)\n",
    "\n",
    "\n",
    "homophones = {\n",
    "    \"one\": \"1\",\n",
    "    \"to\": \"2\",\n",
    "    \"too\": \"2\",\n",
    "    \"three\": \"3\",\n",
    "    \"for\": \"4\",\n",
    "    \"five\": \"5\",\n",
    "    \"six\": \"6\",\n",
    "    \"seven\": \"7\",\n",
    "    \"eight\": \"8\",\n",
    "    \"nine\": \"9\",\n",
    "    \"zero\": \"0\",\n",
    "    'oh': '0',\n",
    "    'two': '2'\n",
    "}\n",
    "\n",
    "def replace_homophones(matcher, doc, match_id, matches):\n",
    "    for match_id, start, end in matches:\n",
    "        span = doc[start:end]\n",
    "        new_tokens = []\n",
    "        for token in span:\n",
    "            if token.lower_ in homophones:\n",
    "                new_tokens.append(homophones[token.lower_])\n",
    "            else:\n",
    "                new_tokens.append(token.text)\n",
    "        new_doc = spacy.tokens.Doc(doc.vocab, words=new_tokens)\n",
    "        span_start = span[0].idx\n",
    "        span_end = span[-1].idx + len(span[-1])\n",
    "        new_span = new_doc.char_span(span_start, span_end)\n",
    "        if new_span is not None:\n",
    "            doc.merge(new_span)\n",
    "\n",
    "\n",
    "\n",
    "\n",
    "\n",
    "pattern = [{\"LOWER\": \"patient\"}, {\"LOWER\": \"number\"}, {\"POS\": \"AUX\", \"OP\":\"*\"}, {\"POS\": \"NUM\", \"OP\":\"*\"},\n",
    "           {\"IS_DIGIT\": True}, {\"POS\": \"ADP\", \"OP\":\"*\"}, {\"POS\": \"PART\", \"OP\":\"*\"}, {\"IS_DIGIT\": True},\n",
    "           {\"POS\": \"PART\", \"OP\":\"*\"}, {\"POS\": \"NUM\",\"OP\":\"?\"}, {\"IS_PUNCT\": True, \"OP\":\"?\"}]\n",
    "\n",
    "matcher.add(\"Patient Number\", replace_homophones, pattern)\n",
    "\n",
    "sentences = [\"Patient number 1 to 1913\",\n",
    "             \"patient number is 13 to 5 to three\",\n",
    "             \"I'm recording for calibration. Number 10 to 203\",\n",
    "             \"number 1 to 1894\",\n",
    "             \"patient 3 to 9702\",\n",
    "             \"This is for patient 98446 named quickly\",\n",
    "             \"Patient number 121913\",\n",
    "             \"patient number is 132523\",\n",
    "             \"Patient number 21638\",\n",
    "             \"I'm recording for Cali patient Number 102203\",\n",
    "             \"Number one two one eight nine four\",\n",
    "             \"patient 329702\",\n",
    "             \"This is for patient 95143 named peanut\",\n",
    "             \"This is for patient 98446\",\n",
    "             \"Atlas inpatient record 7 11 22\",\n",
    "             \"This is for patient 98446 named Quigley\"]\n",
    "\n",
    "for sentence in sentences:\n",
    "    doc = nlp(sentence)\n",
    "    matches = matcher(doc)\n",
    "    print(doc.text)\n"
   ]
  },
  {
   "cell_type": "code",
   "execution_count": null,
   "id": "f1619637",
   "metadata": {},
   "outputs": [],
   "source": [
    "#ALternative Code and Patterns to check the Matching Sentences and Verify Both the original Transcriptions and the changes made through Homophones"
   ]
  },
  {
   "cell_type": "code",
   "execution_count": 7,
   "id": "2389bc28",
   "metadata": {},
   "outputs": [
    {
     "name": "stdout",
     "output_type": "stream",
     "text": [
      "A patient number is 13 to 5 to three.\n",
      "Patient number 1 to 1913\n",
      "Number 10 to 203 History placed by technician Vitals one.\n",
      "number 1 to 1894\n",
      "I'm recording for calibration. Number 10 to 203\n",
      "patient 3 to 9702\n",
      "A patient number is 132523. Patient number 121913 Number 102203 History placed by technician Vitals one. number 121894 I'm recording for calibration. Number 102203 patient 329702\n"
     ]
    }
   ],
   "source": [
    "import spacy\n",
    "from spacy.matcher import Matcher\n",
    "\n",
    "nlp = spacy.load(\"en_core_web_sm\")\n",
    "matcher = Matcher(nlp.vocab)\n",
    "\n",
    "homophones = {\n",
    "    \"one\": \"1\",\n",
    "    \"to\": \"2\",\n",
    "    \"too\": \"2\",\n",
    "    \"three\": \"3\",\n",
    "    \"for\": \"4\",\n",
    "    \"five\": \"5\",\n",
    "    \"six\": \"6\",\n",
    "    \"seven\": \"7\",\n",
    "    \"eight\": \"8\",\n",
    "    \"nine\": \"9\",\n",
    "    \"zero\": \"0\",\n",
    "    'oh': '0',\n",
    "    'two': '2'\n",
    "}\n",
    "\n",
    "def replace_homophones(matcher, doc, match_id, matches):\n",
    "    for match_id, start, end in matches:\n",
    "        span = doc[start:end]\n",
    "        new_tokens = []\n",
    "        for token in span:\n",
    "            if token.lower_ in homophones:\n",
    "                new_tokens.append(homophones[token.lower_])\n",
    "            else:\n",
    "                new_tokens.append(token.text)\n",
    "        new_doc = spacy.tokens.Doc(doc.vocab, words=new_tokens)\n",
    "        span_start = span[0].idx\n",
    "        span_end = span[-1].idx + len(span[-1])\n",
    "        new_span = new_doc.char_span(span_start, span_end)\n",
    "        if new_span is not None:\n",
    "            doc.merge(new_span)\n",
    "\n",
    "pattern = [\n",
    "    {\"LOWER\": \"patient\"}, {\"LOWER\": \"number\"}, {\"POS\": \"AUX\", \"OP\": \"*\"}, {\"POS\": \"NUM\", \"OP\": \"*\"},\n",
    "    {\"IS_DIGIT\": True}, {\"POS\": \"ADP\", \"OP\": \"*\"}, {\"POS\": \"PART\", \"OP\": \"*\"}, {\"IS_DIGIT\": True},\n",
    "    {\"POS\": \"PART\", \"OP\": \"*\"}, {\"POS\": \"NUM\", \"OP\": \"?\"}, {\"IS_PUNCT\": True, \"OP\": \"?\"},\n",
    "    {\"LOWER\": \"number\"}, {\"POS\": \"AUX\", \"OP\": \"*\"}, {\"POS\": \"NUM\", \"OP\": \"*\"}, {\"IS_DIGIT\": True},\n",
    "    {\"POS\": \"PART\", \"OP\": \"*\"}, {\"POS\": \"ADP\", \"OP\": \"*\"}, {\"IS_DIGIT\": True}, {\"POS\": \"NUM\", \"OP\": \"?\"},\n",
    "    {\"IS_PUNCT\": True, \"OP\": \"?\"},\n",
    "    {\"LOWER\": \"patient\"}, {\"POS\": \"AUX\", \"OP\": \"*\"}, {\"POS\": \"NUM\", \"OP\": \"*\"},\n",
    "    {\"IS_DIGIT\": True}, {\"POS\": \"ADP\", \"OP\": \"?\"}, {\"IS_DIGIT\": True}, {\"POS\": \"NUM\", \"OP\": \"?\"},\n",
    "    {\"IS_PUNCT\": True, \"OP\": \"?\"}\n",
    "]\n",
    "\n",
    "matcher.add(\"Patient Number\", replace_homophones, pattern)\n",
    "\n",
    "sentences = [\n",
    "    \"A patient number is 13 to 5 to three.\",\n",
    "    \"Patient number 1 to 1913\",\n",
    "    \"Number 10 to 203 History placed by technician Vitals one.\",\n",
    "    \"number 1 to 1894\",\n",
    "    \"I'm recording for calibration. Number 10 to 203\",\n",
    "    \"patient 3 to 9702\"\n",
    "]\n",
    "\n",
    "for sentence in sentences:\n",
    "    doc = nlp(sentence)\n",
    "    matches = matcher(doc)\n",
    "    print(doc.text)\n",
    "    \n",
    "doc = nlp(\"A patient number is 132523. \"\n",
    "          \"Patient number 121913 \"\n",
    "          \"Number 102203 History placed by technician Vitals one. \"\n",
    "          \"number 121894 \"\n",
    "          \"I'm recording for calibration. Number 102203 \"\n",
    "          \"patient 329702\")\n",
    "matches = matcher(doc)\n",
    "print(doc.text)\n"
   ]
  },
  {
   "cell_type": "code",
   "execution_count": null,
   "id": "2206fe68",
   "metadata": {},
   "outputs": [],
   "source": []
  },
  {
   "cell_type": "code",
   "execution_count": null,
   "id": "5b9e1aaa",
   "metadata": {},
   "outputs": [],
   "source": []
  },
  {
   "cell_type": "code",
   "execution_count": 53,
   "id": "619ca755",
   "metadata": {},
   "outputs": [],
   "source": [
    "def replace_homophones(sentences):\n",
    "    homophones = {    \"one\": \"1\",\n",
    "    \"to\": \"2\",\n",
    "    \"too\": \"2\",\n",
    "    \"three\": \"3\",\n",
    "    \"for\": \"4\",\n",
    "    \"five\": \"5\",\n",
    "    \"six\": \"6\",\n",
    "    \"seven\": \"7\",\n",
    "    \"eight\": \"8\",\n",
    "    \"nine\": \"9\",\n",
    "    \"zero\": \"0\",\n",
    "    'oh': '0',\n",
    "    'two': '2',\n",
    "     'three.':'3'            }\n",
    "    updated_sentences = []\n",
    "    for sentence in sentences:\n",
    "        words = sentence.split()\n",
    "        for i in range(len(words)):\n",
    "            if words[i] in homophones:\n",
    "                words[i] = homophones[words[i]]\n",
    "        updated_sentence = \" \".join(words)\n",
    "        updated_sentences.append(updated_sentence)\n",
    "    return \" \".join(updated_sentences)\n"
   ]
  },
  {
   "cell_type": "code",
   "execution_count": 54,
   "id": "a79bf9b9",
   "metadata": {},
   "outputs": [
    {
     "name": "stdout",
     "output_type": "stream",
     "text": [
      "A patient number is 13 2 5 2 3 Patient number 1 2 1913 Number 10 2 203 History placed by technician Vitals one. number 1 2 1894 I'm recording 4 calibration. Number 10 2 203 patient 3 2 9702\n"
     ]
    }
   ],
   "source": [
    "sentences = [\n",
    "    \"A patient number is 13 to 5 to three.\",\n",
    "    \"Patient number 1 to 1913\",\n",
    "    \"Number 10 to 203 History placed by technician Vitals one.\",\n",
    "    \"number 1 to 1894\",\n",
    "    \"I'm recording for calibration. Number 10 to 203\",\n",
    "    \"patient 3 to 9702\"\n",
    "]\n",
    "\n",
    "print(replace_homophones(sentences))\n"
   ]
  },
  {
   "cell_type": "code",
   "execution_count": null,
   "id": "38626203",
   "metadata": {},
   "outputs": [],
   "source": [
    "#One of the Main outputs Where Every Instance in Homophone Dictionary is converted to its Corrsponding Homophone"
   ]
  },
  {
   "cell_type": "code",
   "execution_count": 52,
   "id": "09690b96",
   "metadata": {},
   "outputs": [
    {
     "name": "stdout",
     "output_type": "stream",
     "text": [
      "A patient number is 13 2 5 2 3\n",
      "Patient number 1 2 1913\n",
      "Number 10 2 203 History placed by technician Vitals one.\n",
      "number 1 2 1894\n",
      "I'm recording 4 calibration. Number 10 2 203\n",
      "patient 3 2 9702\n"
     ]
    }
   ],
   "source": [
    "import spacy\n",
    "from spacy.matcher import Matcher\n",
    "\n",
    "nlp = spacy.load(\"en_core_web_sm\")\n",
    "matcher = Matcher(nlp.vocab)\n",
    "\n",
    "def replace_homophones(sentences):\n",
    "    homophones = { \"one\": \"1\",\n",
    "    \"to\": \"2\",\n",
    "    \"too\": \"2\",\n",
    "    \"three\": \"3\",\n",
    "    \"for\": \"4\",\n",
    "    \"five\": \"5\",\n",
    "    \"six\": \"6\",\n",
    "    \"seven\": \"7\",\n",
    "    \"eight\": \"8\",\n",
    "    \"nine\": \"9\",\n",
    "    \"zero\": \"0\",\n",
    "    'oh': '0',\n",
    "    'two': '2',\n",
    "     'three.':'3'            \n",
    "                 }\n",
    "    updated_sentences = []\n",
    "    for sentence in sentences:\n",
    "        words = sentence.split()\n",
    "        for i in range(len(words)):\n",
    "            if words[i] in homophones:\n",
    "                words[i] = homophones[words[i]]\n",
    "        updated_sentences.append(\" \".join(words))\n",
    "    return \"\\n\".join(updated_sentences)\n",
    "\n",
    "\n",
    "\n",
    "\n",
    "pattern = [\n",
    "    {\"LOWER\": \"patient\"}, {\"LOWER\": \"number\"}, {\"POS\": \"AUX\", \"OP\": \"*\"}, {\"POS\": \"NUM\", \"OP\": \"*\"},\n",
    "    {\"IS_DIGIT\": True}, {\"POS\": \"ADP\", \"OP\": \"*\"}, {\"POS\": \"PART\", \"OP\": \"*\"}, {\"IS_DIGIT\": True},\n",
    "    {\"POS\": \"PART\", \"OP\": \"*\"}, {\"POS\": \"NUM\", \"OP\": \"?\"}, {\"IS_PUNCT\": True, \"OP\": \"?\"},\n",
    "    {\"LOWER\": \"number\"}, {\"POS\": \"AUX\", \"OP\": \"*\"}, {\"POS\": \"NUM\", \"OP\": \"*\"}, {\"IS_DIGIT\": True},\n",
    "    {\"POS\": \"PART\", \"OP\": \"*\"}, {\"POS\": \"ADP\", \"OP\": \"*\"}, {\"IS_DIGIT\": True}, {\"POS\": \"NUM\", \"OP\": \"?\"},\n",
    "    {\"IS_PUNCT\": True, \"OP\": \"?\"},\n",
    "    {\"LOWER\": \"patient\"}, {\"POS\": \"AUX\", \"OP\": \"*\"}, {\"POS\": \"NUM\", \"OP\": \"*\"},\n",
    "    {\"IS_DIGIT\": True}, {\"POS\": \"ADP\", \"OP\": \"?\"}, {\"IS_DIGIT\": True}, {\"POS\": \"NUM\", \"OP\": \"?\"},\n",
    "    {\"IS_PUNCT\": True, \"OP\": \"?\"}\n",
    "]\n",
    "\n",
    "matcher.add(\"Patient Number\", replace_homophones, pattern)\n",
    "\n",
    "sentences = [\n",
    "    \"A patient number is 13 to 5 to three.\",\n",
    "    \"Patient number 1 to 1913\",\n",
    "    \"Number 10 to 203 History placed by technician Vitals one.\",\n",
    "    \"number 1 to 1894\",\n",
    "    \"I'm recording for calibration. Number 10 to 203\",\n",
    "    \"patient 3 to 9702\"\n",
    "]\n",
    "print(replace_homophones(sentences))\n"
   ]
  },
  {
   "cell_type": "code",
   "execution_count": null,
   "id": "beb5e02a",
   "metadata": {},
   "outputs": [],
   "source": [
    "# This code uses the spaCy library to process a text document containing patient numbers and find the digits from them. \n",
    "# It then removes any spaces in the digit sequences and joins the modified tokens back into a new string."
   ]
  },
  {
   "cell_type": "code",
   "execution_count": 63,
   "id": "832a16a2",
   "metadata": {},
   "outputs": [
    {
     "name": "stdout",
     "output_type": "stream",
     "text": [
      "A patient number is 132523.\n",
      "Patient number 121913.\n",
      "Number 102203History placed by technician Vitals one ..\n",
      "number 121894.\n",
      "I 'm recording for calibration . Number 102203.\n",
      "patient 329702.\n"
     ]
    }
   ],
   "source": [
    "import spacy\n",
    "\n",
    "nlp = spacy.load(\"en_core_web_sm\")\n",
    "\n",
    "sentences = [    \"A patient number is 13 2 5 2 3\",    \"Patient number 1 2 1913\",    \"Number 10 2 203 History placed by technician Vitals one.\",    \"number 1 2 1894\",    \"I'm recording for calibration. Number 10 2 203\",    \"patient 3 2 9702\"]\n",
    "\n",
    "for sentence in sentences:\n",
    "    doc = nlp(sentence)\n",
    "    new_sentence = \"\"\n",
    "    for token in doc:\n",
    "        if token.text.isdigit():\n",
    "            new_sentence += token.text\n",
    "        else:\n",
    "            new_sentence += token.text + \" \"\n",
    "    print(new_sentence.strip() + \".\")\n"
   ]
  },
  {
   "cell_type": "code",
   "execution_count": null,
   "id": "ce25fc9b",
   "metadata": {},
   "outputs": [],
   "source": []
  },
  {
   "cell_type": "code",
   "execution_count": 58,
   "id": "f2ebe23f",
   "metadata": {},
   "outputs": [
    {
     "name": "stdout",
     "output_type": "stream",
     "text": [
      "A patient number is 132523.\n",
      "Patient numbers: 132523\n",
      "\n",
      "Patient number 121913 Number 102203 History placed by technician Vitals one.\n",
      "Patient numbers: 121913, 102203\n",
      "\n",
      "number 121894\n",
      "Patient numbers: 121894\n",
      "\n",
      "I'm recording for calibration.\n",
      "\n",
      "Number 102203 patient 329702\n",
      "Patient numbers: 102203, 329702\n",
      "\n"
     ]
    }
   ],
   "source": [
    "import spacy\n",
    "\n",
    "nlp = spacy.load(\"en_core_web_sm\")\n",
    "text = \"A patient number is 132523. Patient number 121913 Number 102203 History placed by technician Vitals one. number 121894 I'm recording for calibration. Number 102203 patient 329702\"\n",
    "\n",
    "doc = nlp(text)\n",
    "\n",
    "# Iterate through each sentence in the document\n",
    "for sent in doc.sents:\n",
    "    # Print the sentence text\n",
    "    print(sent.text)\n",
    "\n",
    "    # Create a list to store patient numbers in the sentence\n",
    "    patient_numbers = []\n",
    "\n",
    "    # Iterate through each token in the sentence\n",
    "    for token in sent:\n",
    "        # Check if the token is a digit and append it to the patient_numbers list\n",
    "        if token.text.isdigit():\n",
    "            patient_numbers.append(token.text.replace(\" \", \"\"))\n",
    "\n",
    "    # If there are any patient numbers in the sentence, print them\n",
    "    if patient_numbers:\n",
    "        print(\"Patient numbers:\", \", \".join(patient_numbers))\n",
    "\n",
    "    # Print a blank line to separate the sentences\n",
    "    print()\n"
   ]
  },
  {
   "cell_type": "code",
   "execution_count": null,
   "id": "2759757c",
   "metadata": {},
   "outputs": [],
   "source": []
  },
  {
   "cell_type": "code",
   "execution_count": 59,
   "id": "0a5f2552",
   "metadata": {},
   "outputs": [
    {
     "name": "stdout",
     "output_type": "stream",
     "text": [
      "\n",
      "\n",
      "132523\n",
      "121913102203\n",
      "1218944102203\n",
      "329702\n"
     ]
    }
   ],
   "source": [
    "import spacy\n",
    "\n",
    "nlp = spacy.load(\"en_core_web_sm\")\n",
    "text = \"A patient number is 13 2 5 2 3\\nPatient number 1 2 1913\\nNumber 10 2 203 History placed by technician Vitals one.\\nnumber 1 2 1894\\nI'm recording 4 calibration. Number 10 2 203\\npatient 3 2 9702\"\n",
    "\n",
    "doc = nlp(text)\n",
    "\n",
    "clean_text = \"\"\n",
    "for token in doc:\n",
    "    if token.text.isdigit():\n",
    "        clean_text += token.text\n",
    "\n",
    "    # add newline character after each patient number\n",
    "    if token.text == \"number\" or token.text == \"patient\":\n",
    "        clean_text += \"\\n\"\n",
    "\n",
    "print(clean_text)\n"
   ]
  },
  {
   "cell_type": "code",
   "execution_count": null,
   "id": "25b09561",
   "metadata": {},
   "outputs": [],
   "source": []
  },
  {
   "cell_type": "code",
   "execution_count": null,
   "id": "6b8add88",
   "metadata": {},
   "outputs": [],
   "source": []
  },
  {
   "cell_type": "code",
   "execution_count": null,
   "id": "24dbeebf",
   "metadata": {},
   "outputs": [],
   "source": []
  },
  {
   "cell_type": "code",
   "execution_count": null,
   "id": "84dfbc00",
   "metadata": {},
   "outputs": [],
   "source": [
    "\"A patient number is 132523. \"\n",
    "\"Patient number 121913 \"\n",
    "\"Number 102203 History placed by technician Vitals one. \"\n",
    "\"number 121894 \"\n",
    "\"I'm recording for calibration. Number 102203 \"\n",
    "\"patient 329702\""
   ]
  },
  {
   "cell_type": "code",
   "execution_count": null,
   "id": "f9e90a8e",
   "metadata": {},
   "outputs": [],
   "source": [
    "#Alternative Code "
   ]
  },
  {
   "cell_type": "code",
   "execution_count": 55,
   "id": "d3a1b6c0",
   "metadata": {},
   "outputs": [],
   "source": [
    "def replace_homophones(sentences):\n",
    "    homophones = {    \"one\": \"1\",\n",
    "    \"to\": \"2\",\n",
    "    \"too\": \"2\",\n",
    "    \"three\": \"3\",\n",
    "    \"for\": \"4\",\n",
    "    \"five\": \"5\",\n",
    "    \"six\": \"6\",\n",
    "    \"seven\": \"7\",\n",
    "    \"eight\": \"8\",\n",
    "    \"nine\": \"9\",\n",
    "    \"zero\": \"0\",\n",
    "    'oh': '0',\n",
    "    'two': '2',\n",
    "     'three.':'3'            }\n",
    "    updated_sentences = []\n",
    "    for sentence in sentences:\n",
    "        words = sentence.split()\n",
    "        for i in range(len(words)):\n",
    "            if words[i] in homophones:\n",
    "                words[i] = homophones[words[i]]\n",
    "        updated_sentence = \" \".join(words)\n",
    "        updated_sentences.append(updated_sentence)\n",
    "    return \" \".join(updated_sentences)\n"
   ]
  },
  {
   "cell_type": "code",
   "execution_count": 56,
   "id": "b7b52028",
   "metadata": {},
   "outputs": [
    {
     "name": "stdout",
     "output_type": "stream",
     "text": [
      "A patient number is 13 2 5 2 3 Patient number 1 2 1913 Number 10 2 203 History placed by technician Vitals one. number 1 2 1894 I'm recording 4 calibration. Number 10 2 203 patient 3 2 9702\n"
     ]
    }
   ],
   "source": [
    "sentences = [\n",
    "    \"A patient number is 13 to 5 to three.\",\n",
    "    \"Patient number 1 to 1913\",\n",
    "    \"Number 10 to 203 History placed by technician Vitals one.\",\n",
    "    \"number 1 to 1894\",\n",
    "    \"I'm recording for calibration. Number 10 to 203\",\n",
    "    \"patient 3 to 9702\"\n",
    "]\n",
    "\n",
    "print(replace_homophones(sentences))\n"
   ]
  },
  {
   "cell_type": "code",
   "execution_count": null,
   "id": "0e3f7ffc",
   "metadata": {},
   "outputs": [],
   "source": []
  },
  {
   "cell_type": "code",
   "execution_count": null,
   "id": "1c323d29",
   "metadata": {},
   "outputs": [],
   "source": [
    "#ALternative code"
   ]
  },
  {
   "cell_type": "code",
   "execution_count": 26,
   "id": "f6ddef0e",
   "metadata": {},
   "outputs": [],
   "source": [
    "def replace_homophones(sentences):\n",
    "    homophones = {\"one\": \"1\",\n",
    "    \"to\": \"2\",\n",
    "    \"too\": \"2\",\n",
    "    \"three\": \"3\",\n",
    "    \"for\": \"4\",\n",
    "    \"five\": \"5\",\n",
    "    \"six\": \"6\",\n",
    "    \"seven\": \"7\",\n",
    "    \"eight\": \"8\",\n",
    "    \"nine\": \"9\",\n",
    "    \"zero\": \"0\",\n",
    "    'oh': '0',\n",
    "    'two': '2'}\n",
    "    updated_sentences = []\n",
    "    for sentence in sentences:\n",
    "        words = sentence.split()\n",
    "        for i in range(len(words)):\n",
    "            word = words[i]\n",
    "            if word.lower() in homophones:\n",
    "                words[i] = homophones[word.lower()]\n",
    "        updated_sentences.append(\"\".join(words))\n",
    "    return \" \".join(updated_sentences)\n"
   ]
  },
  {
   "cell_type": "code",
   "execution_count": 27,
   "id": "f8b95562",
   "metadata": {},
   "outputs": [
    {
     "name": "stdout",
     "output_type": "stream",
     "text": [
      "Apatientnumberis13252three. Patientnumber121913 Number102203HistoryplacedbytechnicianVitalsone. number121894 I'mrecording4calibration.Number102203 patient329702\n"
     ]
    }
   ],
   "source": [
    "sentences = [\n",
    "    \"A patient number is 13 to 5 to three.\",\n",
    "    \"Patient number 1 to 1913\",\n",
    "    \"Number 10 to 203 History placed by technician Vitals one.\",\n",
    "    \"number 1 to 1894\",\n",
    "    \"I'm recording for calibration. Number 10 to 203\",\n",
    "    \"patient 3 to 9702\"\n",
    "]\n",
    "\n",
    "print(replace_homophones(sentences))\n"
   ]
  },
  {
   "cell_type": "code",
   "execution_count": null,
   "id": "e9f49ba0",
   "metadata": {},
   "outputs": [],
   "source": []
  },
  {
   "cell_type": "code",
   "execution_count": null,
   "id": "e025f08e",
   "metadata": {},
   "outputs": [],
   "source": []
  },
  {
   "cell_type": "code",
   "execution_count": null,
   "id": "2f5cf8a9",
   "metadata": {},
   "outputs": [],
   "source": []
  },
  {
   "cell_type": "code",
   "execution_count": null,
   "id": "e9972f3a",
   "metadata": {},
   "outputs": [],
   "source": []
  },
  {
   "cell_type": "code",
   "execution_count": null,
   "id": "f8312856",
   "metadata": {},
   "outputs": [],
   "source": []
  },
  {
   "cell_type": "code",
   "execution_count": null,
   "id": "13469f6a",
   "metadata": {},
   "outputs": [],
   "source": []
  },
  {
   "cell_type": "code",
   "execution_count": null,
   "id": "59f60fa5",
   "metadata": {},
   "outputs": [],
   "source": []
  }
 ],
 "metadata": {
  "kernelspec": {
   "display_name": "Python 3 (ipykernel)",
   "language": "python",
   "name": "python3"
  },
  "language_info": {
   "codemirror_mode": {
    "name": "ipython",
    "version": 3
   },
   "file_extension": ".py",
   "mimetype": "text/x-python",
   "name": "python",
   "nbconvert_exporter": "python",
   "pygments_lexer": "ipython3",
   "version": "3.9.13"
  }
 },
 "nbformat": 4,
 "nbformat_minor": 5
}
