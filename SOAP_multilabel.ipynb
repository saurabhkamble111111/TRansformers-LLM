{
  "nbformat": 4,
  "nbformat_minor": 0,
  "metadata": {
    "colab": {
      "provenance": []
    },
    "kernelspec": {
      "name": "python3",
      "display_name": "Python 3"
    },
    "language_info": {
      "name": "python"
    }
  },
  "cells": [
    {
      "cell_type": "code",
      "execution_count": null,
      "metadata": {
        "id": "tD002X8wlUC8"
      },
      "outputs": [],
      "source": [
        "import pandas as pd\n",
        "import numpy as np"
      ]
    },
    {
      "cell_type": "code",
      "source": [
        "import spacy"
      ],
      "metadata": {
        "colab": {
          "base_uri": "https://localhost:8080/"
        },
        "id": "T8wWbWRG6ZFs",
        "outputId": "8a3825e5-27aa-4258-ef64-3066df62eb54"
      },
      "execution_count": null,
      "outputs": [
        {
          "output_type": "stream",
          "name": "stderr",
          "text": [
            "/usr/local/lib/python3.9/dist-packages/torch/cuda/__init__.py:497: UserWarning: Can't initialize NVML\n",
            "  warnings.warn(\"Can't initialize NVML\")\n"
          ]
        }
      ]
    },
    {
      "cell_type": "code",
      "source": [],
      "metadata": {
        "id": "5iTrgCcpfEi1"
      },
      "execution_count": null,
      "outputs": []
    },
    {
      "cell_type": "code",
      "source": [
        "import pandas as pd\n",
        "\n",
        "data = [\n",
        "    {\"text\": \"The patient reports feeling dizzy and short of breath.\", \"cats\": {\"SUBJECTIVE\": True, \"OBJECTIVE\": False, \"ASSESSMENT\": False, \"PLAN\": False}},\n",
        "    {\"text\": \"Upon examination, the patient's blood pressure is elevated.\", \"cats\": {\"SUBJECTIVE\": False, \"OBJECTIVE\": True, \"ASSESSMENT\": False, \"PLAN\": False}},\n",
        "    {\"text\": \"The patient has a history of heart disease and hypertension.\", \"cats\": {\"SUBJECTIVE\": False, \"OBJECTIVE\": False, \"ASSESSMENT\": True, \"PLAN\": False}},\n",
        "    {\"text\": \"The patient's cholesterol levels are higher than normal.\", \"cats\": {\"SUBJECTIVE\": False, \"OBJECTIVE\": True, \"ASSESSMENT\": False, \"PLAN\": False}},\n",
        "    {\"text\": \"The patient reports experiencing chest pain during physical activity.\", \"cats\": {\"SUBJECTIVE\": True, \"OBJECTIVE\": False, \"ASSESSMENT\": False, \"PLAN\": False}},\n",
        "    {\"text\": \"The patient's family has a history of diabetes.\", \"cats\": {\"SUBJECTIVE\": False, \"OBJECTIVE\": False, \"ASSESSMENT\": True, \"PLAN\": False}},\n",
        "    {\"text\": \"The patient is experiencing difficulty sleeping and feels fatigued during the day.\", \"cats\": {\"SUBJECTIVE\": True, \"OBJECTIVE\": False, \"ASSESSMENT\": False, \"PLAN\": False}},\n",
        "    {\"text\": \"The patient has a persistent cough and has been coughing up mucus.\", \"cats\": {\"SUBJECTIVE\": True, \"OBJECTIVE\": True, \"ASSESSMENT\": False, \"PLAN\": True}},\n",
        "    {\"text\": \"The patient's skin is dry and itchy.\", \"cats\": {\"SUBJECTIVE\": False, \"OBJECTIVE\": True, \"ASSESSMENT\": False, \"PLAN\": False}},\n",
        "    {\"text\": \"The patient has a fever and reports feeling achy.\", \"cats\": {\"SUBJECTIVE\": True, \"OBJECTIVE\": False, \"ASSESSMENT\": False, \"PLAN\": True}},\n",
        "    {\"text\": \"The patient reports experiencing nausea and vomiting.\", \"cats\": {\"SUBJECTIVE\": True, \"OBJECTIVE\": False, \"ASSESSMENT\": False, \"PLAN\": True}},\n",
        "    {\"text\": \"The patient's urine appears dark and cloudy.\", \"cats\": {\"SUBJECTIVE\": False, \"OBJECTIVE\": True, \"ASSESSMENT\": False, \"PLAN\": True}},\n",
        "    {\"text\": \"The patient has a history of substance abuse.\", \"cats\": {\"SUBJECTIVE\": False, \"OBJECTIVE\": False, \"ASSESSMENT\": True, \"PLAN\": False}},\n",
        "    {\"text\": \"The patient has difficulty maintaining concentration and focus.\", \"cats\": {\"SUBJECTIVE\": True, \"OBJECTIVE\": False, \"ASSESSMENT\": False, \"PLAN\": True}},\n",
        "    {\"text\": \"The patient reports feeling anxious and restless.\", \"cats\": {\"SUBJECTIVE\": True, \"OBJECTIVE\": False, \"ASSESSMENT\": False, \"PLAN\": True}},\n",
        "    {\"text\": \"The patient's joints are swollen and painful.\", \"cats\": {\"SUBJECTIVE\": True, \"OBJECTIVE\": True, \"ASSESSMENT\": False, \"PLAN\": True}},\n",
        "    {\"text\": \"The patient has a history of asthma and allergies.\", \"cats\": {\"SUBJECTIVE\": False, \"OBJECTIVE\": False, \"ASSESSMENT\": True, \"PLAN\": False}},\n",
        "    {\"text\": \"The patient has been experiencing abdominal pain and diarrhea.\", \"cats\": {\"SUBJECTIVE\": True, \"OBJECTIVE\": False, \"ASSESSMENT\": False, \"PLAN\": True}},\n",
        "    {\"text\": \"The patient's eyes are red and itchy.\", \"cats\": {\"SUBJECTIVE\": False, \"OBJECTIVE\": True, \"ASSESSMENT\": False, \"PLAN\": False}},\n",
        "    {\"text\": \"The patient reports feeling depressed and hopeless.\", \"cats\": {\"SUBJECTIVE\": True, \"OBJECTIVE\": False, \"ASSESSMENT\": False, \"PLAN\": True}},\n",
        "    {\"text\": \"The patient has a history of liver disease.\", \"cats\": {\"SUBJECTIVE\": False, \"OBJECTIVE\": False, \"ASSESSMENT\": True, \"PLAN\": False}},\n",
        "    {\"text\": \"The patient's wound appears infected and is not healing properly.\", \"cats\": {\"SUBJECTIVE\": False, \"OBJECTIVE\": True, \"ASSESSMENT\": True, \"PLAN\": True}},\n",
        "    {\"text\": \"The patient reports difficulty swallowing and has been experiencing weight loss.\", \"cats\": {\"SUBJECTIVE\": True, \"OBJECTIVE\": False, \"ASSESSMENT\": False, \"PLAN\": True}},\n",
        "    {\"text\": \"The patient's heart rate is irregular and fast.\", \"cats\": {\"SUBJECTIVE\": False, \"OBJECTIVE\": True, \"ASSESSMENT\": False, \"PLAN\": False}},\n",
        "    {\"text\": \"The patient reports feeling lightheaded and faint.\", \"cats\": {\"SUBJECTIVE\": True, \"OBJECTIVE\": False, \"ASSESSMENT\": False, \"PLAN\": False}},\n",
        "    {\"text\": \"The patient has a history of cancer and is undergoing chemotherapy.\", \"cats\": {\"SUBJECTIVE\": False, \"OBJECTIVE\": False, \"ASSESSMENT\": True, \"PLAN\": True}},\n",
        "    {\"text\": \"The patient reports feeling itchy and experiencing hives on their skin.\", \"cats\": {\"SUBJECTIVE\": True, \"OBJECTIVE\": False, \"ASSESSMENT\": False, \"PLAN\": True}},\n",
        "    {\"text\": \"The patient's vision is blurry and they report seeing floaters.\", \"cats\": {\"SUBJECTIVE\": False, \"OBJECTIVE\": True, \"ASSESSMENT\": False, \"PLAN\": False}},\n",
        "    {\"text\": \"The patient reports difficulty breathing and wheezing.\", \"cats\": {\"SUBJECTIVE\": True, \"OBJECTIVE\": False, \"ASSESSMENT\": False, \"PLAN\": True}},\n",
        "    {\"text\": \"The patient's mobility is impaired and they require assistance walking.\", \"cats\": {\"SUBJECTIVE\": False, \"OBJECTIVE\": True, \"ASSESSMENT\": False, \"PLAN\": True}},\n",
        "    {\"text\": \"The patient has a history of stroke and has been experiencing weakness in one side of their body.\", \"cats\": {\"SUBJECTIVE\": False, \"OBJECTIVE\": False, \"ASSESSMENT\": True, \"PLAN\": True}},\n",
        "    {\"text\": \"The patient's hearing is impaired and they report ringing in their ears.\", \"cats\": {\"SUBJECTIVE\": False, \"OBJECTIVE\": True, \"ASSESSMENT\": False, \"PLAN\": False}},\n",
        "    {\"text\": \"The patient has been experiencing frequent urination and a burning sensation.\", \"cats\": {\"SUBJECTIVE\": True, \"OBJECTIVE\": False, \"ASSESSMENT\": False, \"PLAN\": True}}\n",
        "]\n"
      ],
      "metadata": {
        "id": "oH5ywlNko8kD"
      },
      "execution_count": null,
      "outputs": []
    },
    {
      "cell_type": "code",
      "source": [
        "# create a DataFrame from the list of dictionaries\n",
        "df = pd.DataFrame(data)\n",
        "df.head()"
      ],
      "metadata": {
        "colab": {
          "base_uri": "https://localhost:8080/",
          "height": 206
        },
        "id": "u553KEiAG8QX",
        "outputId": "3ac7dd1e-9d7e-48a9-f878-7b9a7cbe061b"
      },
      "execution_count": null,
      "outputs": [
        {
          "output_type": "execute_result",
          "data": {
            "text/plain": [
              "                                                text  \\\n",
              "0  The patient reports feeling dizzy and short of...   \n",
              "1  Upon examination, the patient's blood pressure...   \n",
              "2  The patient has a history of heart disease and...   \n",
              "3  The patient's cholesterol levels are higher th...   \n",
              "4  The patient reports experiencing chest pain du...   \n",
              "\n",
              "                                                cats  \n",
              "0  {'SUBJECTIVE': True, 'OBJECTIVE': False, 'ASSE...  \n",
              "1  {'SUBJECTIVE': False, 'OBJECTIVE': True, 'ASSE...  \n",
              "2  {'SUBJECTIVE': False, 'OBJECTIVE': False, 'ASS...  \n",
              "3  {'SUBJECTIVE': False, 'OBJECTIVE': True, 'ASSE...  \n",
              "4  {'SUBJECTIVE': True, 'OBJECTIVE': False, 'ASSE...  "
            ],
            "text/html": [
              "\n",
              "  <div id=\"df-363cf311-ede4-487a-973c-fd9a02368660\">\n",
              "    <div class=\"colab-df-container\">\n",
              "      <div>\n",
              "<style scoped>\n",
              "    .dataframe tbody tr th:only-of-type {\n",
              "        vertical-align: middle;\n",
              "    }\n",
              "\n",
              "    .dataframe tbody tr th {\n",
              "        vertical-align: top;\n",
              "    }\n",
              "\n",
              "    .dataframe thead th {\n",
              "        text-align: right;\n",
              "    }\n",
              "</style>\n",
              "<table border=\"1\" class=\"dataframe\">\n",
              "  <thead>\n",
              "    <tr style=\"text-align: right;\">\n",
              "      <th></th>\n",
              "      <th>text</th>\n",
              "      <th>cats</th>\n",
              "    </tr>\n",
              "  </thead>\n",
              "  <tbody>\n",
              "    <tr>\n",
              "      <th>0</th>\n",
              "      <td>The patient reports feeling dizzy and short of...</td>\n",
              "      <td>{'SUBJECTIVE': True, 'OBJECTIVE': False, 'ASSE...</td>\n",
              "    </tr>\n",
              "    <tr>\n",
              "      <th>1</th>\n",
              "      <td>Upon examination, the patient's blood pressure...</td>\n",
              "      <td>{'SUBJECTIVE': False, 'OBJECTIVE': True, 'ASSE...</td>\n",
              "    </tr>\n",
              "    <tr>\n",
              "      <th>2</th>\n",
              "      <td>The patient has a history of heart disease and...</td>\n",
              "      <td>{'SUBJECTIVE': False, 'OBJECTIVE': False, 'ASS...</td>\n",
              "    </tr>\n",
              "    <tr>\n",
              "      <th>3</th>\n",
              "      <td>The patient's cholesterol levels are higher th...</td>\n",
              "      <td>{'SUBJECTIVE': False, 'OBJECTIVE': True, 'ASSE...</td>\n",
              "    </tr>\n",
              "    <tr>\n",
              "      <th>4</th>\n",
              "      <td>The patient reports experiencing chest pain du...</td>\n",
              "      <td>{'SUBJECTIVE': True, 'OBJECTIVE': False, 'ASSE...</td>\n",
              "    </tr>\n",
              "  </tbody>\n",
              "</table>\n",
              "</div>\n",
              "      <button class=\"colab-df-convert\" onclick=\"convertToInteractive('df-363cf311-ede4-487a-973c-fd9a02368660')\"\n",
              "              title=\"Convert this dataframe to an interactive table.\"\n",
              "              style=\"display:none;\">\n",
              "        \n",
              "  <svg xmlns=\"http://www.w3.org/2000/svg\" height=\"24px\"viewBox=\"0 0 24 24\"\n",
              "       width=\"24px\">\n",
              "    <path d=\"M0 0h24v24H0V0z\" fill=\"none\"/>\n",
              "    <path d=\"M18.56 5.44l.94 2.06.94-2.06 2.06-.94-2.06-.94-.94-2.06-.94 2.06-2.06.94zm-11 1L8.5 8.5l.94-2.06 2.06-.94-2.06-.94L8.5 2.5l-.94 2.06-2.06.94zm10 10l.94 2.06.94-2.06 2.06-.94-2.06-.94-.94-2.06-.94 2.06-2.06.94z\"/><path d=\"M17.41 7.96l-1.37-1.37c-.4-.4-.92-.59-1.43-.59-.52 0-1.04.2-1.43.59L10.3 9.45l-7.72 7.72c-.78.78-.78 2.05 0 2.83L4 21.41c.39.39.9.59 1.41.59.51 0 1.02-.2 1.41-.59l7.78-7.78 2.81-2.81c.8-.78.8-2.07 0-2.86zM5.41 20L4 18.59l7.72-7.72 1.47 1.35L5.41 20z\"/>\n",
              "  </svg>\n",
              "      </button>\n",
              "      \n",
              "  <style>\n",
              "    .colab-df-container {\n",
              "      display:flex;\n",
              "      flex-wrap:wrap;\n",
              "      gap: 12px;\n",
              "    }\n",
              "\n",
              "    .colab-df-convert {\n",
              "      background-color: #E8F0FE;\n",
              "      border: none;\n",
              "      border-radius: 50%;\n",
              "      cursor: pointer;\n",
              "      display: none;\n",
              "      fill: #1967D2;\n",
              "      height: 32px;\n",
              "      padding: 0 0 0 0;\n",
              "      width: 32px;\n",
              "    }\n",
              "\n",
              "    .colab-df-convert:hover {\n",
              "      background-color: #E2EBFA;\n",
              "      box-shadow: 0px 1px 2px rgba(60, 64, 67, 0.3), 0px 1px 3px 1px rgba(60, 64, 67, 0.15);\n",
              "      fill: #174EA6;\n",
              "    }\n",
              "\n",
              "    [theme=dark] .colab-df-convert {\n",
              "      background-color: #3B4455;\n",
              "      fill: #D2E3FC;\n",
              "    }\n",
              "\n",
              "    [theme=dark] .colab-df-convert:hover {\n",
              "      background-color: #434B5C;\n",
              "      box-shadow: 0px 1px 3px 1px rgba(0, 0, 0, 0.15);\n",
              "      filter: drop-shadow(0px 1px 2px rgba(0, 0, 0, 0.3));\n",
              "      fill: #FFFFFF;\n",
              "    }\n",
              "  </style>\n",
              "\n",
              "      <script>\n",
              "        const buttonEl =\n",
              "          document.querySelector('#df-363cf311-ede4-487a-973c-fd9a02368660 button.colab-df-convert');\n",
              "        buttonEl.style.display =\n",
              "          google.colab.kernel.accessAllowed ? 'block' : 'none';\n",
              "\n",
              "        async function convertToInteractive(key) {\n",
              "          const element = document.querySelector('#df-363cf311-ede4-487a-973c-fd9a02368660');\n",
              "          const dataTable =\n",
              "            await google.colab.kernel.invokeFunction('convertToInteractive',\n",
              "                                                     [key], {});\n",
              "          if (!dataTable) return;\n",
              "\n",
              "          const docLinkHtml = 'Like what you see? Visit the ' +\n",
              "            '<a target=\"_blank\" href=https://colab.research.google.com/notebooks/data_table.ipynb>data table notebook</a>'\n",
              "            + ' to learn more about interactive tables.';\n",
              "          element.innerHTML = '';\n",
              "          dataTable['output_type'] = 'display_data';\n",
              "          await google.colab.output.renderOutput(dataTable, element);\n",
              "          const docLink = document.createElement('div');\n",
              "          docLink.innerHTML = docLinkHtml;\n",
              "          element.appendChild(docLink);\n",
              "        }\n",
              "      </script>\n",
              "    </div>\n",
              "  </div>\n",
              "  "
            ]
          },
          "metadata": {},
          "execution_count": 66
        }
      ]
    },
    {
      "cell_type": "code",
      "source": [
        "df.shape"
      ],
      "metadata": {
        "colab": {
          "base_uri": "https://localhost:8080/"
        },
        "id": "4J_ituinyC2M",
        "outputId": "ee4746d5-a002-4f42-933a-2b8922b39c27"
      },
      "execution_count": null,
      "outputs": [
        {
          "output_type": "execute_result",
          "data": {
            "text/plain": [
              "(33, 2)"
            ]
          },
          "metadata": {},
          "execution_count": 63
        }
      ]
    },
    {
      "cell_type": "code",
      "source": [
        "# define a function to transform the dictionary to a list\n",
        "def transform(cats):\n",
        "    return [key for key, value in cats.items() if value]\n",
        "\n",
        "\n",
        "df['cats'] = df['cats'].apply(transform)\n",
        "df.head(10)"
      ],
      "metadata": {
        "colab": {
          "base_uri": "https://localhost:8080/",
          "height": 363
        },
        "id": "zTRyUnSYb0uh",
        "outputId": "301abd95-dddf-449d-8e77-04994952027d"
      },
      "execution_count": null,
      "outputs": [
        {
          "output_type": "execute_result",
          "data": {
            "text/plain": [
              "                                                text  \\\n",
              "0  The patient reports feeling dizzy and short of...   \n",
              "1  Upon examination, the patient's blood pressure...   \n",
              "2  The patient has a history of heart disease and...   \n",
              "3  The patient's cholesterol levels are higher th...   \n",
              "4  The patient reports experiencing chest pain du...   \n",
              "5    The patient's family has a history of diabetes.   \n",
              "6  The patient is experiencing difficulty sleepin...   \n",
              "7  The patient has a persistent cough and has bee...   \n",
              "8               The patient's skin is dry and itchy.   \n",
              "9  The patient has a fever and reports feeling achy.   \n",
              "\n",
              "                            cats  \n",
              "0                   [SUBJECTIVE]  \n",
              "1                    [OBJECTIVE]  \n",
              "2                   [ASSESSMENT]  \n",
              "3                    [OBJECTIVE]  \n",
              "4                   [SUBJECTIVE]  \n",
              "5                   [ASSESSMENT]  \n",
              "6                   [SUBJECTIVE]  \n",
              "7  [SUBJECTIVE, OBJECTIVE, PLAN]  \n",
              "8                    [OBJECTIVE]  \n",
              "9             [SUBJECTIVE, PLAN]  "
            ],
            "text/html": [
              "\n",
              "  <div id=\"df-953a3f51-dea1-4b57-8576-d23402598778\">\n",
              "    <div class=\"colab-df-container\">\n",
              "      <div>\n",
              "<style scoped>\n",
              "    .dataframe tbody tr th:only-of-type {\n",
              "        vertical-align: middle;\n",
              "    }\n",
              "\n",
              "    .dataframe tbody tr th {\n",
              "        vertical-align: top;\n",
              "    }\n",
              "\n",
              "    .dataframe thead th {\n",
              "        text-align: right;\n",
              "    }\n",
              "</style>\n",
              "<table border=\"1\" class=\"dataframe\">\n",
              "  <thead>\n",
              "    <tr style=\"text-align: right;\">\n",
              "      <th></th>\n",
              "      <th>text</th>\n",
              "      <th>cats</th>\n",
              "    </tr>\n",
              "  </thead>\n",
              "  <tbody>\n",
              "    <tr>\n",
              "      <th>0</th>\n",
              "      <td>The patient reports feeling dizzy and short of...</td>\n",
              "      <td>[SUBJECTIVE]</td>\n",
              "    </tr>\n",
              "    <tr>\n",
              "      <th>1</th>\n",
              "      <td>Upon examination, the patient's blood pressure...</td>\n",
              "      <td>[OBJECTIVE]</td>\n",
              "    </tr>\n",
              "    <tr>\n",
              "      <th>2</th>\n",
              "      <td>The patient has a history of heart disease and...</td>\n",
              "      <td>[ASSESSMENT]</td>\n",
              "    </tr>\n",
              "    <tr>\n",
              "      <th>3</th>\n",
              "      <td>The patient's cholesterol levels are higher th...</td>\n",
              "      <td>[OBJECTIVE]</td>\n",
              "    </tr>\n",
              "    <tr>\n",
              "      <th>4</th>\n",
              "      <td>The patient reports experiencing chest pain du...</td>\n",
              "      <td>[SUBJECTIVE]</td>\n",
              "    </tr>\n",
              "    <tr>\n",
              "      <th>5</th>\n",
              "      <td>The patient's family has a history of diabetes.</td>\n",
              "      <td>[ASSESSMENT]</td>\n",
              "    </tr>\n",
              "    <tr>\n",
              "      <th>6</th>\n",
              "      <td>The patient is experiencing difficulty sleepin...</td>\n",
              "      <td>[SUBJECTIVE]</td>\n",
              "    </tr>\n",
              "    <tr>\n",
              "      <th>7</th>\n",
              "      <td>The patient has a persistent cough and has bee...</td>\n",
              "      <td>[SUBJECTIVE, OBJECTIVE, PLAN]</td>\n",
              "    </tr>\n",
              "    <tr>\n",
              "      <th>8</th>\n",
              "      <td>The patient's skin is dry and itchy.</td>\n",
              "      <td>[OBJECTIVE]</td>\n",
              "    </tr>\n",
              "    <tr>\n",
              "      <th>9</th>\n",
              "      <td>The patient has a fever and reports feeling achy.</td>\n",
              "      <td>[SUBJECTIVE, PLAN]</td>\n",
              "    </tr>\n",
              "  </tbody>\n",
              "</table>\n",
              "</div>\n",
              "      <button class=\"colab-df-convert\" onclick=\"convertToInteractive('df-953a3f51-dea1-4b57-8576-d23402598778')\"\n",
              "              title=\"Convert this dataframe to an interactive table.\"\n",
              "              style=\"display:none;\">\n",
              "        \n",
              "  <svg xmlns=\"http://www.w3.org/2000/svg\" height=\"24px\"viewBox=\"0 0 24 24\"\n",
              "       width=\"24px\">\n",
              "    <path d=\"M0 0h24v24H0V0z\" fill=\"none\"/>\n",
              "    <path d=\"M18.56 5.44l.94 2.06.94-2.06 2.06-.94-2.06-.94-.94-2.06-.94 2.06-2.06.94zm-11 1L8.5 8.5l.94-2.06 2.06-.94-2.06-.94L8.5 2.5l-.94 2.06-2.06.94zm10 10l.94 2.06.94-2.06 2.06-.94-2.06-.94-.94-2.06-.94 2.06-2.06.94z\"/><path d=\"M17.41 7.96l-1.37-1.37c-.4-.4-.92-.59-1.43-.59-.52 0-1.04.2-1.43.59L10.3 9.45l-7.72 7.72c-.78.78-.78 2.05 0 2.83L4 21.41c.39.39.9.59 1.41.59.51 0 1.02-.2 1.41-.59l7.78-7.78 2.81-2.81c.8-.78.8-2.07 0-2.86zM5.41 20L4 18.59l7.72-7.72 1.47 1.35L5.41 20z\"/>\n",
              "  </svg>\n",
              "      </button>\n",
              "      \n",
              "  <style>\n",
              "    .colab-df-container {\n",
              "      display:flex;\n",
              "      flex-wrap:wrap;\n",
              "      gap: 12px;\n",
              "    }\n",
              "\n",
              "    .colab-df-convert {\n",
              "      background-color: #E8F0FE;\n",
              "      border: none;\n",
              "      border-radius: 50%;\n",
              "      cursor: pointer;\n",
              "      display: none;\n",
              "      fill: #1967D2;\n",
              "      height: 32px;\n",
              "      padding: 0 0 0 0;\n",
              "      width: 32px;\n",
              "    }\n",
              "\n",
              "    .colab-df-convert:hover {\n",
              "      background-color: #E2EBFA;\n",
              "      box-shadow: 0px 1px 2px rgba(60, 64, 67, 0.3), 0px 1px 3px 1px rgba(60, 64, 67, 0.15);\n",
              "      fill: #174EA6;\n",
              "    }\n",
              "\n",
              "    [theme=dark] .colab-df-convert {\n",
              "      background-color: #3B4455;\n",
              "      fill: #D2E3FC;\n",
              "    }\n",
              "\n",
              "    [theme=dark] .colab-df-convert:hover {\n",
              "      background-color: #434B5C;\n",
              "      box-shadow: 0px 1px 3px 1px rgba(0, 0, 0, 0.15);\n",
              "      filter: drop-shadow(0px 1px 2px rgba(0, 0, 0, 0.3));\n",
              "      fill: #FFFFFF;\n",
              "    }\n",
              "  </style>\n",
              "\n",
              "      <script>\n",
              "        const buttonEl =\n",
              "          document.querySelector('#df-953a3f51-dea1-4b57-8576-d23402598778 button.colab-df-convert');\n",
              "        buttonEl.style.display =\n",
              "          google.colab.kernel.accessAllowed ? 'block' : 'none';\n",
              "\n",
              "        async function convertToInteractive(key) {\n",
              "          const element = document.querySelector('#df-953a3f51-dea1-4b57-8576-d23402598778');\n",
              "          const dataTable =\n",
              "            await google.colab.kernel.invokeFunction('convertToInteractive',\n",
              "                                                     [key], {});\n",
              "          if (!dataTable) return;\n",
              "\n",
              "          const docLinkHtml = 'Like what you see? Visit the ' +\n",
              "            '<a target=\"_blank\" href=https://colab.research.google.com/notebooks/data_table.ipynb>data table notebook</a>'\n",
              "            + ' to learn more about interactive tables.';\n",
              "          element.innerHTML = '';\n",
              "          dataTable['output_type'] = 'display_data';\n",
              "          await google.colab.output.renderOutput(dataTable, element);\n",
              "          const docLink = document.createElement('div');\n",
              "          docLink.innerHTML = docLinkHtml;\n",
              "          element.appendChild(docLink);\n",
              "        }\n",
              "      </script>\n",
              "    </div>\n",
              "  </div>\n",
              "  "
            ]
          },
          "metadata": {},
          "execution_count": 67
        }
      ]
    },
    {
      "cell_type": "code",
      "source": [
        "\"\"\"\n",
        "# create a DataFrame from the list of dictionaries\n",
        "df = pd.DataFrame(data)\n",
        "\n",
        "# flatten the \"cats\" column into separate columns\n",
        "df = pd.json_normalize(df['cats']).merge(df, left_index=True, right_index=True)\n",
        "\n",
        "# drop the original \"cats\" column\n",
        "df = df.drop(columns='cats')\n",
        "\n",
        "# replace True with 1 and False with 0\n",
        "df = df.replace({True: 1, False: 0})\n",
        "\n",
        "# reorder the columns to have \"text\" first\n",
        "df = df[['text', 'SUBJECTIVE', 'OBJECTIVE', 'ASSESSMENT', 'PLAN']]\n",
        "\n",
        "\"\"\""
      ],
      "metadata": {
        "id": "pgm6tC9Yo-ur"
      },
      "execution_count": null,
      "outputs": []
    },
    {
      "cell_type": "code",
      "source": [],
      "metadata": {
        "id": "H-6ukFwEsOiP"
      },
      "execution_count": null,
      "outputs": []
    },
    {
      "cell_type": "code",
      "source": [
        "#df.to_csv('30_multilable_sample_soap.csv',index=False)"
      ],
      "metadata": {
        "id": "4fu-YxU7sOlk"
      },
      "execution_count": null,
      "outputs": []
    },
    {
      "cell_type": "code",
      "source": [
        "cats = [\"SUBJECTIVE\",\"OBJECTIVE\",\"ASSESSMENT\",\"PLAN\"]\n",
        "cats"
      ],
      "metadata": {
        "colab": {
          "base_uri": "https://localhost:8080/"
        },
        "id": "HfJc0yW6tF4D",
        "outputId": "02479619-3032-4c2d-bde6-0debd98d386e"
      },
      "execution_count": null,
      "outputs": [
        {
          "output_type": "execute_result",
          "data": {
            "text/plain": [
              "['SUBJECTIVE', 'OBJECTIVE', 'ASSESSMENT', 'PLAN']"
            ]
          },
          "metadata": {},
          "execution_count": 68
        }
      ]
    },
    {
      "cell_type": "code",
      "source": [],
      "metadata": {
        "id": "KXD_Isv-6mj7"
      },
      "execution_count": null,
      "outputs": []
    },
    {
      "cell_type": "code",
      "source": [
        "pip install https://s3-us-west-2.amazonaws.com/ai2-s2-scispacy/releases/v0.5.1/en_core_sci_sm-0.5.1.tar.gz"
      ],
      "metadata": {
        "colab": {
          "base_uri": "https://localhost:8080/"
        },
        "id": "myUjGmk8x019",
        "outputId": "4f223c1c-f234-4d9a-824e-d374140b0759"
      },
      "execution_count": null,
      "outputs": [
        {
          "output_type": "stream",
          "name": "stdout",
          "text": [
            "Looking in indexes: https://pypi.org/simple, https://us-python.pkg.dev/colab-wheels/public/simple/\n",
            "Collecting https://s3-us-west-2.amazonaws.com/ai2-s2-scispacy/releases/v0.5.1/en_core_sci_sm-0.5.1.tar.gz\n",
            "  Using cached https://s3-us-west-2.amazonaws.com/ai2-s2-scispacy/releases/v0.5.1/en_core_sci_sm-0.5.1.tar.gz (15.9 MB)\n",
            "  Preparing metadata (setup.py) ... \u001b[?25l\u001b[?25hdone\n",
            "Requirement already satisfied: spacy<3.5.0,>=3.4.1 in /usr/local/lib/python3.9/dist-packages (from en-core-sci-sm==0.5.1) (3.4.4)\n",
            "Requirement already satisfied: requests<3.0.0,>=2.13.0 in /usr/local/lib/python3.9/dist-packages (from spacy<3.5.0,>=3.4.1->en-core-sci-sm==0.5.1) (2.25.1)\n",
            "Requirement already satisfied: cymem<2.1.0,>=2.0.2 in /usr/local/lib/python3.9/dist-packages (from spacy<3.5.0,>=3.4.1->en-core-sci-sm==0.5.1) (2.0.7)\n",
            "Requirement already satisfied: srsly<3.0.0,>=2.4.3 in /usr/local/lib/python3.9/dist-packages (from spacy<3.5.0,>=3.4.1->en-core-sci-sm==0.5.1) (2.4.6)\n",
            "Requirement already satisfied: wasabi<1.1.0,>=0.9.1 in /usr/local/lib/python3.9/dist-packages (from spacy<3.5.0,>=3.4.1->en-core-sci-sm==0.5.1) (0.10.1)\n",
            "Requirement already satisfied: smart-open<7.0.0,>=5.2.1 in /usr/local/lib/python3.9/dist-packages (from spacy<3.5.0,>=3.4.1->en-core-sci-sm==0.5.1) (6.3.0)\n",
            "Requirement already satisfied: tqdm<5.0.0,>=4.38.0 in /usr/local/lib/python3.9/dist-packages (from spacy<3.5.0,>=3.4.1->en-core-sci-sm==0.5.1) (4.65.0)\n",
            "Requirement already satisfied: preshed<3.1.0,>=3.0.2 in /usr/local/lib/python3.9/dist-packages (from spacy<3.5.0,>=3.4.1->en-core-sci-sm==0.5.1) (3.0.8)\n",
            "Requirement already satisfied: typer<0.8.0,>=0.3.0 in /usr/local/lib/python3.9/dist-packages (from spacy<3.5.0,>=3.4.1->en-core-sci-sm==0.5.1) (0.7.0)\n",
            "Requirement already satisfied: setuptools in /usr/local/lib/python3.9/dist-packages (from spacy<3.5.0,>=3.4.1->en-core-sci-sm==0.5.1) (57.4.0)\n",
            "Requirement already satisfied: numpy>=1.15.0 in /usr/local/lib/python3.9/dist-packages (from spacy<3.5.0,>=3.4.1->en-core-sci-sm==0.5.1) (1.22.4)\n",
            "Requirement already satisfied: packaging>=20.0 in /usr/local/lib/python3.9/dist-packages (from spacy<3.5.0,>=3.4.1->en-core-sci-sm==0.5.1) (23.0)\n",
            "Requirement already satisfied: thinc<8.2.0,>=8.1.0 in /usr/local/lib/python3.9/dist-packages (from spacy<3.5.0,>=3.4.1->en-core-sci-sm==0.5.1) (8.1.8)\n",
            "Requirement already satisfied: catalogue<2.1.0,>=2.0.6 in /usr/local/lib/python3.9/dist-packages (from spacy<3.5.0,>=3.4.1->en-core-sci-sm==0.5.1) (2.0.8)\n",
            "Requirement already satisfied: spacy-legacy<3.1.0,>=3.0.10 in /usr/local/lib/python3.9/dist-packages (from spacy<3.5.0,>=3.4.1->en-core-sci-sm==0.5.1) (3.0.12)\n",
            "Requirement already satisfied: pathy>=0.3.5 in /usr/local/lib/python3.9/dist-packages (from spacy<3.5.0,>=3.4.1->en-core-sci-sm==0.5.1) (0.10.1)\n",
            "Requirement already satisfied: jinja2 in /usr/local/lib/python3.9/dist-packages (from spacy<3.5.0,>=3.4.1->en-core-sci-sm==0.5.1) (3.1.2)\n",
            "Requirement already satisfied: spacy-loggers<2.0.0,>=1.0.0 in /usr/local/lib/python3.9/dist-packages (from spacy<3.5.0,>=3.4.1->en-core-sci-sm==0.5.1) (1.0.4)\n",
            "Requirement already satisfied: murmurhash<1.1.0,>=0.28.0 in /usr/local/lib/python3.9/dist-packages (from spacy<3.5.0,>=3.4.1->en-core-sci-sm==0.5.1) (1.0.9)\n",
            "Requirement already satisfied: pydantic!=1.8,!=1.8.1,<1.11.0,>=1.7.4 in /usr/local/lib/python3.9/dist-packages (from spacy<3.5.0,>=3.4.1->en-core-sci-sm==0.5.1) (1.10.5)\n",
            "Requirement already satisfied: langcodes<4.0.0,>=3.2.0 in /usr/local/lib/python3.9/dist-packages (from spacy<3.5.0,>=3.4.1->en-core-sci-sm==0.5.1) (3.3.0)\n",
            "Requirement already satisfied: typing-extensions>=4.2.0 in /usr/local/lib/python3.9/dist-packages (from pydantic!=1.8,!=1.8.1,<1.11.0,>=1.7.4->spacy<3.5.0,>=3.4.1->en-core-sci-sm==0.5.1) (4.5.0)\n",
            "Requirement already satisfied: urllib3<1.27,>=1.21.1 in /usr/local/lib/python3.9/dist-packages (from requests<3.0.0,>=2.13.0->spacy<3.5.0,>=3.4.1->en-core-sci-sm==0.5.1) (1.26.14)\n",
            "Requirement already satisfied: certifi>=2017.4.17 in /usr/local/lib/python3.9/dist-packages (from requests<3.0.0,>=2.13.0->spacy<3.5.0,>=3.4.1->en-core-sci-sm==0.5.1) (2022.12.7)\n",
            "Requirement already satisfied: idna<3,>=2.5 in /usr/local/lib/python3.9/dist-packages (from requests<3.0.0,>=2.13.0->spacy<3.5.0,>=3.4.1->en-core-sci-sm==0.5.1) (2.10)\n",
            "Requirement already satisfied: chardet<5,>=3.0.2 in /usr/local/lib/python3.9/dist-packages (from requests<3.0.0,>=2.13.0->spacy<3.5.0,>=3.4.1->en-core-sci-sm==0.5.1) (4.0.0)\n",
            "Requirement already satisfied: blis<0.8.0,>=0.7.8 in /usr/local/lib/python3.9/dist-packages (from thinc<8.2.0,>=8.1.0->spacy<3.5.0,>=3.4.1->en-core-sci-sm==0.5.1) (0.7.9)\n",
            "Requirement already satisfied: confection<1.0.0,>=0.0.1 in /usr/local/lib/python3.9/dist-packages (from thinc<8.2.0,>=8.1.0->spacy<3.5.0,>=3.4.1->en-core-sci-sm==0.5.1) (0.0.4)\n",
            "Requirement already satisfied: click<9.0.0,>=7.1.1 in /usr/local/lib/python3.9/dist-packages (from typer<0.8.0,>=0.3.0->spacy<3.5.0,>=3.4.1->en-core-sci-sm==0.5.1) (8.1.3)\n",
            "Requirement already satisfied: MarkupSafe>=2.0 in /usr/local/lib/python3.9/dist-packages (from jinja2->spacy<3.5.0,>=3.4.1->en-core-sci-sm==0.5.1) (2.1.2)\n"
          ]
        }
      ]
    },
    {
      "cell_type": "code",
      "source": [
        "import spacy\n",
        "print(spacy.__version__)"
      ],
      "metadata": {
        "colab": {
          "base_uri": "https://localhost:8080/"
        },
        "id": "JEsH-Jt4x5cx",
        "outputId": "0b8e3ad8-28b4-4f42-c517-ac1729951e96"
      },
      "execution_count": null,
      "outputs": [
        {
          "output_type": "stream",
          "name": "stdout",
          "text": [
            "3.4.4\n"
          ]
        }
      ]
    },
    {
      "cell_type": "code",
      "source": [
        "from typing import Set, List, Tuple\n",
        "from spacy.tokens import DocBin"
      ],
      "metadata": {
        "id": "ndmWxmk2yRaE"
      },
      "execution_count": null,
      "outputs": []
    },
    {
      "cell_type": "code",
      "source": [
        "nlp = spacy.load(\"en_core_sci_sm\")"
      ],
      "metadata": {
        "id": "xrPVSYQ5dPO4"
      },
      "execution_count": null,
      "outputs": []
    },
    {
      "cell_type": "code",
      "source": [
        "def lemmatize_text(text):\n",
        "    doc = nlp(text)\n",
        "    lemmatized_text = \" \".join([token.lemma_ for token in doc])\n",
        "    return lemmatized_text"
      ],
      "metadata": {
        "id": "wJv3aoDGfroE"
      },
      "execution_count": null,
      "outputs": []
    },
    {
      "cell_type": "code",
      "source": [
        "# Apply the lemmatize_text function to the text column\n",
        "df['text'] = df['text'].apply(lemmatize_text)"
      ],
      "metadata": {
        "id": "Joq4uRm2fw1d"
      },
      "execution_count": null,
      "outputs": []
    },
    {
      "cell_type": "code",
      "source": [
        "df.head(15)"
      ],
      "metadata": {
        "id": "Kt_-e8K2f9ih",
        "outputId": "19d57f29-49c8-4200-fcf9-4c7f176437fe",
        "colab": {
          "base_uri": "https://localhost:8080/",
          "height": 520
        }
      },
      "execution_count": null,
      "outputs": [
        {
          "output_type": "execute_result",
          "data": {
            "text/plain": [
              "                                                 text  \\\n",
              "0   the patient report feel dizzy and short of bre...   \n",
              "1   upon examination , the patient 's blood pressu...   \n",
              "2   the patient have a history of heart disease an...   \n",
              "3   the patient 's cholesterol level be high than ...   \n",
              "4   the patient report experience ch pain during p...   \n",
              "5   the patient 's family have a history of diabete .   \n",
              "6   the patient be experience difficulty sleeping ...   \n",
              "7   the patient have a persistent cough and have b...   \n",
              "8              the patient 's skin be dry and itchy .   \n",
              "9     the patient have a fever and report feel achy .   \n",
              "10  the patient report experience nausea and vomit...   \n",
              "11      the patient 's urine appear dark and cloudy .   \n",
              "12    the patient have a history of substance abuse .   \n",
              "13  the patient have difficulty maintaining concen...   \n",
              "14     the patient report feel anxious and restless .   \n",
              "\n",
              "                             cats  \n",
              "0                    [SUBJECTIVE]  \n",
              "1                     [OBJECTIVE]  \n",
              "2                    [ASSESSMENT]  \n",
              "3                     [OBJECTIVE]  \n",
              "4                    [SUBJECTIVE]  \n",
              "5                    [ASSESSMENT]  \n",
              "6                    [SUBJECTIVE]  \n",
              "7   [SUBJECTIVE, OBJECTIVE, PLAN]  \n",
              "8                     [OBJECTIVE]  \n",
              "9              [SUBJECTIVE, PLAN]  \n",
              "10             [SUBJECTIVE, PLAN]  \n",
              "11              [OBJECTIVE, PLAN]  \n",
              "12                   [ASSESSMENT]  \n",
              "13             [SUBJECTIVE, PLAN]  \n",
              "14             [SUBJECTIVE, PLAN]  "
            ],
            "text/html": [
              "\n",
              "  <div id=\"df-36348628-5e3f-4dcc-9b6b-392ae89d0954\">\n",
              "    <div class=\"colab-df-container\">\n",
              "      <div>\n",
              "<style scoped>\n",
              "    .dataframe tbody tr th:only-of-type {\n",
              "        vertical-align: middle;\n",
              "    }\n",
              "\n",
              "    .dataframe tbody tr th {\n",
              "        vertical-align: top;\n",
              "    }\n",
              "\n",
              "    .dataframe thead th {\n",
              "        text-align: right;\n",
              "    }\n",
              "</style>\n",
              "<table border=\"1\" class=\"dataframe\">\n",
              "  <thead>\n",
              "    <tr style=\"text-align: right;\">\n",
              "      <th></th>\n",
              "      <th>text</th>\n",
              "      <th>cats</th>\n",
              "    </tr>\n",
              "  </thead>\n",
              "  <tbody>\n",
              "    <tr>\n",
              "      <th>0</th>\n",
              "      <td>the patient report feel dizzy and short of bre...</td>\n",
              "      <td>[SUBJECTIVE]</td>\n",
              "    </tr>\n",
              "    <tr>\n",
              "      <th>1</th>\n",
              "      <td>upon examination , the patient 's blood pressu...</td>\n",
              "      <td>[OBJECTIVE]</td>\n",
              "    </tr>\n",
              "    <tr>\n",
              "      <th>2</th>\n",
              "      <td>the patient have a history of heart disease an...</td>\n",
              "      <td>[ASSESSMENT]</td>\n",
              "    </tr>\n",
              "    <tr>\n",
              "      <th>3</th>\n",
              "      <td>the patient 's cholesterol level be high than ...</td>\n",
              "      <td>[OBJECTIVE]</td>\n",
              "    </tr>\n",
              "    <tr>\n",
              "      <th>4</th>\n",
              "      <td>the patient report experience ch pain during p...</td>\n",
              "      <td>[SUBJECTIVE]</td>\n",
              "    </tr>\n",
              "    <tr>\n",
              "      <th>5</th>\n",
              "      <td>the patient 's family have a history of diabete .</td>\n",
              "      <td>[ASSESSMENT]</td>\n",
              "    </tr>\n",
              "    <tr>\n",
              "      <th>6</th>\n",
              "      <td>the patient be experience difficulty sleeping ...</td>\n",
              "      <td>[SUBJECTIVE]</td>\n",
              "    </tr>\n",
              "    <tr>\n",
              "      <th>7</th>\n",
              "      <td>the patient have a persistent cough and have b...</td>\n",
              "      <td>[SUBJECTIVE, OBJECTIVE, PLAN]</td>\n",
              "    </tr>\n",
              "    <tr>\n",
              "      <th>8</th>\n",
              "      <td>the patient 's skin be dry and itchy .</td>\n",
              "      <td>[OBJECTIVE]</td>\n",
              "    </tr>\n",
              "    <tr>\n",
              "      <th>9</th>\n",
              "      <td>the patient have a fever and report feel achy .</td>\n",
              "      <td>[SUBJECTIVE, PLAN]</td>\n",
              "    </tr>\n",
              "    <tr>\n",
              "      <th>10</th>\n",
              "      <td>the patient report experience nausea and vomit...</td>\n",
              "      <td>[SUBJECTIVE, PLAN]</td>\n",
              "    </tr>\n",
              "    <tr>\n",
              "      <th>11</th>\n",
              "      <td>the patient 's urine appear dark and cloudy .</td>\n",
              "      <td>[OBJECTIVE, PLAN]</td>\n",
              "    </tr>\n",
              "    <tr>\n",
              "      <th>12</th>\n",
              "      <td>the patient have a history of substance abuse .</td>\n",
              "      <td>[ASSESSMENT]</td>\n",
              "    </tr>\n",
              "    <tr>\n",
              "      <th>13</th>\n",
              "      <td>the patient have difficulty maintaining concen...</td>\n",
              "      <td>[SUBJECTIVE, PLAN]</td>\n",
              "    </tr>\n",
              "    <tr>\n",
              "      <th>14</th>\n",
              "      <td>the patient report feel anxious and restless .</td>\n",
              "      <td>[SUBJECTIVE, PLAN]</td>\n",
              "    </tr>\n",
              "  </tbody>\n",
              "</table>\n",
              "</div>\n",
              "      <button class=\"colab-df-convert\" onclick=\"convertToInteractive('df-36348628-5e3f-4dcc-9b6b-392ae89d0954')\"\n",
              "              title=\"Convert this dataframe to an interactive table.\"\n",
              "              style=\"display:none;\">\n",
              "        \n",
              "  <svg xmlns=\"http://www.w3.org/2000/svg\" height=\"24px\"viewBox=\"0 0 24 24\"\n",
              "       width=\"24px\">\n",
              "    <path d=\"M0 0h24v24H0V0z\" fill=\"none\"/>\n",
              "    <path d=\"M18.56 5.44l.94 2.06.94-2.06 2.06-.94-2.06-.94-.94-2.06-.94 2.06-2.06.94zm-11 1L8.5 8.5l.94-2.06 2.06-.94-2.06-.94L8.5 2.5l-.94 2.06-2.06.94zm10 10l.94 2.06.94-2.06 2.06-.94-2.06-.94-.94-2.06-.94 2.06-2.06.94z\"/><path d=\"M17.41 7.96l-1.37-1.37c-.4-.4-.92-.59-1.43-.59-.52 0-1.04.2-1.43.59L10.3 9.45l-7.72 7.72c-.78.78-.78 2.05 0 2.83L4 21.41c.39.39.9.59 1.41.59.51 0 1.02-.2 1.41-.59l7.78-7.78 2.81-2.81c.8-.78.8-2.07 0-2.86zM5.41 20L4 18.59l7.72-7.72 1.47 1.35L5.41 20z\"/>\n",
              "  </svg>\n",
              "      </button>\n",
              "      \n",
              "  <style>\n",
              "    .colab-df-container {\n",
              "      display:flex;\n",
              "      flex-wrap:wrap;\n",
              "      gap: 12px;\n",
              "    }\n",
              "\n",
              "    .colab-df-convert {\n",
              "      background-color: #E8F0FE;\n",
              "      border: none;\n",
              "      border-radius: 50%;\n",
              "      cursor: pointer;\n",
              "      display: none;\n",
              "      fill: #1967D2;\n",
              "      height: 32px;\n",
              "      padding: 0 0 0 0;\n",
              "      width: 32px;\n",
              "    }\n",
              "\n",
              "    .colab-df-convert:hover {\n",
              "      background-color: #E2EBFA;\n",
              "      box-shadow: 0px 1px 2px rgba(60, 64, 67, 0.3), 0px 1px 3px 1px rgba(60, 64, 67, 0.15);\n",
              "      fill: #174EA6;\n",
              "    }\n",
              "\n",
              "    [theme=dark] .colab-df-convert {\n",
              "      background-color: #3B4455;\n",
              "      fill: #D2E3FC;\n",
              "    }\n",
              "\n",
              "    [theme=dark] .colab-df-convert:hover {\n",
              "      background-color: #434B5C;\n",
              "      box-shadow: 0px 1px 3px 1px rgba(0, 0, 0, 0.15);\n",
              "      filter: drop-shadow(0px 1px 2px rgba(0, 0, 0, 0.3));\n",
              "      fill: #FFFFFF;\n",
              "    }\n",
              "  </style>\n",
              "\n",
              "      <script>\n",
              "        const buttonEl =\n",
              "          document.querySelector('#df-36348628-5e3f-4dcc-9b6b-392ae89d0954 button.colab-df-convert');\n",
              "        buttonEl.style.display =\n",
              "          google.colab.kernel.accessAllowed ? 'block' : 'none';\n",
              "\n",
              "        async function convertToInteractive(key) {\n",
              "          const element = document.querySelector('#df-36348628-5e3f-4dcc-9b6b-392ae89d0954');\n",
              "          const dataTable =\n",
              "            await google.colab.kernel.invokeFunction('convertToInteractive',\n",
              "                                                     [key], {});\n",
              "          if (!dataTable) return;\n",
              "\n",
              "          const docLinkHtml = 'Like what you see? Visit the ' +\n",
              "            '<a target=\"_blank\" href=https://colab.research.google.com/notebooks/data_table.ipynb>data table notebook</a>'\n",
              "            + ' to learn more about interactive tables.';\n",
              "          element.innerHTML = '';\n",
              "          dataTable['output_type'] = 'display_data';\n",
              "          await google.colab.output.renderOutput(dataTable, element);\n",
              "          const docLink = document.createElement('div');\n",
              "          docLink.innerHTML = docLinkHtml;\n",
              "          element.appendChild(docLink);\n",
              "        }\n",
              "      </script>\n",
              "    </div>\n",
              "  </div>\n",
              "  "
            ]
          },
          "metadata": {},
          "execution_count": 76
        }
      ]
    },
    {
      "cell_type": "code",
      "source": [
        "\n",
        "# Create a function to create a spacy dataset\n",
        "def make_docs(data: List[Tuple[str, str]], target_file: str, cats: List[str]):\n",
        "    docs = DocBin()\n",
        "    # Use nlp.pipe to efficiently process a large number of text inputs, \n",
        "    # the as_tuple arguments enables giving a list of tuples as input and \n",
        "    # reuse it in the loop, here for the labels\n",
        "    for doc, label in nlp.pipe(data, as_tuples=True):\n",
        "        # Encode the labels (assign 1 the subreddit)\n",
        "        for cat in cats:\n",
        "            #doc.cats[cat] = 1 if cat in labels else 0\n",
        "            if cat in label:\n",
        "              doc.cats[cat] = 1\n",
        "            else:\n",
        "              doc.cats[cat] = 0\n",
        "            print(doc.cats)\n",
        "        docs.add(doc)\n",
        "    docs.to_disk(target_file)\n",
        "    return docs"
      ],
      "metadata": {
        "id": "LumzqA5HyVrj"
      },
      "execution_count": null,
      "outputs": []
    },
    {
      "cell_type": "code",
      "source": [
        "\"\"\"\n",
        "# Create a function to create a spacy dataset for multi-label classification\n",
        "def make_docs(data: List[Tuple[str, List[str]]], target_file: str, cats: List[str]):\n",
        "    docs = DocBin()\n",
        "    # Use nlp.pipe to efficiently process a large number of text inputs, \n",
        "    # the as_tuple arguments enables giving a list of tuples as input and \n",
        "    # reuse it in the loop, here for the labels\n",
        "    for doc_text, labels in data:\n",
        "        \n",
        "        doc = nlp.make_doc(doc_text)\n",
        "        # Encode the labels (assign 1 to all labels that match)\n",
        "        for cat in cats:\n",
        "            #doc.cats[cat] = 1 if cat in labels else 0\n",
        "            if cat in labels:\n",
        "              doc.cats[cat] = 1\n",
        "            else:\n",
        "              doc.cats[cat] = 0\n",
        "            print(doc.cats)\n",
        "        docs.add(doc)\n",
        "    docs.to_disk(target_file)\n",
        "    return docs\n",
        "\n",
        "\"\"\""
      ],
      "metadata": {
        "id": "7GgS49HgqRlR"
      },
      "execution_count": null,
      "outputs": []
    },
    {
      "cell_type": "code",
      "source": [],
      "metadata": {
        "id": "pJQIy2kKtmBY"
      },
      "execution_count": null,
      "outputs": []
    },
    {
      "cell_type": "code",
      "source": [
        "from sklearn.model_selection import train_test_split\n",
        "\n",
        "X_train, X_valid, y_train, y_valid = train_test_split(df[\"text\"].values, df[\"cats\"].values, test_size=0.2)\n",
        "\n",
        "make_docs(list(zip(X_train, y_train)), \"train.spacy\", cats=cats)\n",
        "make_docs(list(zip(X_valid, y_valid)), \"valid.spacy\", cats=cats)"
      ],
      "metadata": {
        "colab": {
          "base_uri": "https://localhost:8080/"
        },
        "id": "Th1isVKEHaPO",
        "outputId": "ce4aee13-f51e-4b07-c8dc-635774299809"
      },
      "execution_count": null,
      "outputs": [
        {
          "output_type": "stream",
          "name": "stdout",
          "text": [
            "{'SUBJECTIVE': 0}\n",
            "{'SUBJECTIVE': 0, 'OBJECTIVE': 0}\n",
            "{'SUBJECTIVE': 0, 'OBJECTIVE': 0, 'ASSESSMENT': 1}\n",
            "{'SUBJECTIVE': 0, 'OBJECTIVE': 0, 'ASSESSMENT': 1, 'PLAN': 0}\n",
            "{'SUBJECTIVE': 0}\n",
            "{'SUBJECTIVE': 0, 'OBJECTIVE': 0}\n",
            "{'SUBJECTIVE': 0, 'OBJECTIVE': 0, 'ASSESSMENT': 1}\n",
            "{'SUBJECTIVE': 0, 'OBJECTIVE': 0, 'ASSESSMENT': 1, 'PLAN': 0}\n",
            "{'SUBJECTIVE': 1}\n",
            "{'SUBJECTIVE': 1, 'OBJECTIVE': 0}\n",
            "{'SUBJECTIVE': 1, 'OBJECTIVE': 0, 'ASSESSMENT': 0}\n",
            "{'SUBJECTIVE': 1, 'OBJECTIVE': 0, 'ASSESSMENT': 0, 'PLAN': 1}\n",
            "{'SUBJECTIVE': 1}\n",
            "{'SUBJECTIVE': 1, 'OBJECTIVE': 0}\n",
            "{'SUBJECTIVE': 1, 'OBJECTIVE': 0, 'ASSESSMENT': 0}\n",
            "{'SUBJECTIVE': 1, 'OBJECTIVE': 0, 'ASSESSMENT': 0, 'PLAN': 1}\n",
            "{'SUBJECTIVE': 1}\n",
            "{'SUBJECTIVE': 1, 'OBJECTIVE': 0}\n",
            "{'SUBJECTIVE': 1, 'OBJECTIVE': 0, 'ASSESSMENT': 0}\n",
            "{'SUBJECTIVE': 1, 'OBJECTIVE': 0, 'ASSESSMENT': 0, 'PLAN': 1}\n",
            "{'SUBJECTIVE': 0}\n",
            "{'SUBJECTIVE': 0, 'OBJECTIVE': 1}\n",
            "{'SUBJECTIVE': 0, 'OBJECTIVE': 1, 'ASSESSMENT': 0}\n",
            "{'SUBJECTIVE': 0, 'OBJECTIVE': 1, 'ASSESSMENT': 0, 'PLAN': 0}\n",
            "{'SUBJECTIVE': 1}\n",
            "{'SUBJECTIVE': 1, 'OBJECTIVE': 0}\n",
            "{'SUBJECTIVE': 1, 'OBJECTIVE': 0, 'ASSESSMENT': 0}\n",
            "{'SUBJECTIVE': 1, 'OBJECTIVE': 0, 'ASSESSMENT': 0, 'PLAN': 0}\n",
            "{'SUBJECTIVE': 1}\n",
            "{'SUBJECTIVE': 1, 'OBJECTIVE': 0}\n",
            "{'SUBJECTIVE': 1, 'OBJECTIVE': 0, 'ASSESSMENT': 0}\n",
            "{'SUBJECTIVE': 1, 'OBJECTIVE': 0, 'ASSESSMENT': 0, 'PLAN': 1}\n",
            "{'SUBJECTIVE': 0}\n",
            "{'SUBJECTIVE': 0, 'OBJECTIVE': 0}\n",
            "{'SUBJECTIVE': 0, 'OBJECTIVE': 0, 'ASSESSMENT': 1}\n",
            "{'SUBJECTIVE': 0, 'OBJECTIVE': 0, 'ASSESSMENT': 1, 'PLAN': 1}\n",
            "{'SUBJECTIVE': 0}\n",
            "{'SUBJECTIVE': 0, 'OBJECTIVE': 0}\n",
            "{'SUBJECTIVE': 0, 'OBJECTIVE': 0, 'ASSESSMENT': 1}\n",
            "{'SUBJECTIVE': 0, 'OBJECTIVE': 0, 'ASSESSMENT': 1, 'PLAN': 0}\n",
            "{'SUBJECTIVE': 1}\n",
            "{'SUBJECTIVE': 1, 'OBJECTIVE': 0}\n",
            "{'SUBJECTIVE': 1, 'OBJECTIVE': 0, 'ASSESSMENT': 0}\n",
            "{'SUBJECTIVE': 1, 'OBJECTIVE': 0, 'ASSESSMENT': 0, 'PLAN': 0}\n",
            "{'SUBJECTIVE': 0}\n",
            "{'SUBJECTIVE': 0, 'OBJECTIVE': 1}\n",
            "{'SUBJECTIVE': 0, 'OBJECTIVE': 1, 'ASSESSMENT': 0}\n",
            "{'SUBJECTIVE': 0, 'OBJECTIVE': 1, 'ASSESSMENT': 0, 'PLAN': 0}\n",
            "{'SUBJECTIVE': 1}\n",
            "{'SUBJECTIVE': 1, 'OBJECTIVE': 0}\n",
            "{'SUBJECTIVE': 1, 'OBJECTIVE': 0, 'ASSESSMENT': 0}\n",
            "{'SUBJECTIVE': 1, 'OBJECTIVE': 0, 'ASSESSMENT': 0, 'PLAN': 1}\n",
            "{'SUBJECTIVE': 0}\n",
            "{'SUBJECTIVE': 0, 'OBJECTIVE': 1}\n",
            "{'SUBJECTIVE': 0, 'OBJECTIVE': 1, 'ASSESSMENT': 0}\n",
            "{'SUBJECTIVE': 0, 'OBJECTIVE': 1, 'ASSESSMENT': 0, 'PLAN': 0}\n",
            "{'SUBJECTIVE': 1}\n",
            "{'SUBJECTIVE': 1, 'OBJECTIVE': 0}\n",
            "{'SUBJECTIVE': 1, 'OBJECTIVE': 0, 'ASSESSMENT': 0}\n",
            "{'SUBJECTIVE': 1, 'OBJECTIVE': 0, 'ASSESSMENT': 0, 'PLAN': 0}\n",
            "{'SUBJECTIVE': 0}\n",
            "{'SUBJECTIVE': 0, 'OBJECTIVE': 1}\n",
            "{'SUBJECTIVE': 0, 'OBJECTIVE': 1, 'ASSESSMENT': 0}\n",
            "{'SUBJECTIVE': 0, 'OBJECTIVE': 1, 'ASSESSMENT': 0, 'PLAN': 0}\n",
            "{'SUBJECTIVE': 1}\n",
            "{'SUBJECTIVE': 1, 'OBJECTIVE': 1}\n",
            "{'SUBJECTIVE': 1, 'OBJECTIVE': 1, 'ASSESSMENT': 0}\n",
            "{'SUBJECTIVE': 1, 'OBJECTIVE': 1, 'ASSESSMENT': 0, 'PLAN': 1}\n",
            "{'SUBJECTIVE': 0}\n",
            "{'SUBJECTIVE': 0, 'OBJECTIVE': 1}\n",
            "{'SUBJECTIVE': 0, 'OBJECTIVE': 1, 'ASSESSMENT': 0}\n",
            "{'SUBJECTIVE': 0, 'OBJECTIVE': 1, 'ASSESSMENT': 0, 'PLAN': 1}\n",
            "{'SUBJECTIVE': 0}\n",
            "{'SUBJECTIVE': 0, 'OBJECTIVE': 0}\n",
            "{'SUBJECTIVE': 0, 'OBJECTIVE': 0, 'ASSESSMENT': 1}\n",
            "{'SUBJECTIVE': 0, 'OBJECTIVE': 0, 'ASSESSMENT': 1, 'PLAN': 1}\n",
            "{'SUBJECTIVE': 1}\n",
            "{'SUBJECTIVE': 1, 'OBJECTIVE': 0}\n",
            "{'SUBJECTIVE': 1, 'OBJECTIVE': 0, 'ASSESSMENT': 0}\n",
            "{'SUBJECTIVE': 1, 'OBJECTIVE': 0, 'ASSESSMENT': 0, 'PLAN': 1}\n",
            "{'SUBJECTIVE': 1}\n",
            "{'SUBJECTIVE': 1, 'OBJECTIVE': 0}\n",
            "{'SUBJECTIVE': 1, 'OBJECTIVE': 0, 'ASSESSMENT': 0}\n",
            "{'SUBJECTIVE': 1, 'OBJECTIVE': 0, 'ASSESSMENT': 0, 'PLAN': 1}\n",
            "{'SUBJECTIVE': 0}\n",
            "{'SUBJECTIVE': 0, 'OBJECTIVE': 1}\n",
            "{'SUBJECTIVE': 0, 'OBJECTIVE': 1, 'ASSESSMENT': 0}\n",
            "{'SUBJECTIVE': 0, 'OBJECTIVE': 1, 'ASSESSMENT': 0, 'PLAN': 0}\n",
            "{'SUBJECTIVE': 1}\n",
            "{'SUBJECTIVE': 1, 'OBJECTIVE': 0}\n",
            "{'SUBJECTIVE': 1, 'OBJECTIVE': 0, 'ASSESSMENT': 0}\n",
            "{'SUBJECTIVE': 1, 'OBJECTIVE': 0, 'ASSESSMENT': 0, 'PLAN': 1}\n",
            "{'SUBJECTIVE': 1}\n",
            "{'SUBJECTIVE': 1, 'OBJECTIVE': 1}\n",
            "{'SUBJECTIVE': 1, 'OBJECTIVE': 1, 'ASSESSMENT': 0}\n",
            "{'SUBJECTIVE': 1, 'OBJECTIVE': 1, 'ASSESSMENT': 0, 'PLAN': 1}\n",
            "{'SUBJECTIVE': 0}\n",
            "{'SUBJECTIVE': 0, 'OBJECTIVE': 0}\n",
            "{'SUBJECTIVE': 0, 'OBJECTIVE': 0, 'ASSESSMENT': 1}\n",
            "{'SUBJECTIVE': 0, 'OBJECTIVE': 0, 'ASSESSMENT': 1, 'PLAN': 0}\n",
            "{'SUBJECTIVE': 0}\n",
            "{'SUBJECTIVE': 0, 'OBJECTIVE': 1}\n",
            "{'SUBJECTIVE': 0, 'OBJECTIVE': 1, 'ASSESSMENT': 0}\n",
            "{'SUBJECTIVE': 0, 'OBJECTIVE': 1, 'ASSESSMENT': 0, 'PLAN': 1}\n",
            "{'SUBJECTIVE': 1}\n",
            "{'SUBJECTIVE': 1, 'OBJECTIVE': 0}\n",
            "{'SUBJECTIVE': 1, 'OBJECTIVE': 0, 'ASSESSMENT': 0}\n",
            "{'SUBJECTIVE': 1, 'OBJECTIVE': 0, 'ASSESSMENT': 0, 'PLAN': 1}\n",
            "{'SUBJECTIVE': 0}\n",
            "{'SUBJECTIVE': 0, 'OBJECTIVE': 1}\n",
            "{'SUBJECTIVE': 0, 'OBJECTIVE': 1, 'ASSESSMENT': 0}\n",
            "{'SUBJECTIVE': 0, 'OBJECTIVE': 1, 'ASSESSMENT': 0, 'PLAN': 0}\n",
            "{'SUBJECTIVE': 1}\n",
            "{'SUBJECTIVE': 1, 'OBJECTIVE': 0}\n",
            "{'SUBJECTIVE': 1, 'OBJECTIVE': 0, 'ASSESSMENT': 0}\n",
            "{'SUBJECTIVE': 1, 'OBJECTIVE': 0, 'ASSESSMENT': 0, 'PLAN': 0}\n",
            "{'SUBJECTIVE': 0}\n",
            "{'SUBJECTIVE': 0, 'OBJECTIVE': 1}\n",
            "{'SUBJECTIVE': 0, 'OBJECTIVE': 1, 'ASSESSMENT': 1}\n",
            "{'SUBJECTIVE': 0, 'OBJECTIVE': 1, 'ASSESSMENT': 1, 'PLAN': 1}\n",
            "{'SUBJECTIVE': 1}\n",
            "{'SUBJECTIVE': 1, 'OBJECTIVE': 0}\n",
            "{'SUBJECTIVE': 1, 'OBJECTIVE': 0, 'ASSESSMENT': 0}\n",
            "{'SUBJECTIVE': 1, 'OBJECTIVE': 0, 'ASSESSMENT': 0, 'PLAN': 1}\n",
            "{'SUBJECTIVE': 0}\n",
            "{'SUBJECTIVE': 0, 'OBJECTIVE': 0}\n",
            "{'SUBJECTIVE': 0, 'OBJECTIVE': 0, 'ASSESSMENT': 1}\n",
            "{'SUBJECTIVE': 0, 'OBJECTIVE': 0, 'ASSESSMENT': 1, 'PLAN': 0}\n",
            "{'SUBJECTIVE': 0}\n",
            "{'SUBJECTIVE': 0, 'OBJECTIVE': 1}\n",
            "{'SUBJECTIVE': 0, 'OBJECTIVE': 1, 'ASSESSMENT': 0}\n",
            "{'SUBJECTIVE': 0, 'OBJECTIVE': 1, 'ASSESSMENT': 0, 'PLAN': 0}\n"
          ]
        },
        {
          "output_type": "execute_result",
          "data": {
            "text/plain": [
              "<spacy.tokens._serialize.DocBin at 0x7f38762f8130>"
            ]
          },
          "metadata": {},
          "execution_count": 85
        }
      ]
    },
    {
      "cell_type": "code",
      "source": [
        "from spacy.training import Corpus\n",
        "\n",
        "corpus = Corpus(\"./train.spacy\")\n",
        "test = spacy.blank(\"en\")\n",
        "trained_data = corpus(test)"
      ],
      "metadata": {
        "id": "WLMPVsydyvCJ"
      },
      "execution_count": null,
      "outputs": []
    },
    {
      "cell_type": "code",
      "source": [
        "from spacy.training import biluo_tags_to_offsets\n",
        "for example in  trained_data:\n",
        "    print(example.text)\n",
        "    print(biluo_tags_to_offsets(example.reference, example.get_aligned_ner()))"
      ],
      "metadata": {
        "colab": {
          "base_uri": "https://localhost:8080/"
        },
        "id": "0qfb-5xpy2kg",
        "outputId": "0cd6c5d3-fded-4655-bfee-f66a9a0ff274"
      },
      "execution_count": null,
      "outputs": [
        {
          "output_type": "stream",
          "name": "stdout",
          "text": [
            "the patient have a history of liver disease .\n",
            "[(4, 11, 'ENTITY'), (19, 26, 'ENTITY'), (30, 43, 'ENTITY')]\n",
            "the patient have a history of substance abuse .\n",
            "[(4, 11, 'ENTITY'), (19, 26, 'ENTITY'), (30, 45, 'ENTITY')]\n",
            "the patient have be experience abdominal pain and diarrhea .\n",
            "[(4, 11, 'ENTITY'), (31, 45, 'ENTITY'), (50, 58, 'ENTITY')]\n",
            "the patient report feel depressed and hopeless .\n",
            "[(4, 23, 'ENTITY'), (24, 33, 'ENTITY'), (38, 46, 'ENTITY')]\n",
            "the patient have difficulty maintaining concentration and focus .\n",
            "[(4, 11, 'ENTITY'), (17, 27, 'ENTITY'), (40, 53, 'ENTITY'), (58, 63, 'ENTITY')]\n",
            "the patient 's heart rate be irregular and fast .\n",
            "[(4, 14, 'ENTITY'), (15, 25, 'ENTITY'), (29, 38, 'ENTITY'), (43, 47, 'ENTITY')]\n",
            "the patient report experience ch pain during physical activity .\n",
            "[(4, 18, 'ENTITY'), (33, 37, 'ENTITY'), (45, 62, 'ENTITY')]\n",
            "the patient report experience nausea and vomiting .\n",
            "[(4, 18, 'ENTITY'), (30, 36, 'ENTITY'), (41, 49, 'ENTITY')]\n",
            "the patient have a history of cancer and be undergo chemotherapy .\n",
            "[(4, 11, 'ENTITY'), (19, 36, 'ENTITY'), (52, 64, 'ENTITY')]\n",
            "the patient have a history of asthma and allergy .\n",
            "[(4, 11, 'ENTITY'), (19, 26, 'ENTITY'), (30, 36, 'ENTITY'), (41, 48, 'ENTITY')]\n",
            "the patient report feel dizzy and short of breath .\n",
            "[(4, 11, 'ENTITY'), (24, 29, 'ENTITY'), (43, 49, 'ENTITY')]\n",
            "the patient 's vision be blurry and they report see floater .\n",
            "[(4, 21, 'ENTITY'), (25, 31, 'ENTITY'), (41, 47, 'ENTITY'), (52, 59, 'ENTITY')]\n",
            "the patient report difficulty swallowing and have be experience weight loss .\n",
            "[(4, 18, 'ENTITY'), (19, 40, 'ENTITY'), (64, 75, 'ENTITY')]\n",
            "the patient 's hearing be impaired and they report ring in their ear .\n",
            "[(4, 22, 'ENTITY'), (26, 34, 'ENTITY'), (65, 68, 'ENTITY')]\n",
            "the patient be experience difficulty sleeping and feel fatigue during the day .\n",
            "[(4, 11, 'ENTITY'), (26, 45, 'ENTITY'), (55, 62, 'ENTITY'), (74, 77, 'ENTITY')]\n",
            "the patient 's eye be red and itchy .\n",
            "[(4, 14, 'ENTITY'), (22, 25, 'ENTITY'), (30, 35, 'ENTITY')]\n",
            "the patient have a persistent cough and have be cough up mucus .\n",
            "[(4, 11, 'ENTITY'), (19, 35, 'ENTITY'), (48, 62, 'ENTITY')]\n",
            "the patient 's urine appear dark and cloudy .\n",
            "[(4, 11, 'ENTITY'), (15, 32, 'ENTITY'), (37, 43, 'ENTITY')]\n",
            "the patient have a history of stroke and have be experience weakness in one side of their body .\n",
            "[(4, 11, 'ENTITY'), (19, 26, 'ENTITY'), (30, 36, 'ENTITY'), (90, 94, 'ENTITY')]\n",
            "the patient report difficulty breathing and wheezing .\n",
            "[(4, 18, 'ENTITY'), (19, 39, 'ENTITY'), (44, 52, 'ENTITY')]\n",
            "the patient report feel anxious and restless .\n",
            "[(4, 11, 'ENTITY'), (24, 31, 'ENTITY'), (36, 44, 'ENTITY')]\n",
            "the patient 's skin be dry and itchy .\n",
            "[(4, 14, 'ENTITY'), (15, 19, 'ENTITY'), (23, 26, 'ENTITY'), (31, 36, 'ENTITY')]\n",
            "the patient have be experience frequent urination and a burn sensation .\n",
            "[(4, 11, 'ENTITY'), (40, 49, 'ENTITY'), (56, 60, 'ENTITY'), (61, 70, 'ENTITY')]\n",
            "the patient 's joint be swollen and painful .\n",
            "[(4, 20, 'ENTITY'), (24, 31, 'ENTITY'), (36, 43, 'ENTITY')]\n",
            "the patient have a history of heart disease and hypertension .\n",
            "[(4, 11, 'ENTITY'), (19, 26, 'ENTITY'), (30, 43, 'ENTITY'), (48, 60, 'ENTITY')]\n",
            "the patient 's mobility be impaired and they require assistance walk .\n",
            "[(4, 14, 'ENTITY'), (15, 23, 'ENTITY'), (27, 35, 'ENTITY'), (53, 68, 'ENTITY')]\n"
          ]
        }
      ]
    },
    {
      "cell_type": "code",
      "source": [
        "from spacy.cli.train import train as spacy_train\n",
        "\n",
        "config_path = \"config.cfg\"\n",
        "output_model_path = \"spacy_textcat_multilabel\"\n",
        "spacy_train(\n",
        "    config_path,\n",
        "    output_path=output_model_path,\n",
        "    overrides={\n",
        "        \"paths.train\": \"train.spacy\",\n",
        "        \"paths.dev\": \"valid.spacy\",\n",
        "    },\n",
        ")"
      ],
      "metadata": {
        "colab": {
          "base_uri": "https://localhost:8080/"
        },
        "id": "iENOuiqHzAOF",
        "outputId": "c062a35d-1692-408d-f995-8767f18c52e2"
      },
      "execution_count": null,
      "outputs": [
        {
          "output_type": "stream",
          "name": "stdout",
          "text": [
            "\u001b[38;5;2m✔ Created output directory: spacy_textcat_multilabel\u001b[0m\n",
            "\u001b[38;5;4mℹ Saving to output directory: spacy_textcat_multilabel\u001b[0m\n",
            "\u001b[38;5;4mℹ Using CPU\u001b[0m\n",
            "\u001b[1m\n",
            "=========================== Initializing pipeline ===========================\u001b[0m\n",
            "\u001b[38;5;2m✔ Initialized pipeline\u001b[0m\n",
            "\u001b[1m\n",
            "============================= Training pipeline =============================\u001b[0m\n",
            "\u001b[38;5;4mℹ Pipeline: ['textcat_multilabel']\u001b[0m\n",
            "\u001b[38;5;4mℹ Initial learn rate: 0.001\u001b[0m\n",
            "E    #       LOSS TEXTC...  CATS_SCORE  SCORE \n",
            "---  ------  -------------  ----------  ------\n",
            "  0       0           0.39       47.92    0.48\n",
            " 33     100           2.98       77.92    0.78\n",
            " 66     200           0.02       80.00    0.80\n",
            "108     300           0.01       80.00    0.80\n",
            "158     400           0.00       77.92    0.78\n",
            "208     500           0.00       80.00    0.80\n",
            "258     600           0.00       80.00    0.80\n",
            "308     700           0.00       80.00    0.80\n",
            "358     800           0.00       80.00    0.80\n",
            "443     900           0.00       77.92    0.78\n",
            "543    1000           0.00       77.92    0.78\n",
            "643    1100           0.00       77.92    0.78\n",
            "743    1200           0.00       77.92    0.78\n",
            "\u001b[38;5;2m✔ Saved pipeline to output directory\u001b[0m\n",
            "spacy_textcat_multilabel/model-last\n"
          ]
        }
      ]
    },
    {
      "cell_type": "code",
      "source": [],
      "metadata": {
        "id": "NEdDswW8xTeb"
      },
      "execution_count": null,
      "outputs": []
    },
    {
      "cell_type": "code",
      "source": [
        "#import spacy\n",
        "\n",
        "trained_nlp = spacy.load(\"spacy_textcat_multilabel/model-best\")\n",
        "\n",
        "# Let's try it on an example text\n",
        "text = \"The patient reported feeling dizzy and experiencing a headache\"\n",
        "doc = trained_nlp(text)\n",
        "print(doc.cats)\n"
      ],
      "metadata": {
        "colab": {
          "base_uri": "https://localhost:8080/"
        },
        "id": "6wy8Y9-mzQU0",
        "outputId": "74f5e121-9171-4ac0-f503-30733812a2e7"
      },
      "execution_count": null,
      "outputs": [
        {
          "output_type": "stream",
          "name": "stdout",
          "text": [
            "{'SUBJECTIVE': 0.9990142583847046, 'OBJECTIVE': 0.001180354505777359, 'ASSESSMENT': 0.0003295344940852374, 'PLAN': 0.0006320956163108349}\n"
          ]
        }
      ]
    },
    {
      "cell_type": "code",
      "source": [
        "label = max(doc.cats, key=doc.cats.get)\n",
        "print(f\"Predicted label: {label}\")"
      ],
      "metadata": {
        "colab": {
          "base_uri": "https://localhost:8080/"
        },
        "id": "0BqL9t7ZyvBA",
        "outputId": "86746712-3b1a-4cce-f2dc-1ce31f9102c3"
      },
      "execution_count": null,
      "outputs": [
        {
          "output_type": "stream",
          "name": "stdout",
          "text": [
            "Predicted label: SUBJECTIVE\n"
          ]
        }
      ]
    },
    {
      "cell_type": "code",
      "source": [
        "trained_nlp = spacy.load(\"spacy_textcat_multilabel/model-best\")\n",
        "\n",
        "# Let's try it on an example text\n",
        "text = \"The patient is a 45-year-old male with a history of hypertension.\"\n",
        "# Perform the trained pipeline on this text\n",
        "doc = trained_nlp(text)\n",
        "# We can display the predicted categories\n",
        "print(doc.cats)\n",
        "label = max(doc.cats, key=doc.cats.get)\n",
        "print(f\"Predicted label: {label}\")"
      ],
      "metadata": {
        "colab": {
          "base_uri": "https://localhost:8080/"
        },
        "id": "g8A4UEcM2NP7",
        "outputId": "b762d6dd-1521-491d-925c-aede0ef0bade"
      },
      "execution_count": null,
      "outputs": [
        {
          "output_type": "stream",
          "name": "stdout",
          "text": [
            "{'SUBJECTIVE': 0.0005699798348359764, 'OBJECTIVE': 0.012729093432426453, 'ASSESSMENT': 0.9963525533676147, 'PLAN': 0.031073547899723053}\n",
            "Predicted label: ASSESSMENT\n"
          ]
        }
      ]
    },
    {
      "cell_type": "code",
      "source": [
        "trained_nlp = spacy.load(\"spacy_textcat_multilabel/model-best\")\n",
        "\n",
        "# Let's try it on an example text\n",
        "text = \"The patient is recovering well and will be discharged tomorrow.\"\n",
        "# Perform the trained pipeline on this text\n",
        "doc = trained_nlp(text)\n",
        "# We can display the predicted categories\n",
        "print(doc.cats)\n",
        "label = max(doc.cats, key=doc.cats.get)\n",
        "print(f\"Predicted label: {label}\")"
      ],
      "metadata": {
        "colab": {
          "base_uri": "https://localhost:8080/"
        },
        "id": "ubd8KwH02bat",
        "outputId": "10f9ad64-b844-4810-cd4f-9476c1fc5b23"
      },
      "execution_count": null,
      "outputs": [
        {
          "output_type": "stream",
          "name": "stdout",
          "text": [
            "{'SUBJECTIVE': 0.9756171703338623, 'OBJECTIVE': 0.9637909531593323, 'ASSESSMENT': 0.00032124476274475455, 'PLAN': 0.8592243194580078}\n",
            "Predicted label: SUBJECTIVE\n"
          ]
        }
      ]
    },
    {
      "cell_type": "code",
      "source": [
        "trained_nlp = spacy.load(\"spacy_textcat_multilabel/model-best\")\n",
        "\n",
        "valid_data = trained_nlp(\"valid.spacy\")\n",
        "#results = trained_nlp.evaluate(valid_data)\n",
        "#print(results)\n",
        "valid_data.cats"
      ],
      "metadata": {
        "colab": {
          "base_uri": "https://localhost:8080/"
        },
        "id": "wwVqOfC30Z2F",
        "outputId": "498c6928-15fb-4d18-db94-b654b10a7bff"
      },
      "execution_count": null,
      "outputs": [
        {
          "output_type": "execute_result",
          "data": {
            "text/plain": [
              "{'SUBJECTIVE': 0.18619069457054138,\n",
              " 'OBJECTIVE': 0.9991201758384705,\n",
              " 'ASSESSMENT': 0.0009529758826829493,\n",
              " 'PLAN': 0.25421953201293945}"
            ]
          },
          "metadata": {},
          "execution_count": 93
        }
      ]
    },
    {
      "cell_type": "code",
      "source": [
        "nlp_merged = spacy.load(\"en_core_sci_sm\")\n",
        "nlp_merged.add_pipe(\"textcat_multilabel\", source=trained_nlp)\n",
        "doc_from_merged = nlp_merged(text)\n",
        "\n",
        "print(\"entities\", doc_from_merged.ents)\n",
        "print(\"sentences\", list(doc_from_merged.sents))\n",
        "print(\"Multilable classification\", doc_from_merged.cats)"
      ],
      "metadata": {
        "id": "_8NLKlwg0haS",
        "colab": {
          "base_uri": "https://localhost:8080/"
        },
        "outputId": "f2fa2c35-3630-41dc-de70-8abff5b5c396"
      },
      "execution_count": null,
      "outputs": [
        {
          "output_type": "stream",
          "name": "stdout",
          "text": [
            "entities (patient, discharged tomorrow)\n",
            "sentences [The patient is recovering well and will be discharged tomorrow.]\n",
            "Multilable classification {'SUBJECTIVE': 0.9756171703338623, 'OBJECTIVE': 0.9637909531593323, 'ASSESSMENT': 0.00032124476274475455, 'PLAN': 0.8592243194580078}\n"
          ]
        }
      ]
    },
    {
      "cell_type": "code",
      "source": [
        "text = \"The patient is recovering well and will be discharged tomorrow.\"\n",
        "print(\"entities\", doc_from_merged.ents)\n",
        "print(\"sentences\", list(doc_from_merged.sents))\n",
        "print(\"Multilable classification\", doc_from_merged.cats)"
      ],
      "metadata": {
        "colab": {
          "base_uri": "https://localhost:8080/"
        },
        "id": "bOizFWK2hjMl",
        "outputId": "649f0770-0669-42c2-b338-9e358184fd63"
      },
      "execution_count": null,
      "outputs": [
        {
          "output_type": "stream",
          "name": "stdout",
          "text": [
            "entities (patient, discharged tomorrow)\n",
            "sentences [The patient is recovering well and will be discharged tomorrow.]\n",
            "Multilable classification {'SUBJECTIVE': 0.9756171703338623, 'OBJECTIVE': 0.9637909531593323, 'ASSESSMENT': 0.00032124476274475455, 'PLAN': 0.8592243194580078}\n"
          ]
        }
      ]
    },
    {
      "cell_type": "code",
      "source": [
        "text = \"The patient's labs show elevated liver enzymes.\"\n",
        "doc_from_merged = nlp_merged(text)\n",
        "print(\"entities\", doc_from_merged.ents)\n",
        "print(\"sentences\", list(doc_from_merged.sents))\n",
        "print(\"Multilable classification\", doc_from_merged.cats)"
      ],
      "metadata": {
        "colab": {
          "base_uri": "https://localhost:8080/"
        },
        "id": "hjNHveu8iC8b",
        "outputId": "fab29a9a-456c-4afc-d187-15ee9d424629"
      },
      "execution_count": null,
      "outputs": [
        {
          "output_type": "stream",
          "name": "stdout",
          "text": [
            "entities (patient's, labs, elevated, liver enzymes)\n",
            "sentences [The patient's labs show elevated liver enzymes.]\n",
            "Multilable classification {'SUBJECTIVE': 0.9373295307159424, 'OBJECTIVE': 0.29667899012565613, 'ASSESSMENT': 0.0050034476444125175, 'PLAN': 0.008223270066082478}\n"
          ]
        }
      ]
    }
  ]
}