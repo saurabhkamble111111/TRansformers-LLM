{
  "nbformat": 4,
  "nbformat_minor": 0,
  "metadata": {
    "colab": {
      "provenance": []
    },
    "kernelspec": {
      "name": "python3",
      "display_name": "Python 3"
    },
    "language_info": {
      "name": "python"
    },
    "widgets": {
      "application/vnd.jupyter.widget-state+json": {
        "023a8c2a3aa147018c36d04ba5c48a10": {
          "model_module": "@jupyter-widgets/controls",
          "model_name": "HBoxModel",
          "model_module_version": "1.5.0",
          "state": {
            "_dom_classes": [],
            "_model_module": "@jupyter-widgets/controls",
            "_model_module_version": "1.5.0",
            "_model_name": "HBoxModel",
            "_view_count": null,
            "_view_module": "@jupyter-widgets/controls",
            "_view_module_version": "1.5.0",
            "_view_name": "HBoxView",
            "box_style": "",
            "children": [
              "IPY_MODEL_5126b81a232d4c2cbe5063b8a61d928b",
              "IPY_MODEL_6f12d75ff25a4089bbe7a13824d0b2ea",
              "IPY_MODEL_020fb848bcf64c5d9912bc6a9ef3a962"
            ],
            "layout": "IPY_MODEL_20e5b658ce344ae3b1cd009b68c1c11b"
          }
        },
        "5126b81a232d4c2cbe5063b8a61d928b": {
          "model_module": "@jupyter-widgets/controls",
          "model_name": "HTMLModel",
          "model_module_version": "1.5.0",
          "state": {
            "_dom_classes": [],
            "_model_module": "@jupyter-widgets/controls",
            "_model_module_version": "1.5.0",
            "_model_name": "HTMLModel",
            "_view_count": null,
            "_view_module": "@jupyter-widgets/controls",
            "_view_module_version": "1.5.0",
            "_view_name": "HTMLView",
            "description": "",
            "description_tooltip": null,
            "layout": "IPY_MODEL_1ab19ac785434696a503973abcb2dd75",
            "placeholder": "​",
            "style": "IPY_MODEL_9f7c347edc9d4e9980ac8073f9091872",
            "value": "Downloading (…)okenizer_config.json: 100%"
          }
        },
        "6f12d75ff25a4089bbe7a13824d0b2ea": {
          "model_module": "@jupyter-widgets/controls",
          "model_name": "FloatProgressModel",
          "model_module_version": "1.5.0",
          "state": {
            "_dom_classes": [],
            "_model_module": "@jupyter-widgets/controls",
            "_model_module_version": "1.5.0",
            "_model_name": "FloatProgressModel",
            "_view_count": null,
            "_view_module": "@jupyter-widgets/controls",
            "_view_module_version": "1.5.0",
            "_view_name": "ProgressView",
            "bar_style": "success",
            "description": "",
            "description_tooltip": null,
            "layout": "IPY_MODEL_67bd5fd2563d461bae2a7a19f346044a",
            "max": 29,
            "min": 0,
            "orientation": "horizontal",
            "style": "IPY_MODEL_c1dd4ed2d5ca4e1f99797ed3aa615a9e",
            "value": 29
          }
        },
        "020fb848bcf64c5d9912bc6a9ef3a962": {
          "model_module": "@jupyter-widgets/controls",
          "model_name": "HTMLModel",
          "model_module_version": "1.5.0",
          "state": {
            "_dom_classes": [],
            "_model_module": "@jupyter-widgets/controls",
            "_model_module_version": "1.5.0",
            "_model_name": "HTMLModel",
            "_view_count": null,
            "_view_module": "@jupyter-widgets/controls",
            "_view_module_version": "1.5.0",
            "_view_name": "HTMLView",
            "description": "",
            "description_tooltip": null,
            "layout": "IPY_MODEL_12f12954e0e14d58a5d791adca85751e",
            "placeholder": "​",
            "style": "IPY_MODEL_05a7978fd0f5407181d2177ef879a576",
            "value": " 29.0/29.0 [00:00&lt;00:00, 931B/s]"
          }
        },
        "20e5b658ce344ae3b1cd009b68c1c11b": {
          "model_module": "@jupyter-widgets/base",
          "model_name": "LayoutModel",
          "model_module_version": "1.2.0",
          "state": {
            "_model_module": "@jupyter-widgets/base",
            "_model_module_version": "1.2.0",
            "_model_name": "LayoutModel",
            "_view_count": null,
            "_view_module": "@jupyter-widgets/base",
            "_view_module_version": "1.2.0",
            "_view_name": "LayoutView",
            "align_content": null,
            "align_items": null,
            "align_self": null,
            "border": null,
            "bottom": null,
            "display": null,
            "flex": null,
            "flex_flow": null,
            "grid_area": null,
            "grid_auto_columns": null,
            "grid_auto_flow": null,
            "grid_auto_rows": null,
            "grid_column": null,
            "grid_gap": null,
            "grid_row": null,
            "grid_template_areas": null,
            "grid_template_columns": null,
            "grid_template_rows": null,
            "height": null,
            "justify_content": null,
            "justify_items": null,
            "left": null,
            "margin": null,
            "max_height": null,
            "max_width": null,
            "min_height": null,
            "min_width": null,
            "object_fit": null,
            "object_position": null,
            "order": null,
            "overflow": null,
            "overflow_x": null,
            "overflow_y": null,
            "padding": null,
            "right": null,
            "top": null,
            "visibility": null,
            "width": null
          }
        },
        "1ab19ac785434696a503973abcb2dd75": {
          "model_module": "@jupyter-widgets/base",
          "model_name": "LayoutModel",
          "model_module_version": "1.2.0",
          "state": {
            "_model_module": "@jupyter-widgets/base",
            "_model_module_version": "1.2.0",
            "_model_name": "LayoutModel",
            "_view_count": null,
            "_view_module": "@jupyter-widgets/base",
            "_view_module_version": "1.2.0",
            "_view_name": "LayoutView",
            "align_content": null,
            "align_items": null,
            "align_self": null,
            "border": null,
            "bottom": null,
            "display": null,
            "flex": null,
            "flex_flow": null,
            "grid_area": null,
            "grid_auto_columns": null,
            "grid_auto_flow": null,
            "grid_auto_rows": null,
            "grid_column": null,
            "grid_gap": null,
            "grid_row": null,
            "grid_template_areas": null,
            "grid_template_columns": null,
            "grid_template_rows": null,
            "height": null,
            "justify_content": null,
            "justify_items": null,
            "left": null,
            "margin": null,
            "max_height": null,
            "max_width": null,
            "min_height": null,
            "min_width": null,
            "object_fit": null,
            "object_position": null,
            "order": null,
            "overflow": null,
            "overflow_x": null,
            "overflow_y": null,
            "padding": null,
            "right": null,
            "top": null,
            "visibility": null,
            "width": null
          }
        },
        "9f7c347edc9d4e9980ac8073f9091872": {
          "model_module": "@jupyter-widgets/controls",
          "model_name": "DescriptionStyleModel",
          "model_module_version": "1.5.0",
          "state": {
            "_model_module": "@jupyter-widgets/controls",
            "_model_module_version": "1.5.0",
            "_model_name": "DescriptionStyleModel",
            "_view_count": null,
            "_view_module": "@jupyter-widgets/base",
            "_view_module_version": "1.2.0",
            "_view_name": "StyleView",
            "description_width": ""
          }
        },
        "67bd5fd2563d461bae2a7a19f346044a": {
          "model_module": "@jupyter-widgets/base",
          "model_name": "LayoutModel",
          "model_module_version": "1.2.0",
          "state": {
            "_model_module": "@jupyter-widgets/base",
            "_model_module_version": "1.2.0",
            "_model_name": "LayoutModel",
            "_view_count": null,
            "_view_module": "@jupyter-widgets/base",
            "_view_module_version": "1.2.0",
            "_view_name": "LayoutView",
            "align_content": null,
            "align_items": null,
            "align_self": null,
            "border": null,
            "bottom": null,
            "display": null,
            "flex": null,
            "flex_flow": null,
            "grid_area": null,
            "grid_auto_columns": null,
            "grid_auto_flow": null,
            "grid_auto_rows": null,
            "grid_column": null,
            "grid_gap": null,
            "grid_row": null,
            "grid_template_areas": null,
            "grid_template_columns": null,
            "grid_template_rows": null,
            "height": null,
            "justify_content": null,
            "justify_items": null,
            "left": null,
            "margin": null,
            "max_height": null,
            "max_width": null,
            "min_height": null,
            "min_width": null,
            "object_fit": null,
            "object_position": null,
            "order": null,
            "overflow": null,
            "overflow_x": null,
            "overflow_y": null,
            "padding": null,
            "right": null,
            "top": null,
            "visibility": null,
            "width": null
          }
        },
        "c1dd4ed2d5ca4e1f99797ed3aa615a9e": {
          "model_module": "@jupyter-widgets/controls",
          "model_name": "ProgressStyleModel",
          "model_module_version": "1.5.0",
          "state": {
            "_model_module": "@jupyter-widgets/controls",
            "_model_module_version": "1.5.0",
            "_model_name": "ProgressStyleModel",
            "_view_count": null,
            "_view_module": "@jupyter-widgets/base",
            "_view_module_version": "1.2.0",
            "_view_name": "StyleView",
            "bar_color": null,
            "description_width": ""
          }
        },
        "12f12954e0e14d58a5d791adca85751e": {
          "model_module": "@jupyter-widgets/base",
          "model_name": "LayoutModel",
          "model_module_version": "1.2.0",
          "state": {
            "_model_module": "@jupyter-widgets/base",
            "_model_module_version": "1.2.0",
            "_model_name": "LayoutModel",
            "_view_count": null,
            "_view_module": "@jupyter-widgets/base",
            "_view_module_version": "1.2.0",
            "_view_name": "LayoutView",
            "align_content": null,
            "align_items": null,
            "align_self": null,
            "border": null,
            "bottom": null,
            "display": null,
            "flex": null,
            "flex_flow": null,
            "grid_area": null,
            "grid_auto_columns": null,
            "grid_auto_flow": null,
            "grid_auto_rows": null,
            "grid_column": null,
            "grid_gap": null,
            "grid_row": null,
            "grid_template_areas": null,
            "grid_template_columns": null,
            "grid_template_rows": null,
            "height": null,
            "justify_content": null,
            "justify_items": null,
            "left": null,
            "margin": null,
            "max_height": null,
            "max_width": null,
            "min_height": null,
            "min_width": null,
            "object_fit": null,
            "object_position": null,
            "order": null,
            "overflow": null,
            "overflow_x": null,
            "overflow_y": null,
            "padding": null,
            "right": null,
            "top": null,
            "visibility": null,
            "width": null
          }
        },
        "05a7978fd0f5407181d2177ef879a576": {
          "model_module": "@jupyter-widgets/controls",
          "model_name": "DescriptionStyleModel",
          "model_module_version": "1.5.0",
          "state": {
            "_model_module": "@jupyter-widgets/controls",
            "_model_module_version": "1.5.0",
            "_model_name": "DescriptionStyleModel",
            "_view_count": null,
            "_view_module": "@jupyter-widgets/base",
            "_view_module_version": "1.2.0",
            "_view_name": "StyleView",
            "description_width": ""
          }
        },
        "357be3cf2f07484184ffe569f6a3a1af": {
          "model_module": "@jupyter-widgets/controls",
          "model_name": "HBoxModel",
          "model_module_version": "1.5.0",
          "state": {
            "_dom_classes": [],
            "_model_module": "@jupyter-widgets/controls",
            "_model_module_version": "1.5.0",
            "_model_name": "HBoxModel",
            "_view_count": null,
            "_view_module": "@jupyter-widgets/controls",
            "_view_module_version": "1.5.0",
            "_view_name": "HBoxView",
            "box_style": "",
            "children": [
              "IPY_MODEL_bfdde146642742cab0afbd4aba4bb48f",
              "IPY_MODEL_39f2b8ead2c64a58a8e12467d581918f",
              "IPY_MODEL_97335b0c9125406784462beee8b511f5"
            ],
            "layout": "IPY_MODEL_f73ab545d4714b98b3fdd5f52b71125a"
          }
        },
        "bfdde146642742cab0afbd4aba4bb48f": {
          "model_module": "@jupyter-widgets/controls",
          "model_name": "HTMLModel",
          "model_module_version": "1.5.0",
          "state": {
            "_dom_classes": [],
            "_model_module": "@jupyter-widgets/controls",
            "_model_module_version": "1.5.0",
            "_model_name": "HTMLModel",
            "_view_count": null,
            "_view_module": "@jupyter-widgets/controls",
            "_view_module_version": "1.5.0",
            "_view_name": "HTMLView",
            "description": "",
            "description_tooltip": null,
            "layout": "IPY_MODEL_7bef1f705cc94007b1f947b442d9af53",
            "placeholder": "​",
            "style": "IPY_MODEL_f6239cfa583b49cb8cc9cb72cb7220d3",
            "value": "Downloading (…)lve/main/config.json: 100%"
          }
        },
        "39f2b8ead2c64a58a8e12467d581918f": {
          "model_module": "@jupyter-widgets/controls",
          "model_name": "FloatProgressModel",
          "model_module_version": "1.5.0",
          "state": {
            "_dom_classes": [],
            "_model_module": "@jupyter-widgets/controls",
            "_model_module_version": "1.5.0",
            "_model_name": "FloatProgressModel",
            "_view_count": null,
            "_view_module": "@jupyter-widgets/controls",
            "_view_module_version": "1.5.0",
            "_view_name": "ProgressView",
            "bar_style": "success",
            "description": "",
            "description_tooltip": null,
            "layout": "IPY_MODEL_fc812accd9ee4425b16f5c278c19067d",
            "max": 570,
            "min": 0,
            "orientation": "horizontal",
            "style": "IPY_MODEL_aaf36a3c48c54783a3c2acc34ba87097",
            "value": 570
          }
        },
        "97335b0c9125406784462beee8b511f5": {
          "model_module": "@jupyter-widgets/controls",
          "model_name": "HTMLModel",
          "model_module_version": "1.5.0",
          "state": {
            "_dom_classes": [],
            "_model_module": "@jupyter-widgets/controls",
            "_model_module_version": "1.5.0",
            "_model_name": "HTMLModel",
            "_view_count": null,
            "_view_module": "@jupyter-widgets/controls",
            "_view_module_version": "1.5.0",
            "_view_name": "HTMLView",
            "description": "",
            "description_tooltip": null,
            "layout": "IPY_MODEL_26ca2d46b89c4f74ba818810c82e6c95",
            "placeholder": "​",
            "style": "IPY_MODEL_e98b687107ba4968be0decf577e1860b",
            "value": " 570/570 [00:00&lt;00:00, 13.2kB/s]"
          }
        },
        "f73ab545d4714b98b3fdd5f52b71125a": {
          "model_module": "@jupyter-widgets/base",
          "model_name": "LayoutModel",
          "model_module_version": "1.2.0",
          "state": {
            "_model_module": "@jupyter-widgets/base",
            "_model_module_version": "1.2.0",
            "_model_name": "LayoutModel",
            "_view_count": null,
            "_view_module": "@jupyter-widgets/base",
            "_view_module_version": "1.2.0",
            "_view_name": "LayoutView",
            "align_content": null,
            "align_items": null,
            "align_self": null,
            "border": null,
            "bottom": null,
            "display": null,
            "flex": null,
            "flex_flow": null,
            "grid_area": null,
            "grid_auto_columns": null,
            "grid_auto_flow": null,
            "grid_auto_rows": null,
            "grid_column": null,
            "grid_gap": null,
            "grid_row": null,
            "grid_template_areas": null,
            "grid_template_columns": null,
            "grid_template_rows": null,
            "height": null,
            "justify_content": null,
            "justify_items": null,
            "left": null,
            "margin": null,
            "max_height": null,
            "max_width": null,
            "min_height": null,
            "min_width": null,
            "object_fit": null,
            "object_position": null,
            "order": null,
            "overflow": null,
            "overflow_x": null,
            "overflow_y": null,
            "padding": null,
            "right": null,
            "top": null,
            "visibility": null,
            "width": null
          }
        },
        "7bef1f705cc94007b1f947b442d9af53": {
          "model_module": "@jupyter-widgets/base",
          "model_name": "LayoutModel",
          "model_module_version": "1.2.0",
          "state": {
            "_model_module": "@jupyter-widgets/base",
            "_model_module_version": "1.2.0",
            "_model_name": "LayoutModel",
            "_view_count": null,
            "_view_module": "@jupyter-widgets/base",
            "_view_module_version": "1.2.0",
            "_view_name": "LayoutView",
            "align_content": null,
            "align_items": null,
            "align_self": null,
            "border": null,
            "bottom": null,
            "display": null,
            "flex": null,
            "flex_flow": null,
            "grid_area": null,
            "grid_auto_columns": null,
            "grid_auto_flow": null,
            "grid_auto_rows": null,
            "grid_column": null,
            "grid_gap": null,
            "grid_row": null,
            "grid_template_areas": null,
            "grid_template_columns": null,
            "grid_template_rows": null,
            "height": null,
            "justify_content": null,
            "justify_items": null,
            "left": null,
            "margin": null,
            "max_height": null,
            "max_width": null,
            "min_height": null,
            "min_width": null,
            "object_fit": null,
            "object_position": null,
            "order": null,
            "overflow": null,
            "overflow_x": null,
            "overflow_y": null,
            "padding": null,
            "right": null,
            "top": null,
            "visibility": null,
            "width": null
          }
        },
        "f6239cfa583b49cb8cc9cb72cb7220d3": {
          "model_module": "@jupyter-widgets/controls",
          "model_name": "DescriptionStyleModel",
          "model_module_version": "1.5.0",
          "state": {
            "_model_module": "@jupyter-widgets/controls",
            "_model_module_version": "1.5.0",
            "_model_name": "DescriptionStyleModel",
            "_view_count": null,
            "_view_module": "@jupyter-widgets/base",
            "_view_module_version": "1.2.0",
            "_view_name": "StyleView",
            "description_width": ""
          }
        },
        "fc812accd9ee4425b16f5c278c19067d": {
          "model_module": "@jupyter-widgets/base",
          "model_name": "LayoutModel",
          "model_module_version": "1.2.0",
          "state": {
            "_model_module": "@jupyter-widgets/base",
            "_model_module_version": "1.2.0",
            "_model_name": "LayoutModel",
            "_view_count": null,
            "_view_module": "@jupyter-widgets/base",
            "_view_module_version": "1.2.0",
            "_view_name": "LayoutView",
            "align_content": null,
            "align_items": null,
            "align_self": null,
            "border": null,
            "bottom": null,
            "display": null,
            "flex": null,
            "flex_flow": null,
            "grid_area": null,
            "grid_auto_columns": null,
            "grid_auto_flow": null,
            "grid_auto_rows": null,
            "grid_column": null,
            "grid_gap": null,
            "grid_row": null,
            "grid_template_areas": null,
            "grid_template_columns": null,
            "grid_template_rows": null,
            "height": null,
            "justify_content": null,
            "justify_items": null,
            "left": null,
            "margin": null,
            "max_height": null,
            "max_width": null,
            "min_height": null,
            "min_width": null,
            "object_fit": null,
            "object_position": null,
            "order": null,
            "overflow": null,
            "overflow_x": null,
            "overflow_y": null,
            "padding": null,
            "right": null,
            "top": null,
            "visibility": null,
            "width": null
          }
        },
        "aaf36a3c48c54783a3c2acc34ba87097": {
          "model_module": "@jupyter-widgets/controls",
          "model_name": "ProgressStyleModel",
          "model_module_version": "1.5.0",
          "state": {
            "_model_module": "@jupyter-widgets/controls",
            "_model_module_version": "1.5.0",
            "_model_name": "ProgressStyleModel",
            "_view_count": null,
            "_view_module": "@jupyter-widgets/base",
            "_view_module_version": "1.2.0",
            "_view_name": "StyleView",
            "bar_color": null,
            "description_width": ""
          }
        },
        "26ca2d46b89c4f74ba818810c82e6c95": {
          "model_module": "@jupyter-widgets/base",
          "model_name": "LayoutModel",
          "model_module_version": "1.2.0",
          "state": {
            "_model_module": "@jupyter-widgets/base",
            "_model_module_version": "1.2.0",
            "_model_name": "LayoutModel",
            "_view_count": null,
            "_view_module": "@jupyter-widgets/base",
            "_view_module_version": "1.2.0",
            "_view_name": "LayoutView",
            "align_content": null,
            "align_items": null,
            "align_self": null,
            "border": null,
            "bottom": null,
            "display": null,
            "flex": null,
            "flex_flow": null,
            "grid_area": null,
            "grid_auto_columns": null,
            "grid_auto_flow": null,
            "grid_auto_rows": null,
            "grid_column": null,
            "grid_gap": null,
            "grid_row": null,
            "grid_template_areas": null,
            "grid_template_columns": null,
            "grid_template_rows": null,
            "height": null,
            "justify_content": null,
            "justify_items": null,
            "left": null,
            "margin": null,
            "max_height": null,
            "max_width": null,
            "min_height": null,
            "min_width": null,
            "object_fit": null,
            "object_position": null,
            "order": null,
            "overflow": null,
            "overflow_x": null,
            "overflow_y": null,
            "padding": null,
            "right": null,
            "top": null,
            "visibility": null,
            "width": null
          }
        },
        "e98b687107ba4968be0decf577e1860b": {
          "model_module": "@jupyter-widgets/controls",
          "model_name": "DescriptionStyleModel",
          "model_module_version": "1.5.0",
          "state": {
            "_model_module": "@jupyter-widgets/controls",
            "_model_module_version": "1.5.0",
            "_model_name": "DescriptionStyleModel",
            "_view_count": null,
            "_view_module": "@jupyter-widgets/base",
            "_view_module_version": "1.2.0",
            "_view_name": "StyleView",
            "description_width": ""
          }
        },
        "ad98a824c22a4c81bceafed7659738ce": {
          "model_module": "@jupyter-widgets/controls",
          "model_name": "HBoxModel",
          "model_module_version": "1.5.0",
          "state": {
            "_dom_classes": [],
            "_model_module": "@jupyter-widgets/controls",
            "_model_module_version": "1.5.0",
            "_model_name": "HBoxModel",
            "_view_count": null,
            "_view_module": "@jupyter-widgets/controls",
            "_view_module_version": "1.5.0",
            "_view_name": "HBoxView",
            "box_style": "",
            "children": [
              "IPY_MODEL_59471124af654079b18e1edadf7f91a5",
              "IPY_MODEL_778d4583db70497b8de1833ae07d7c8c",
              "IPY_MODEL_b2a621a187c24827a89ef9082b86ac24"
            ],
            "layout": "IPY_MODEL_383a2f8dd06c4dc69a5fc0346ac9cdc2"
          }
        },
        "59471124af654079b18e1edadf7f91a5": {
          "model_module": "@jupyter-widgets/controls",
          "model_name": "HTMLModel",
          "model_module_version": "1.5.0",
          "state": {
            "_dom_classes": [],
            "_model_module": "@jupyter-widgets/controls",
            "_model_module_version": "1.5.0",
            "_model_name": "HTMLModel",
            "_view_count": null,
            "_view_module": "@jupyter-widgets/controls",
            "_view_module_version": "1.5.0",
            "_view_name": "HTMLView",
            "description": "",
            "description_tooltip": null,
            "layout": "IPY_MODEL_79de016570ef47b0871edf398eedb99c",
            "placeholder": "​",
            "style": "IPY_MODEL_03ebfdf8a94e4ee2bad5180dc4b44c47",
            "value": "Downloading (…)solve/main/vocab.txt: 100%"
          }
        },
        "778d4583db70497b8de1833ae07d7c8c": {
          "model_module": "@jupyter-widgets/controls",
          "model_name": "FloatProgressModel",
          "model_module_version": "1.5.0",
          "state": {
            "_dom_classes": [],
            "_model_module": "@jupyter-widgets/controls",
            "_model_module_version": "1.5.0",
            "_model_name": "FloatProgressModel",
            "_view_count": null,
            "_view_module": "@jupyter-widgets/controls",
            "_view_module_version": "1.5.0",
            "_view_name": "ProgressView",
            "bar_style": "success",
            "description": "",
            "description_tooltip": null,
            "layout": "IPY_MODEL_d1fc39bc9c544a10b8875e581589e32b",
            "max": 213450,
            "min": 0,
            "orientation": "horizontal",
            "style": "IPY_MODEL_5f4c808b420e47dbbb121f2a6c73ab32",
            "value": 213450
          }
        },
        "b2a621a187c24827a89ef9082b86ac24": {
          "model_module": "@jupyter-widgets/controls",
          "model_name": "HTMLModel",
          "model_module_version": "1.5.0",
          "state": {
            "_dom_classes": [],
            "_model_module": "@jupyter-widgets/controls",
            "_model_module_version": "1.5.0",
            "_model_name": "HTMLModel",
            "_view_count": null,
            "_view_module": "@jupyter-widgets/controls",
            "_view_module_version": "1.5.0",
            "_view_name": "HTMLView",
            "description": "",
            "description_tooltip": null,
            "layout": "IPY_MODEL_ebd5a1e994f949fc86ebdab3f1ca0a24",
            "placeholder": "​",
            "style": "IPY_MODEL_3354739d4d6544aa9f608cb43f956916",
            "value": " 213k/213k [00:00&lt;00:00, 2.41MB/s]"
          }
        },
        "383a2f8dd06c4dc69a5fc0346ac9cdc2": {
          "model_module": "@jupyter-widgets/base",
          "model_name": "LayoutModel",
          "model_module_version": "1.2.0",
          "state": {
            "_model_module": "@jupyter-widgets/base",
            "_model_module_version": "1.2.0",
            "_model_name": "LayoutModel",
            "_view_count": null,
            "_view_module": "@jupyter-widgets/base",
            "_view_module_version": "1.2.0",
            "_view_name": "LayoutView",
            "align_content": null,
            "align_items": null,
            "align_self": null,
            "border": null,
            "bottom": null,
            "display": null,
            "flex": null,
            "flex_flow": null,
            "grid_area": null,
            "grid_auto_columns": null,
            "grid_auto_flow": null,
            "grid_auto_rows": null,
            "grid_column": null,
            "grid_gap": null,
            "grid_row": null,
            "grid_template_areas": null,
            "grid_template_columns": null,
            "grid_template_rows": null,
            "height": null,
            "justify_content": null,
            "justify_items": null,
            "left": null,
            "margin": null,
            "max_height": null,
            "max_width": null,
            "min_height": null,
            "min_width": null,
            "object_fit": null,
            "object_position": null,
            "order": null,
            "overflow": null,
            "overflow_x": null,
            "overflow_y": null,
            "padding": null,
            "right": null,
            "top": null,
            "visibility": null,
            "width": null
          }
        },
        "79de016570ef47b0871edf398eedb99c": {
          "model_module": "@jupyter-widgets/base",
          "model_name": "LayoutModel",
          "model_module_version": "1.2.0",
          "state": {
            "_model_module": "@jupyter-widgets/base",
            "_model_module_version": "1.2.0",
            "_model_name": "LayoutModel",
            "_view_count": null,
            "_view_module": "@jupyter-widgets/base",
            "_view_module_version": "1.2.0",
            "_view_name": "LayoutView",
            "align_content": null,
            "align_items": null,
            "align_self": null,
            "border": null,
            "bottom": null,
            "display": null,
            "flex": null,
            "flex_flow": null,
            "grid_area": null,
            "grid_auto_columns": null,
            "grid_auto_flow": null,
            "grid_auto_rows": null,
            "grid_column": null,
            "grid_gap": null,
            "grid_row": null,
            "grid_template_areas": null,
            "grid_template_columns": null,
            "grid_template_rows": null,
            "height": null,
            "justify_content": null,
            "justify_items": null,
            "left": null,
            "margin": null,
            "max_height": null,
            "max_width": null,
            "min_height": null,
            "min_width": null,
            "object_fit": null,
            "object_position": null,
            "order": null,
            "overflow": null,
            "overflow_x": null,
            "overflow_y": null,
            "padding": null,
            "right": null,
            "top": null,
            "visibility": null,
            "width": null
          }
        },
        "03ebfdf8a94e4ee2bad5180dc4b44c47": {
          "model_module": "@jupyter-widgets/controls",
          "model_name": "DescriptionStyleModel",
          "model_module_version": "1.5.0",
          "state": {
            "_model_module": "@jupyter-widgets/controls",
            "_model_module_version": "1.5.0",
            "_model_name": "DescriptionStyleModel",
            "_view_count": null,
            "_view_module": "@jupyter-widgets/base",
            "_view_module_version": "1.2.0",
            "_view_name": "StyleView",
            "description_width": ""
          }
        },
        "d1fc39bc9c544a10b8875e581589e32b": {
          "model_module": "@jupyter-widgets/base",
          "model_name": "LayoutModel",
          "model_module_version": "1.2.0",
          "state": {
            "_model_module": "@jupyter-widgets/base",
            "_model_module_version": "1.2.0",
            "_model_name": "LayoutModel",
            "_view_count": null,
            "_view_module": "@jupyter-widgets/base",
            "_view_module_version": "1.2.0",
            "_view_name": "LayoutView",
            "align_content": null,
            "align_items": null,
            "align_self": null,
            "border": null,
            "bottom": null,
            "display": null,
            "flex": null,
            "flex_flow": null,
            "grid_area": null,
            "grid_auto_columns": null,
            "grid_auto_flow": null,
            "grid_auto_rows": null,
            "grid_column": null,
            "grid_gap": null,
            "grid_row": null,
            "grid_template_areas": null,
            "grid_template_columns": null,
            "grid_template_rows": null,
            "height": null,
            "justify_content": null,
            "justify_items": null,
            "left": null,
            "margin": null,
            "max_height": null,
            "max_width": null,
            "min_height": null,
            "min_width": null,
            "object_fit": null,
            "object_position": null,
            "order": null,
            "overflow": null,
            "overflow_x": null,
            "overflow_y": null,
            "padding": null,
            "right": null,
            "top": null,
            "visibility": null,
            "width": null
          }
        },
        "5f4c808b420e47dbbb121f2a6c73ab32": {
          "model_module": "@jupyter-widgets/controls",
          "model_name": "ProgressStyleModel",
          "model_module_version": "1.5.0",
          "state": {
            "_model_module": "@jupyter-widgets/controls",
            "_model_module_version": "1.5.0",
            "_model_name": "ProgressStyleModel",
            "_view_count": null,
            "_view_module": "@jupyter-widgets/base",
            "_view_module_version": "1.2.0",
            "_view_name": "StyleView",
            "bar_color": null,
            "description_width": ""
          }
        },
        "ebd5a1e994f949fc86ebdab3f1ca0a24": {
          "model_module": "@jupyter-widgets/base",
          "model_name": "LayoutModel",
          "model_module_version": "1.2.0",
          "state": {
            "_model_module": "@jupyter-widgets/base",
            "_model_module_version": "1.2.0",
            "_model_name": "LayoutModel",
            "_view_count": null,
            "_view_module": "@jupyter-widgets/base",
            "_view_module_version": "1.2.0",
            "_view_name": "LayoutView",
            "align_content": null,
            "align_items": null,
            "align_self": null,
            "border": null,
            "bottom": null,
            "display": null,
            "flex": null,
            "flex_flow": null,
            "grid_area": null,
            "grid_auto_columns": null,
            "grid_auto_flow": null,
            "grid_auto_rows": null,
            "grid_column": null,
            "grid_gap": null,
            "grid_row": null,
            "grid_template_areas": null,
            "grid_template_columns": null,
            "grid_template_rows": null,
            "height": null,
            "justify_content": null,
            "justify_items": null,
            "left": null,
            "margin": null,
            "max_height": null,
            "max_width": null,
            "min_height": null,
            "min_width": null,
            "object_fit": null,
            "object_position": null,
            "order": null,
            "overflow": null,
            "overflow_x": null,
            "overflow_y": null,
            "padding": null,
            "right": null,
            "top": null,
            "visibility": null,
            "width": null
          }
        },
        "3354739d4d6544aa9f608cb43f956916": {
          "model_module": "@jupyter-widgets/controls",
          "model_name": "DescriptionStyleModel",
          "model_module_version": "1.5.0",
          "state": {
            "_model_module": "@jupyter-widgets/controls",
            "_model_module_version": "1.5.0",
            "_model_name": "DescriptionStyleModel",
            "_view_count": null,
            "_view_module": "@jupyter-widgets/base",
            "_view_module_version": "1.2.0",
            "_view_name": "StyleView",
            "description_width": ""
          }
        },
        "39014be38fcd46508291bd4c74c7e68b": {
          "model_module": "@jupyter-widgets/controls",
          "model_name": "HBoxModel",
          "model_module_version": "1.5.0",
          "state": {
            "_dom_classes": [],
            "_model_module": "@jupyter-widgets/controls",
            "_model_module_version": "1.5.0",
            "_model_name": "HBoxModel",
            "_view_count": null,
            "_view_module": "@jupyter-widgets/controls",
            "_view_module_version": "1.5.0",
            "_view_name": "HBoxView",
            "box_style": "",
            "children": [
              "IPY_MODEL_c606d3c1f94548689467f286e6b28fdb",
              "IPY_MODEL_a92f264bf11b4943ab6c67a7f0c285d5",
              "IPY_MODEL_634e4b07d36a4bda9e707acd09d66b7f"
            ],
            "layout": "IPY_MODEL_1d990a7843b945a588630e294054e560"
          }
        },
        "c606d3c1f94548689467f286e6b28fdb": {
          "model_module": "@jupyter-widgets/controls",
          "model_name": "HTMLModel",
          "model_module_version": "1.5.0",
          "state": {
            "_dom_classes": [],
            "_model_module": "@jupyter-widgets/controls",
            "_model_module_version": "1.5.0",
            "_model_name": "HTMLModel",
            "_view_count": null,
            "_view_module": "@jupyter-widgets/controls",
            "_view_module_version": "1.5.0",
            "_view_name": "HTMLView",
            "description": "",
            "description_tooltip": null,
            "layout": "IPY_MODEL_30b59b245cd6436790ebf8e63fddfc78",
            "placeholder": "​",
            "style": "IPY_MODEL_bd6a79f73fd34d939a0e9bc30ff4d032",
            "value": "Downloading (…)/main/tokenizer.json: 100%"
          }
        },
        "a92f264bf11b4943ab6c67a7f0c285d5": {
          "model_module": "@jupyter-widgets/controls",
          "model_name": "FloatProgressModel",
          "model_module_version": "1.5.0",
          "state": {
            "_dom_classes": [],
            "_model_module": "@jupyter-widgets/controls",
            "_model_module_version": "1.5.0",
            "_model_name": "FloatProgressModel",
            "_view_count": null,
            "_view_module": "@jupyter-widgets/controls",
            "_view_module_version": "1.5.0",
            "_view_name": "ProgressView",
            "bar_style": "success",
            "description": "",
            "description_tooltip": null,
            "layout": "IPY_MODEL_4eed2bb32c81468f994fa3e0064df28d",
            "max": 435797,
            "min": 0,
            "orientation": "horizontal",
            "style": "IPY_MODEL_991540ab9c9b4346872b1577bd6e5043",
            "value": 435797
          }
        },
        "634e4b07d36a4bda9e707acd09d66b7f": {
          "model_module": "@jupyter-widgets/controls",
          "model_name": "HTMLModel",
          "model_module_version": "1.5.0",
          "state": {
            "_dom_classes": [],
            "_model_module": "@jupyter-widgets/controls",
            "_model_module_version": "1.5.0",
            "_model_name": "HTMLModel",
            "_view_count": null,
            "_view_module": "@jupyter-widgets/controls",
            "_view_module_version": "1.5.0",
            "_view_name": "HTMLView",
            "description": "",
            "description_tooltip": null,
            "layout": "IPY_MODEL_d6a478bd02b243ed9f36aec259f858ab",
            "placeholder": "​",
            "style": "IPY_MODEL_39919d8ee1f24f4290d3f15ec1d67fc1",
            "value": " 436k/436k [00:00&lt;00:00, 4.17MB/s]"
          }
        },
        "1d990a7843b945a588630e294054e560": {
          "model_module": "@jupyter-widgets/base",
          "model_name": "LayoutModel",
          "model_module_version": "1.2.0",
          "state": {
            "_model_module": "@jupyter-widgets/base",
            "_model_module_version": "1.2.0",
            "_model_name": "LayoutModel",
            "_view_count": null,
            "_view_module": "@jupyter-widgets/base",
            "_view_module_version": "1.2.0",
            "_view_name": "LayoutView",
            "align_content": null,
            "align_items": null,
            "align_self": null,
            "border": null,
            "bottom": null,
            "display": null,
            "flex": null,
            "flex_flow": null,
            "grid_area": null,
            "grid_auto_columns": null,
            "grid_auto_flow": null,
            "grid_auto_rows": null,
            "grid_column": null,
            "grid_gap": null,
            "grid_row": null,
            "grid_template_areas": null,
            "grid_template_columns": null,
            "grid_template_rows": null,
            "height": null,
            "justify_content": null,
            "justify_items": null,
            "left": null,
            "margin": null,
            "max_height": null,
            "max_width": null,
            "min_height": null,
            "min_width": null,
            "object_fit": null,
            "object_position": null,
            "order": null,
            "overflow": null,
            "overflow_x": null,
            "overflow_y": null,
            "padding": null,
            "right": null,
            "top": null,
            "visibility": null,
            "width": null
          }
        },
        "30b59b245cd6436790ebf8e63fddfc78": {
          "model_module": "@jupyter-widgets/base",
          "model_name": "LayoutModel",
          "model_module_version": "1.2.0",
          "state": {
            "_model_module": "@jupyter-widgets/base",
            "_model_module_version": "1.2.0",
            "_model_name": "LayoutModel",
            "_view_count": null,
            "_view_module": "@jupyter-widgets/base",
            "_view_module_version": "1.2.0",
            "_view_name": "LayoutView",
            "align_content": null,
            "align_items": null,
            "align_self": null,
            "border": null,
            "bottom": null,
            "display": null,
            "flex": null,
            "flex_flow": null,
            "grid_area": null,
            "grid_auto_columns": null,
            "grid_auto_flow": null,
            "grid_auto_rows": null,
            "grid_column": null,
            "grid_gap": null,
            "grid_row": null,
            "grid_template_areas": null,
            "grid_template_columns": null,
            "grid_template_rows": null,
            "height": null,
            "justify_content": null,
            "justify_items": null,
            "left": null,
            "margin": null,
            "max_height": null,
            "max_width": null,
            "min_height": null,
            "min_width": null,
            "object_fit": null,
            "object_position": null,
            "order": null,
            "overflow": null,
            "overflow_x": null,
            "overflow_y": null,
            "padding": null,
            "right": null,
            "top": null,
            "visibility": null,
            "width": null
          }
        },
        "bd6a79f73fd34d939a0e9bc30ff4d032": {
          "model_module": "@jupyter-widgets/controls",
          "model_name": "DescriptionStyleModel",
          "model_module_version": "1.5.0",
          "state": {
            "_model_module": "@jupyter-widgets/controls",
            "_model_module_version": "1.5.0",
            "_model_name": "DescriptionStyleModel",
            "_view_count": null,
            "_view_module": "@jupyter-widgets/base",
            "_view_module_version": "1.2.0",
            "_view_name": "StyleView",
            "description_width": ""
          }
        },
        "4eed2bb32c81468f994fa3e0064df28d": {
          "model_module": "@jupyter-widgets/base",
          "model_name": "LayoutModel",
          "model_module_version": "1.2.0",
          "state": {
            "_model_module": "@jupyter-widgets/base",
            "_model_module_version": "1.2.0",
            "_model_name": "LayoutModel",
            "_view_count": null,
            "_view_module": "@jupyter-widgets/base",
            "_view_module_version": "1.2.0",
            "_view_name": "LayoutView",
            "align_content": null,
            "align_items": null,
            "align_self": null,
            "border": null,
            "bottom": null,
            "display": null,
            "flex": null,
            "flex_flow": null,
            "grid_area": null,
            "grid_auto_columns": null,
            "grid_auto_flow": null,
            "grid_auto_rows": null,
            "grid_column": null,
            "grid_gap": null,
            "grid_row": null,
            "grid_template_areas": null,
            "grid_template_columns": null,
            "grid_template_rows": null,
            "height": null,
            "justify_content": null,
            "justify_items": null,
            "left": null,
            "margin": null,
            "max_height": null,
            "max_width": null,
            "min_height": null,
            "min_width": null,
            "object_fit": null,
            "object_position": null,
            "order": null,
            "overflow": null,
            "overflow_x": null,
            "overflow_y": null,
            "padding": null,
            "right": null,
            "top": null,
            "visibility": null,
            "width": null
          }
        },
        "991540ab9c9b4346872b1577bd6e5043": {
          "model_module": "@jupyter-widgets/controls",
          "model_name": "ProgressStyleModel",
          "model_module_version": "1.5.0",
          "state": {
            "_model_module": "@jupyter-widgets/controls",
            "_model_module_version": "1.5.0",
            "_model_name": "ProgressStyleModel",
            "_view_count": null,
            "_view_module": "@jupyter-widgets/base",
            "_view_module_version": "1.2.0",
            "_view_name": "StyleView",
            "bar_color": null,
            "description_width": ""
          }
        },
        "d6a478bd02b243ed9f36aec259f858ab": {
          "model_module": "@jupyter-widgets/base",
          "model_name": "LayoutModel",
          "model_module_version": "1.2.0",
          "state": {
            "_model_module": "@jupyter-widgets/base",
            "_model_module_version": "1.2.0",
            "_model_name": "LayoutModel",
            "_view_count": null,
            "_view_module": "@jupyter-widgets/base",
            "_view_module_version": "1.2.0",
            "_view_name": "LayoutView",
            "align_content": null,
            "align_items": null,
            "align_self": null,
            "border": null,
            "bottom": null,
            "display": null,
            "flex": null,
            "flex_flow": null,
            "grid_area": null,
            "grid_auto_columns": null,
            "grid_auto_flow": null,
            "grid_auto_rows": null,
            "grid_column": null,
            "grid_gap": null,
            "grid_row": null,
            "grid_template_areas": null,
            "grid_template_columns": null,
            "grid_template_rows": null,
            "height": null,
            "justify_content": null,
            "justify_items": null,
            "left": null,
            "margin": null,
            "max_height": null,
            "max_width": null,
            "min_height": null,
            "min_width": null,
            "object_fit": null,
            "object_position": null,
            "order": null,
            "overflow": null,
            "overflow_x": null,
            "overflow_y": null,
            "padding": null,
            "right": null,
            "top": null,
            "visibility": null,
            "width": null
          }
        },
        "39919d8ee1f24f4290d3f15ec1d67fc1": {
          "model_module": "@jupyter-widgets/controls",
          "model_name": "DescriptionStyleModel",
          "model_module_version": "1.5.0",
          "state": {
            "_model_module": "@jupyter-widgets/controls",
            "_model_module_version": "1.5.0",
            "_model_name": "DescriptionStyleModel",
            "_view_count": null,
            "_view_module": "@jupyter-widgets/base",
            "_view_module_version": "1.2.0",
            "_view_name": "StyleView",
            "description_width": ""
          }
        },
        "99e7399d96f242348d4d9c7b37c18c12": {
          "model_module": "@jupyter-widgets/controls",
          "model_name": "HBoxModel",
          "model_module_version": "1.5.0",
          "state": {
            "_dom_classes": [],
            "_model_module": "@jupyter-widgets/controls",
            "_model_module_version": "1.5.0",
            "_model_name": "HBoxModel",
            "_view_count": null,
            "_view_module": "@jupyter-widgets/controls",
            "_view_module_version": "1.5.0",
            "_view_name": "HBoxView",
            "box_style": "",
            "children": [
              "IPY_MODEL_2344585d8cd34e2ebc1c02d24f6cb2fe",
              "IPY_MODEL_07f400c4d994415ab7adb070cae25ff1",
              "IPY_MODEL_47dfee87402f4e82a2e0ec96c208c790"
            ],
            "layout": "IPY_MODEL_0b9670b22a4645d48028f65d9e0c9761"
          }
        },
        "2344585d8cd34e2ebc1c02d24f6cb2fe": {
          "model_module": "@jupyter-widgets/controls",
          "model_name": "HTMLModel",
          "model_module_version": "1.5.0",
          "state": {
            "_dom_classes": [],
            "_model_module": "@jupyter-widgets/controls",
            "_model_module_version": "1.5.0",
            "_model_name": "HTMLModel",
            "_view_count": null,
            "_view_module": "@jupyter-widgets/controls",
            "_view_module_version": "1.5.0",
            "_view_name": "HTMLView",
            "description": "",
            "description_tooltip": null,
            "layout": "IPY_MODEL_d112f038b2164ecca76424d1dcc66d21",
            "placeholder": "​",
            "style": "IPY_MODEL_76e4eb1bdcea414ca895e0c99288c37a",
            "value": "Downloading pytorch_model.bin: 100%"
          }
        },
        "07f400c4d994415ab7adb070cae25ff1": {
          "model_module": "@jupyter-widgets/controls",
          "model_name": "FloatProgressModel",
          "model_module_version": "1.5.0",
          "state": {
            "_dom_classes": [],
            "_model_module": "@jupyter-widgets/controls",
            "_model_module_version": "1.5.0",
            "_model_name": "FloatProgressModel",
            "_view_count": null,
            "_view_module": "@jupyter-widgets/controls",
            "_view_module_version": "1.5.0",
            "_view_name": "ProgressView",
            "bar_style": "success",
            "description": "",
            "description_tooltip": null,
            "layout": "IPY_MODEL_674170fcd5df422bae9567983fc46f2b",
            "max": 435779157,
            "min": 0,
            "orientation": "horizontal",
            "style": "IPY_MODEL_c292d47d42c542e39e29b33ce9c07f80",
            "value": 435779157
          }
        },
        "47dfee87402f4e82a2e0ec96c208c790": {
          "model_module": "@jupyter-widgets/controls",
          "model_name": "HTMLModel",
          "model_module_version": "1.5.0",
          "state": {
            "_dom_classes": [],
            "_model_module": "@jupyter-widgets/controls",
            "_model_module_version": "1.5.0",
            "_model_name": "HTMLModel",
            "_view_count": null,
            "_view_module": "@jupyter-widgets/controls",
            "_view_module_version": "1.5.0",
            "_view_name": "HTMLView",
            "description": "",
            "description_tooltip": null,
            "layout": "IPY_MODEL_2ab85d18f55f44ce901dd7a5e049fb2f",
            "placeholder": "​",
            "style": "IPY_MODEL_64890427e1d84a1282600460a515b6f3",
            "value": " 436M/436M [00:05&lt;00:00, 102MB/s]"
          }
        },
        "0b9670b22a4645d48028f65d9e0c9761": {
          "model_module": "@jupyter-widgets/base",
          "model_name": "LayoutModel",
          "model_module_version": "1.2.0",
          "state": {
            "_model_module": "@jupyter-widgets/base",
            "_model_module_version": "1.2.0",
            "_model_name": "LayoutModel",
            "_view_count": null,
            "_view_module": "@jupyter-widgets/base",
            "_view_module_version": "1.2.0",
            "_view_name": "LayoutView",
            "align_content": null,
            "align_items": null,
            "align_self": null,
            "border": null,
            "bottom": null,
            "display": null,
            "flex": null,
            "flex_flow": null,
            "grid_area": null,
            "grid_auto_columns": null,
            "grid_auto_flow": null,
            "grid_auto_rows": null,
            "grid_column": null,
            "grid_gap": null,
            "grid_row": null,
            "grid_template_areas": null,
            "grid_template_columns": null,
            "grid_template_rows": null,
            "height": null,
            "justify_content": null,
            "justify_items": null,
            "left": null,
            "margin": null,
            "max_height": null,
            "max_width": null,
            "min_height": null,
            "min_width": null,
            "object_fit": null,
            "object_position": null,
            "order": null,
            "overflow": null,
            "overflow_x": null,
            "overflow_y": null,
            "padding": null,
            "right": null,
            "top": null,
            "visibility": null,
            "width": null
          }
        },
        "d112f038b2164ecca76424d1dcc66d21": {
          "model_module": "@jupyter-widgets/base",
          "model_name": "LayoutModel",
          "model_module_version": "1.2.0",
          "state": {
            "_model_module": "@jupyter-widgets/base",
            "_model_module_version": "1.2.0",
            "_model_name": "LayoutModel",
            "_view_count": null,
            "_view_module": "@jupyter-widgets/base",
            "_view_module_version": "1.2.0",
            "_view_name": "LayoutView",
            "align_content": null,
            "align_items": null,
            "align_self": null,
            "border": null,
            "bottom": null,
            "display": null,
            "flex": null,
            "flex_flow": null,
            "grid_area": null,
            "grid_auto_columns": null,
            "grid_auto_flow": null,
            "grid_auto_rows": null,
            "grid_column": null,
            "grid_gap": null,
            "grid_row": null,
            "grid_template_areas": null,
            "grid_template_columns": null,
            "grid_template_rows": null,
            "height": null,
            "justify_content": null,
            "justify_items": null,
            "left": null,
            "margin": null,
            "max_height": null,
            "max_width": null,
            "min_height": null,
            "min_width": null,
            "object_fit": null,
            "object_position": null,
            "order": null,
            "overflow": null,
            "overflow_x": null,
            "overflow_y": null,
            "padding": null,
            "right": null,
            "top": null,
            "visibility": null,
            "width": null
          }
        },
        "76e4eb1bdcea414ca895e0c99288c37a": {
          "model_module": "@jupyter-widgets/controls",
          "model_name": "DescriptionStyleModel",
          "model_module_version": "1.5.0",
          "state": {
            "_model_module": "@jupyter-widgets/controls",
            "_model_module_version": "1.5.0",
            "_model_name": "DescriptionStyleModel",
            "_view_count": null,
            "_view_module": "@jupyter-widgets/base",
            "_view_module_version": "1.2.0",
            "_view_name": "StyleView",
            "description_width": ""
          }
        },
        "674170fcd5df422bae9567983fc46f2b": {
          "model_module": "@jupyter-widgets/base",
          "model_name": "LayoutModel",
          "model_module_version": "1.2.0",
          "state": {
            "_model_module": "@jupyter-widgets/base",
            "_model_module_version": "1.2.0",
            "_model_name": "LayoutModel",
            "_view_count": null,
            "_view_module": "@jupyter-widgets/base",
            "_view_module_version": "1.2.0",
            "_view_name": "LayoutView",
            "align_content": null,
            "align_items": null,
            "align_self": null,
            "border": null,
            "bottom": null,
            "display": null,
            "flex": null,
            "flex_flow": null,
            "grid_area": null,
            "grid_auto_columns": null,
            "grid_auto_flow": null,
            "grid_auto_rows": null,
            "grid_column": null,
            "grid_gap": null,
            "grid_row": null,
            "grid_template_areas": null,
            "grid_template_columns": null,
            "grid_template_rows": null,
            "height": null,
            "justify_content": null,
            "justify_items": null,
            "left": null,
            "margin": null,
            "max_height": null,
            "max_width": null,
            "min_height": null,
            "min_width": null,
            "object_fit": null,
            "object_position": null,
            "order": null,
            "overflow": null,
            "overflow_x": null,
            "overflow_y": null,
            "padding": null,
            "right": null,
            "top": null,
            "visibility": null,
            "width": null
          }
        },
        "c292d47d42c542e39e29b33ce9c07f80": {
          "model_module": "@jupyter-widgets/controls",
          "model_name": "ProgressStyleModel",
          "model_module_version": "1.5.0",
          "state": {
            "_model_module": "@jupyter-widgets/controls",
            "_model_module_version": "1.5.0",
            "_model_name": "ProgressStyleModel",
            "_view_count": null,
            "_view_module": "@jupyter-widgets/base",
            "_view_module_version": "1.2.0",
            "_view_name": "StyleView",
            "bar_color": null,
            "description_width": ""
          }
        },
        "2ab85d18f55f44ce901dd7a5e049fb2f": {
          "model_module": "@jupyter-widgets/base",
          "model_name": "LayoutModel",
          "model_module_version": "1.2.0",
          "state": {
            "_model_module": "@jupyter-widgets/base",
            "_model_module_version": "1.2.0",
            "_model_name": "LayoutModel",
            "_view_count": null,
            "_view_module": "@jupyter-widgets/base",
            "_view_module_version": "1.2.0",
            "_view_name": "LayoutView",
            "align_content": null,
            "align_items": null,
            "align_self": null,
            "border": null,
            "bottom": null,
            "display": null,
            "flex": null,
            "flex_flow": null,
            "grid_area": null,
            "grid_auto_columns": null,
            "grid_auto_flow": null,
            "grid_auto_rows": null,
            "grid_column": null,
            "grid_gap": null,
            "grid_row": null,
            "grid_template_areas": null,
            "grid_template_columns": null,
            "grid_template_rows": null,
            "height": null,
            "justify_content": null,
            "justify_items": null,
            "left": null,
            "margin": null,
            "max_height": null,
            "max_width": null,
            "min_height": null,
            "min_width": null,
            "object_fit": null,
            "object_position": null,
            "order": null,
            "overflow": null,
            "overflow_x": null,
            "overflow_y": null,
            "padding": null,
            "right": null,
            "top": null,
            "visibility": null,
            "width": null
          }
        },
        "64890427e1d84a1282600460a515b6f3": {
          "model_module": "@jupyter-widgets/controls",
          "model_name": "DescriptionStyleModel",
          "model_module_version": "1.5.0",
          "state": {
            "_model_module": "@jupyter-widgets/controls",
            "_model_module_version": "1.5.0",
            "_model_name": "DescriptionStyleModel",
            "_view_count": null,
            "_view_module": "@jupyter-widgets/base",
            "_view_module_version": "1.2.0",
            "_view_name": "StyleView",
            "description_width": ""
          }
        }
      }
    }
  },
  "cells": [
    {
      "cell_type": "code",
      "source": [
        "#Installing Pydub for MP4 to WAV/MP3 format"
      ],
      "metadata": {
        "id": "PEsR9co6Dofh"
      },
      "execution_count": 1,
      "outputs": []
    },
    {
      "cell_type": "code",
      "source": [
        "!pip install pydub"
      ],
      "metadata": {
        "colab": {
          "base_uri": "https://localhost:8080/"
        },
        "id": "8FbVDejnJ-Un",
        "outputId": "4c45ea92-9bab-4fb1-84ff-5e52987743f3"
      },
      "execution_count": 2,
      "outputs": [
        {
          "output_type": "stream",
          "name": "stdout",
          "text": [
            "Looking in indexes: https://pypi.org/simple, https://us-python.pkg.dev/colab-wheels/public/simple/\n",
            "Collecting pydub\n",
            "  Downloading pydub-0.25.1-py2.py3-none-any.whl (32 kB)\n",
            "Installing collected packages: pydub\n",
            "Successfully installed pydub-0.25.1\n"
          ]
        }
      ]
    },
    {
      "cell_type": "code",
      "source": [
        "from pydub import AudioSegment\n",
        "\n",
        "# Load the MP4 file\n",
        "mp4_path = \"bates_121913_shy.mp4\"\n",
        "audio = AudioSegment.from_file(mp4_path, format=\"mp4\")\n",
        "\n",
        "# Export the audio as WAV\n",
        "wav_path = \"bates_121913_shy.wav\"\n",
        "audio.export(wav_path, format=\"wav\")"
      ],
      "metadata": {
        "colab": {
          "base_uri": "https://localhost:8080/"
        },
        "id": "65-tjfUVarTr",
        "outputId": "8cca798c-2d57-4f98-8186-64b0fdfc5dae"
      },
      "execution_count": 3,
      "outputs": [
        {
          "output_type": "execute_result",
          "data": {
            "text/plain": [
              "<_io.BufferedRandom name='bates_121913_shy.wav'>"
            ]
          },
          "metadata": {},
          "execution_count": 3
        }
      ]
    },
    {
      "cell_type": "code",
      "source": [
        "#Alternate Subprocess using ffmpeg"
      ],
      "metadata": {
        "id": "GpLusa7Ra-Sl"
      },
      "execution_count": 4,
      "outputs": []
    },
    {
      "cell_type": "code",
      "source": [
        "import subprocess\n",
        "\n",
        "mp4_path = \"bates_121913_shy.mp4\"\n",
        "wav_path = \"bates_121913_shy1.wav\"\n",
        "\n",
        "# Run the ffmpeg command as a subprocess\n",
        "subprocess.run([\"ffmpeg\", \"-i\", mp4_path, wav_path])"
      ],
      "metadata": {
        "colab": {
          "base_uri": "https://localhost:8080/"
        },
        "id": "UfhA0A3xKUgN",
        "outputId": "7dce8904-dc47-4009-c673-2df15d827c45"
      },
      "execution_count": 5,
      "outputs": [
        {
          "output_type": "execute_result",
          "data": {
            "text/plain": [
              "CompletedProcess(args=['ffmpeg', '-i', 'bates_121913_shy.mp4', 'bates_121913_shy1.wav'], returncode=0)"
            ]
          },
          "metadata": {},
          "execution_count": 5
        }
      ]
    },
    {
      "cell_type": "code",
      "source": [
        "!pip install git+https://github.com/openai/whisper.git "
      ],
      "metadata": {
        "colab": {
          "base_uri": "https://localhost:8080/"
        },
        "id": "DJdEbBcKKUh8",
        "outputId": "efeb68c5-edd2-42ad-a356-04e83dbee53e"
      },
      "execution_count": 6,
      "outputs": [
        {
          "output_type": "stream",
          "name": "stdout",
          "text": [
            "Looking in indexes: https://pypi.org/simple, https://us-python.pkg.dev/colab-wheels/public/simple/\n",
            "Collecting git+https://github.com/openai/whisper.git\n",
            "  Cloning https://github.com/openai/whisper.git to /tmp/pip-req-build-ypi_ruau\n",
            "  Running command git clone --filter=blob:none --quiet https://github.com/openai/whisper.git /tmp/pip-req-build-ypi_ruau\n",
            "  Resolved https://github.com/openai/whisper.git to commit 6dea21fd7f7253bfe450f1e2512a0fe47ee2d258\n",
            "  Installing build dependencies ... \u001b[?25l\u001b[?25hdone\n",
            "  Getting requirements to build wheel ... \u001b[?25l\u001b[?25hdone\n",
            "  Preparing metadata (pyproject.toml) ... \u001b[?25l\u001b[?25hdone\n",
            "Collecting triton==2.0.0\n",
            "  Downloading triton-2.0.0-1-cp39-cp39-manylinux2014_x86_64.manylinux_2_17_x86_64.whl (63.3 MB)\n",
            "\u001b[2K     \u001b[90m━━━━━━━━━━━━━━━━━━━━━━━━━━━━━━━━━━━━━━━━\u001b[0m \u001b[32m63.3/63.3 MB\u001b[0m \u001b[31m13.0 MB/s\u001b[0m eta \u001b[36m0:00:00\u001b[0m\n",
            "\u001b[?25hRequirement already satisfied: numba in /usr/local/lib/python3.9/dist-packages (from openai-whisper==20230314) (0.56.4)\n",
            "Collecting tiktoken==0.3.1\n",
            "  Downloading tiktoken-0.3.1-cp39-cp39-manylinux_2_17_x86_64.manylinux2014_x86_64.whl (1.7 MB)\n",
            "\u001b[2K     \u001b[90m━━━━━━━━━━━━━━━━━━━━━━━━━━━━━━━━━━━━━━━━\u001b[0m \u001b[32m1.7/1.7 MB\u001b[0m \u001b[31m54.7 MB/s\u001b[0m eta \u001b[36m0:00:00\u001b[0m\n",
            "\u001b[?25hRequirement already satisfied: more-itertools in /usr/local/lib/python3.9/dist-packages (from openai-whisper==20230314) (9.1.0)\n",
            "Requirement already satisfied: numpy in /usr/local/lib/python3.9/dist-packages (from openai-whisper==20230314) (1.22.4)\n",
            "Requirement already satisfied: tqdm in /usr/local/lib/python3.9/dist-packages (from openai-whisper==20230314) (4.65.0)\n",
            "Collecting ffmpeg-python==0.2.0\n",
            "  Downloading ffmpeg_python-0.2.0-py3-none-any.whl (25 kB)\n",
            "Requirement already satisfied: torch in /usr/local/lib/python3.9/dist-packages (from openai-whisper==20230314) (1.13.1+cu116)\n",
            "Requirement already satisfied: future in /usr/local/lib/python3.9/dist-packages (from ffmpeg-python==0.2.0->openai-whisper==20230314) (0.18.3)\n",
            "Requirement already satisfied: regex>=2022.1.18 in /usr/local/lib/python3.9/dist-packages (from tiktoken==0.3.1->openai-whisper==20230314) (2022.10.31)\n",
            "Requirement already satisfied: requests>=2.26.0 in /usr/local/lib/python3.9/dist-packages (from tiktoken==0.3.1->openai-whisper==20230314) (2.27.1)\n",
            "Requirement already satisfied: cmake in /usr/local/lib/python3.9/dist-packages (from triton==2.0.0->openai-whisper==20230314) (3.25.2)\n",
            "Requirement already satisfied: filelock in /usr/local/lib/python3.9/dist-packages (from triton==2.0.0->openai-whisper==20230314) (3.10.2)\n",
            "Collecting lit\n",
            "  Downloading lit-16.0.0.tar.gz (144 kB)\n",
            "\u001b[2K     \u001b[90m━━━━━━━━━━━━━━━━━━━━━━━━━━━━━━━━━━━━━━\u001b[0m \u001b[32m145.0/145.0 KB\u001b[0m \u001b[31m14.4 MB/s\u001b[0m eta \u001b[36m0:00:00\u001b[0m\n",
            "\u001b[?25h  Preparing metadata (setup.py) ... \u001b[?25l\u001b[?25hdone\n",
            "Requirement already satisfied: setuptools in /usr/local/lib/python3.9/dist-packages (from numba->openai-whisper==20230314) (67.6.0)\n",
            "Requirement already satisfied: llvmlite<0.40,>=0.39.0dev0 in /usr/local/lib/python3.9/dist-packages (from numba->openai-whisper==20230314) (0.39.1)\n",
            "Requirement already satisfied: typing-extensions in /usr/local/lib/python3.9/dist-packages (from torch->openai-whisper==20230314) (4.5.0)\n",
            "Requirement already satisfied: charset-normalizer~=2.0.0 in /usr/local/lib/python3.9/dist-packages (from requests>=2.26.0->tiktoken==0.3.1->openai-whisper==20230314) (2.0.12)\n",
            "Requirement already satisfied: urllib3<1.27,>=1.21.1 in /usr/local/lib/python3.9/dist-packages (from requests>=2.26.0->tiktoken==0.3.1->openai-whisper==20230314) (1.26.15)\n",
            "Requirement already satisfied: certifi>=2017.4.17 in /usr/local/lib/python3.9/dist-packages (from requests>=2.26.0->tiktoken==0.3.1->openai-whisper==20230314) (2022.12.7)\n",
            "Requirement already satisfied: idna<4,>=2.5 in /usr/local/lib/python3.9/dist-packages (from requests>=2.26.0->tiktoken==0.3.1->openai-whisper==20230314) (3.4)\n",
            "Building wheels for collected packages: openai-whisper, lit\n",
            "  Building wheel for openai-whisper (pyproject.toml) ... \u001b[?25l\u001b[?25hdone\n",
            "  Created wheel for openai-whisper: filename=openai_whisper-20230314-py3-none-any.whl size=796926 sha256=79f136323505d5216856df4ca61daa6f5b513ec60d6059c985d37b769a80d605\n",
            "  Stored in directory: /tmp/pip-ephem-wheel-cache-5ke2dalt/wheels/fe/03/29/e7919208d11b4ab32972cb448bb84a9a675d92cd52c9a48341\n",
            "  Building wheel for lit (setup.py) ... \u001b[?25l\u001b[?25hdone\n",
            "  Created wheel for lit: filename=lit-16.0.0-py3-none-any.whl size=93601 sha256=f2a9cb35c773d64ac8029fdcb6a23c967e20a6b6208b26c0b9d2e8e9f3018bf2\n",
            "  Stored in directory: /root/.cache/pip/wheels/c7/ee/80/1520ca86c3557f70e5504b802072f7fc3b0e2147f376b133ed\n",
            "Successfully built openai-whisper lit\n",
            "Installing collected packages: lit, ffmpeg-python, triton, tiktoken, openai-whisper\n",
            "Successfully installed ffmpeg-python-0.2.0 lit-16.0.0 openai-whisper-20230314 tiktoken-0.3.1 triton-2.0.0\n"
          ]
        }
      ]
    },
    {
      "cell_type": "code",
      "source": [
        "#Import Whisper"
      ],
      "metadata": {
        "id": "XTv5GX07LhbN"
      },
      "execution_count": 7,
      "outputs": []
    },
    {
      "cell_type": "code",
      "source": [
        "import whisper\n",
        "\n",
        "model = whisper.load_model(\"base\")\n",
        "\n",
        "result = model.transcribe(\"/content/bates_121913_shy.wav\", fp16=False, language='English')\n",
        "\n",
        "print(result[\"text\"])"
      ],
      "metadata": {
        "colab": {
          "base_uri": "https://localhost:8080/"
        },
        "id": "LZHNcZOGKUlD",
        "outputId": "04769104-6e47-41ad-9dde-c2c9f00c9c11"
      },
      "execution_count": 8,
      "outputs": [
        {
          "output_type": "stream",
          "name": "stderr",
          "text": [
            "100%|███████████████████████████████████████| 139M/139M [00:01<00:00, 97.7MiB/s]\n"
          ]
        },
        {
          "output_type": "stream",
          "name": "stdout",
          "text": [
            " David is the technician. The patient is shy. She is a Australian checker collie mix. Sixty nine pounds today, 11 years old. Temperature was 101 seven Fahrenheit. Heart rate was 108. Respiratory rate was 48. She was also panting. Patient is presented today for a right year, year hematoma, on or nose it last week on Wednesday. Otherwise doing well, eating, drinking, urinating and deprecating okay, no current medications, no heartworm or flantick. And its current diet is kibble, some of its vaccines are not up to date and there's no previous records. Hi, it's Dr. Beats with Medical Notes for Shy Heller, H-E-L-L-E-R patient number one two one nine one three on physical examination oral, mild twarter, PM4, left upper oral exam, right hematoma of penna scant debris AU, ear cytology, scant, coxye and yeast AU. Under integumentary, right subcue mass at the right stifle, one centimeter in diameter, roughly spherical, additionally right lateral thorax, a one centimeter subcue mass, each are freely movable, ocular flinticular sclerosis AU, where you can enter default normals for the rest with the exception of reproductive, hooded vulva, assessment oral hematoma, rule out secondary to yeast and or coxye bacterial infection, otherwise apparently healthy on examination, plan, rabies vaccine, one year subcutaneously right hind, just ear cleaning AU, Ocernia, it's still AU, half of 100 milligram rovera, P-O-B-I-D, time seven days, gave owner estimate for drainage and bandaging of hematoma versus doing full surgical repair.\n"
          ]
        }
      ]
    },
    {
      "cell_type": "code",
      "source": [
        "text = result[\"text\"]"
      ],
      "metadata": {
        "id": "5gwJ1Z-lKUms"
      },
      "execution_count": 9,
      "outputs": []
    },
    {
      "cell_type": "code",
      "source": [
        "text"
      ],
      "metadata": {
        "colab": {
          "base_uri": "https://localhost:8080/",
          "height": 140
        },
        "id": "ou3K-ehhKUp0",
        "outputId": "fdf6165b-96ff-4f31-be4e-c2525947e3bc"
      },
      "execution_count": 10,
      "outputs": [
        {
          "output_type": "execute_result",
          "data": {
            "text/plain": [
              "\" David is the technician. The patient is shy. She is a Australian checker collie mix. Sixty nine pounds today, 11 years old. Temperature was 101 seven Fahrenheit. Heart rate was 108. Respiratory rate was 48. She was also panting. Patient is presented today for a right year, year hematoma, on or nose it last week on Wednesday. Otherwise doing well, eating, drinking, urinating and deprecating okay, no current medications, no heartworm or flantick. And its current diet is kibble, some of its vaccines are not up to date and there's no previous records. Hi, it's Dr. Beats with Medical Notes for Shy Heller, H-E-L-L-E-R patient number one two one nine one three on physical examination oral, mild twarter, PM4, left upper oral exam, right hematoma of penna scant debris AU, ear cytology, scant, coxye and yeast AU. Under integumentary, right subcue mass at the right stifle, one centimeter in diameter, roughly spherical, additionally right lateral thorax, a one centimeter subcue mass, each are freely movable, ocular flinticular sclerosis AU, where you can enter default normals for the rest with the exception of reproductive, hooded vulva, assessment oral hematoma, rule out secondary to yeast and or coxye bacterial infection, otherwise apparently healthy on examination, plan, rabies vaccine, one year subcutaneously right hind, just ear cleaning AU, Ocernia, it's still AU, half of 100 milligram rovera, P-O-B-I-D, time seven days, gave owner estimate for drainage and bandaging of hematoma versus doing full surgical repair.\""
            ],
            "application/vnd.google.colaboratory.intrinsic+json": {
              "type": "string"
            }
          },
          "metadata": {},
          "execution_count": 10
        }
      ]
    },
    {
      "cell_type": "code",
      "source": [
        "import nltk\n",
        "nltk.download('punkt')\n",
        "  "
      ],
      "metadata": {
        "colab": {
          "base_uri": "https://localhost:8080/"
        },
        "id": "xW2RMZmvvwqI",
        "outputId": "48fd9068-27db-466d-ebcc-2e7f499a5a5c"
      },
      "execution_count": 11,
      "outputs": [
        {
          "output_type": "stream",
          "name": "stderr",
          "text": [
            "[nltk_data] Downloading package punkt to /root/nltk_data...\n",
            "[nltk_data]   Unzipping tokenizers/punkt.zip.\n"
          ]
        },
        {
          "output_type": "execute_result",
          "data": {
            "text/plain": [
              "True"
            ]
          },
          "metadata": {},
          "execution_count": 11
        }
      ]
    },
    {
      "cell_type": "code",
      "source": [
        "import pandas as pd\n",
        "import librosa\n",
        "import numpy as np\n",
        "import nltk\n",
        "\n",
        "\n",
        "# Tokenize the input string\n",
        "tokens = nltk.word_tokenize(text)\n",
        "\n",
        "# Load audio file\n",
        "audio_data, sampling_rate = librosa.load('/content/bates_121913_shy.wav')\n",
        "\n",
        "# Convert audio data to floating-point format\n",
        "audio_data_float = audio_data.astype(np.float32)\n",
        "\n",
        "# Compute the duration of each token in seconds\n",
        "token_durations = []\n",
        "for token in tokens:\n",
        "    # Compute the duration of the token in seconds\n",
        "    token_duration = librosa.core.samples_to_time(len(token) * sampling_rate)\n",
        "    token_durations.append(token_duration)\n",
        "\n",
        "# Compute the timestamp of each token\n",
        "timestamps = []\n",
        "current_time = 0.0\n",
        "for token_duration in token_durations:\n",
        "    timestamps.append(current_time)\n",
        "    current_time += token_duration\n",
        "timestamps.append(current_time) # Add the end time of the last token\n",
        "\n",
        "# Assign a default confidence score of 1.0 to each token\n",
        "confidence_scores = [1.0] * len(tokens)\n",
        "\n",
        "# Create a pandas dataframe with the token, start time, end time, and confidence score\n",
        "df = pd.DataFrame({'Token': tokens, 'Start Time': timestamps[:-1], 'End Time': timestamps[1:], 'Confidence Score': confidence_scores})\n",
        "\n",
        "# Print the resulting dataframe\n",
        "print(df)\n"
      ],
      "metadata": {
        "colab": {
          "base_uri": "https://localhost:8080/"
        },
        "id": "Xlovef0ovKLs",
        "outputId": "ad7489ea-b4ed-494b-e333-3dd864a66ea6"
      },
      "execution_count": 12,
      "outputs": [
        {
          "output_type": "stream",
          "name": "stdout",
          "text": [
            "          Token  Start Time  End Time  Confidence Score\n",
            "0         David         0.0       5.0               1.0\n",
            "1            is         5.0       7.0               1.0\n",
            "2           the         7.0      10.0               1.0\n",
            "3    technician        10.0      20.0               1.0\n",
            "4             .        20.0      21.0               1.0\n",
            "..          ...         ...       ...               ...\n",
            "294       doing      1267.0    1272.0               1.0\n",
            "295        full      1272.0    1276.0               1.0\n",
            "296    surgical      1276.0    1284.0               1.0\n",
            "297      repair      1284.0    1290.0               1.0\n",
            "298           .      1290.0    1291.0               1.0\n",
            "\n",
            "[299 rows x 4 columns]\n"
          ]
        }
      ]
    },
    {
      "cell_type": "code",
      "source": [
        "import pandas as pd\n",
        "import librosa\n",
        "import numpy as np\n",
        "import nltk\n",
        "\n",
        "\n",
        "# Tokenize the input string\n",
        "tokens = nltk.word_tokenize(text)\n",
        "\n",
        "# Load audio file\n",
        "audio_data, sampling_rate = librosa.load('/content/bates_121913_shy.wav')\n",
        "\n",
        "# Convert audio data to floating-point format\n",
        "audio_data_float = audio_data.astype(np.float32)\n",
        "\n",
        "# Compute the duration of each token in seconds\n",
        "token_durations = []\n",
        "for token in tokens:\n",
        "    # Compute the duration of the token in seconds\n",
        "    token_duration = librosa.core.samples_to_time(len(token) * sampling_rate)\n",
        "    token_durations.append(token_duration)\n",
        "\n",
        "# Compute the timestamp of each token\n",
        "timestamps = []\n",
        "current_time = 0.0\n",
        "for token_duration in token_durations:\n",
        "    timestamps.append(current_time)\n",
        "    current_time += token_duration\n",
        "timestamps.append(current_time) # Add the end time of the last token\n",
        "\n",
        "# Assign a default confidence score of 1.0 to each token\n",
        "#confidence_scores = [1.0] * len(tokens)\n",
        "\n",
        "# Create a pandas dataframe with the token, start time, end time, and confidence score\n",
        "df = pd.DataFrame({'Token': tokens, 'Start Time': timestamps[:-1], 'End Time': timestamps[1:], 'Confidence Score': confidence_scores})\n",
        "\n",
        "# Print the resulting dataframe\n",
        "print(df)\n"
      ],
      "metadata": {
        "colab": {
          "base_uri": "https://localhost:8080/",
          "height": 235
        },
        "id": "hqvjA3cjD-iQ",
        "outputId": "669f8f75-e892-4cb3-921f-9569b5667a90"
      },
      "execution_count": 1,
      "outputs": [
        {
          "output_type": "error",
          "ename": "NameError",
          "evalue": "ignored",
          "traceback": [
            "\u001b[0;31m---------------------------------------------------------------------------\u001b[0m",
            "\u001b[0;31mNameError\u001b[0m                                 Traceback (most recent call last)",
            "\u001b[0;32m<ipython-input-1-fd6118ccfccb>\u001b[0m in \u001b[0;36m<module>\u001b[0;34m\u001b[0m\n\u001b[1;32m      6\u001b[0m \u001b[0;34m\u001b[0m\u001b[0m\n\u001b[1;32m      7\u001b[0m \u001b[0;31m# Tokenize the input string\u001b[0m\u001b[0;34m\u001b[0m\u001b[0;34m\u001b[0m\u001b[0m\n\u001b[0;32m----> 8\u001b[0;31m \u001b[0mtokens\u001b[0m \u001b[0;34m=\u001b[0m \u001b[0mnltk\u001b[0m\u001b[0;34m.\u001b[0m\u001b[0mword_tokenize\u001b[0m\u001b[0;34m(\u001b[0m\u001b[0mtext\u001b[0m\u001b[0;34m)\u001b[0m\u001b[0;34m\u001b[0m\u001b[0;34m\u001b[0m\u001b[0m\n\u001b[0m\u001b[1;32m      9\u001b[0m \u001b[0;34m\u001b[0m\u001b[0m\n\u001b[1;32m     10\u001b[0m \u001b[0;31m# Load audio file\u001b[0m\u001b[0;34m\u001b[0m\u001b[0;34m\u001b[0m\u001b[0m\n",
            "\u001b[0;31mNameError\u001b[0m: name 'text' is not defined"
          ]
        }
      ]
    },
    {
      "cell_type": "code",
      "source": [],
      "metadata": {
        "id": "2rbWMH9oD-jv"
      },
      "execution_count": null,
      "outputs": []
    },
    {
      "cell_type": "code",
      "source": [],
      "metadata": {
        "id": "FozIQPmbD-oX"
      },
      "execution_count": null,
      "outputs": []
    },
    {
      "cell_type": "code",
      "source": [
        "!pip install transformers"
      ],
      "metadata": {
        "colab": {
          "base_uri": "https://localhost:8080/"
        },
        "id": "qLx6oBGE0zUO",
        "outputId": "bb7bdbd0-3fa5-4e57-daa0-9f8ffb450173"
      },
      "execution_count": 13,
      "outputs": [
        {
          "output_type": "stream",
          "name": "stdout",
          "text": [
            "Looking in indexes: https://pypi.org/simple, https://us-python.pkg.dev/colab-wheels/public/simple/\n",
            "Collecting transformers\n",
            "  Downloading transformers-4.27.3-py3-none-any.whl (6.8 MB)\n",
            "\u001b[2K     \u001b[90m━━━━━━━━━━━━━━━━━━━━━━━━━━━━━━━━━━━━━━━━\u001b[0m \u001b[32m6.8/6.8 MB\u001b[0m \u001b[31m53.0 MB/s\u001b[0m eta \u001b[36m0:00:00\u001b[0m\n",
            "\u001b[?25hCollecting huggingface-hub<1.0,>=0.11.0\n",
            "  Downloading huggingface_hub-0.13.3-py3-none-any.whl (199 kB)\n",
            "\u001b[2K     \u001b[90m━━━━━━━━━━━━━━━━━━━━━━━━━━━━━━━━━━━━━━\u001b[0m \u001b[32m199.8/199.8 KB\u001b[0m \u001b[31m19.7 MB/s\u001b[0m eta \u001b[36m0:00:00\u001b[0m\n",
            "\u001b[?25hCollecting tokenizers!=0.11.3,<0.14,>=0.11.1\n",
            "  Downloading tokenizers-0.13.2-cp39-cp39-manylinux_2_17_x86_64.manylinux2014_x86_64.whl (7.6 MB)\n",
            "\u001b[2K     \u001b[90m━━━━━━━━━━━━━━━━━━━━━━━━━━━━━━━━━━━━━━━━\u001b[0m \u001b[32m7.6/7.6 MB\u001b[0m \u001b[31m88.9 MB/s\u001b[0m eta \u001b[36m0:00:00\u001b[0m\n",
            "\u001b[?25hRequirement already satisfied: numpy>=1.17 in /usr/local/lib/python3.9/dist-packages (from transformers) (1.22.4)\n",
            "Requirement already satisfied: filelock in /usr/local/lib/python3.9/dist-packages (from transformers) (3.10.2)\n",
            "Requirement already satisfied: pyyaml>=5.1 in /usr/local/lib/python3.9/dist-packages (from transformers) (6.0)\n",
            "Requirement already satisfied: tqdm>=4.27 in /usr/local/lib/python3.9/dist-packages (from transformers) (4.65.0)\n",
            "Requirement already satisfied: regex!=2019.12.17 in /usr/local/lib/python3.9/dist-packages (from transformers) (2022.10.31)\n",
            "Requirement already satisfied: packaging>=20.0 in /usr/local/lib/python3.9/dist-packages (from transformers) (23.0)\n",
            "Requirement already satisfied: requests in /usr/local/lib/python3.9/dist-packages (from transformers) (2.27.1)\n",
            "Requirement already satisfied: typing-extensions>=3.7.4.3 in /usr/local/lib/python3.9/dist-packages (from huggingface-hub<1.0,>=0.11.0->transformers) (4.5.0)\n",
            "Requirement already satisfied: idna<4,>=2.5 in /usr/local/lib/python3.9/dist-packages (from requests->transformers) (3.4)\n",
            "Requirement already satisfied: urllib3<1.27,>=1.21.1 in /usr/local/lib/python3.9/dist-packages (from requests->transformers) (1.26.15)\n",
            "Requirement already satisfied: certifi>=2017.4.17 in /usr/local/lib/python3.9/dist-packages (from requests->transformers) (2022.12.7)\n",
            "Requirement already satisfied: charset-normalizer~=2.0.0 in /usr/local/lib/python3.9/dist-packages (from requests->transformers) (2.0.12)\n",
            "Installing collected packages: tokenizers, huggingface-hub, transformers\n",
            "Successfully installed huggingface-hub-0.13.3 tokenizers-0.13.2 transformers-4.27.3\n"
          ]
        }
      ]
    },
    {
      "cell_type": "code",
      "source": [
        "import torch\n",
        "from transformers import AutoTokenizer, AutoModelForTokenClassification\n",
        "\n",
        "# Load pre-trained NLP model and tokenizer\n",
        "model_name = \"bert-base-cased\"\n",
        "tokenizer = AutoTokenizer.from_pretrained(model_name)\n",
        "model = AutoModelForTokenClassification.from_pretrained(model_name)\n",
        "\n",
        "# Define input text\n",
        "#text = \" David is the technician. The patient is shy. She is a Australian checker collie mix. Sixty nine pounds today, 11 years old. Temperature was 101 seven Fahrenheit. Heart rate was 108. Respiratory rate was 48. She was also panting. Patient is presented today for a right year, year hematoma, on or nose it last week on Wednesday. Otherwise doing well, eating, drinking, urinating and deprecating okay, no current medications, no heartworm or flantick. And its current diet is kibble, some of its vaccines are not up to date and there's no previous records. Hi, it's Dr. Beats with Medical Notes for Shy Heller, H-E-L-L-E-R patient number one two one nine one three on physical examination oral, mild twarter, PM4, left upper oral exam, right hematoma of penna scant debris AU, ear cytology, scant, coxye and yeast AU. Under integumentary, right subcue mass at the right stifle, one centimeter in diameter, roughly spherical, additionally right lateral thorax, a one centimeter subcue mass, each are freely movable, ocular flinticular sclerosis AU, where you can enter default normals for the rest with the exception of reproductive, hooded vulva, assessment oral hematoma, rule out secondary to yeast and or coxye bacterial infection, otherwise apparently healthy on examination, plan, rabies vaccine, one year subcutaneously right hind, just ear cleaning AU, Ocernia, it's still AU, half of 100 milligram rovera, P-O-B-I-D, time seven days, gave owner estimate for drainage and bandaging of hematoma versus doing full surgical repair.\"\n",
        "\n",
        "# Tokenize input text and convert to input tensor\n",
        "inputs = tokenizer(text, return_tensors='pt')\n",
        "input_ids_tensor = inputs['input_ids']\n",
        "\n",
        "# Pass input tensor through pre-trained model to generate confidence scores for each token\n",
        "outputs = model(input_ids_tensor)\n",
        "confidences = outputs.logits.argmax(dim=2)[0, 1:-1].float().softmax(dim=0).detach().numpy()\n",
        "\n",
        "# Create list of words and confidence scores\n",
        "words = tokenizer.tokenize(text)\n",
        "confidence_scores = confidences.tolist()\n",
        "\n",
        "\n",
        "# Print results\n",
        "print(confidence_scores)\n",
        "\n",
        "\n"
      ],
      "metadata": {
        "colab": {
          "base_uri": "https://localhost:8080/",
          "height": 504
        },
        "id": "QEgxkCze0zXy",
        "outputId": "33f85d88-1018-4c7a-f41d-2800120b5bd4"
      },
      "execution_count": 18,
      "outputs": [
        {
          "output_type": "stream",
          "name": "stderr",
          "text": [
            "Some weights of the model checkpoint at bert-base-cased were not used when initializing BertForTokenClassification: ['cls.predictions.transform.dense.weight', 'cls.seq_relationship.bias', 'cls.predictions.decoder.weight', 'cls.predictions.transform.dense.bias', 'cls.predictions.bias', 'cls.predictions.transform.LayerNorm.bias', 'cls.seq_relationship.weight', 'cls.predictions.transform.LayerNorm.weight']\n",
            "- This IS expected if you are initializing BertForTokenClassification from the checkpoint of a model trained on another task or with another architecture (e.g. initializing a BertForSequenceClassification model from a BertForPreTraining model).\n",
            "- This IS NOT expected if you are initializing BertForTokenClassification from the checkpoint of a model that you expect to be exactly identical (initializing a BertForSequenceClassification model from a BertForSequenceClassification model).\n",
            "Some weights of BertForTokenClassification were not initialized from the model checkpoint at bert-base-cased and are newly initialized: ['classifier.weight', 'classifier.bias']\n",
            "You should probably TRAIN this model on a down-stream task to be able to use it for predictions and inference.\n"
          ]
        },
        {
          "output_type": "stream",
          "name": "stdout",
          "text": [
            "[0.00197420222684741, 0.00197420222684741, 0.00197420222684741, 0.00197420222684741, 0.00197420222684741, 0.00197420222684741, 0.00197420222684741, 0.00197420222684741, 0.00197420222684741, 0.00197420222684741, 0.00197420222684741, 0.00197420222684741, 0.00197420222684741, 0.00197420222684741, 0.00197420222684741, 0.00197420222684741, 0.00197420222684741, 0.00197420222684741, 0.00197420222684741, 0.00197420222684741, 0.005366438068449497, 0.00197420222684741, 0.00197420222684741, 0.00197420222684741, 0.00197420222684741, 0.00197420222684741, 0.005366438068449497, 0.00197420222684741, 0.00197420222684741, 0.00197420222684741, 0.00197420222684741, 0.00197420222684741, 0.00197420222684741, 0.00197420222684741, 0.005366438068449497, 0.00197420222684741, 0.00197420222684741, 0.00197420222684741, 0.00197420222684741, 0.005366438068449497, 0.00197420222684741, 0.00197420222684741, 0.005366438068449497, 0.00197420222684741, 0.00197420222684741, 0.00197420222684741, 0.005366438068449497, 0.00197420222684741, 0.00197420222684741, 0.00197420222684741, 0.00197420222684741, 0.00197420222684741, 0.00197420222684741, 0.00197420222684741, 0.00197420222684741, 0.00197420222684741, 0.00197420222684741, 0.00197420222684741, 0.00197420222684741, 0.005366438068449497, 0.00197420222684741, 0.00197420222684741, 0.00197420222684741, 0.00197420222684741, 0.00197420222684741, 0.00197420222684741, 0.00197420222684741, 0.00197420222684741, 0.00197420222684741, 0.00197420222684741, 0.00197420222684741, 0.00197420222684741, 0.00197420222684741, 0.00197420222684741, 0.00197420222684741, 0.00197420222684741, 0.00197420222684741, 0.00197420222684741, 0.00197420222684741, 0.00197420222684741, 0.00197420222684741, 0.00197420222684741, 0.00197420222684741, 0.005366438068449497, 0.005366438068449497, 0.00197420222684741, 0.00197420222684741, 0.00197420222684741, 0.00197420222684741, 0.005366438068449497, 0.00197420222684741, 0.005366438068449497, 0.00197420222684741, 0.00197420222684741, 0.00197420222684741, 0.00197420222684741, 0.00197420222684741, 0.00197420222684741, 0.005366438068449497, 0.00197420222684741, 0.00197420222684741, 0.00197420222684741, 0.00197420222684741, 0.00197420222684741, 0.00197420222684741, 0.00197420222684741, 0.00197420222684741, 0.00197420222684741, 0.00197420222684741, 0.00197420222684741, 0.00197420222684741, 0.005366438068449497, 0.00197420222684741, 0.005366438068449497, 0.00197420222684741, 0.00197420222684741, 0.00197420222684741, 0.00197420222684741, 0.00197420222684741, 0.00197420222684741, 0.005366438068449497, 0.00197420222684741, 0.005366438068449497, 0.00197420222684741, 0.00197420222684741, 0.00197420222684741, 0.00197420222684741, 0.00197420222684741, 0.00197420222684741, 0.00197420222684741, 0.00197420222684741, 0.00197420222684741, 0.00197420222684741, 0.00197420222684741, 0.00197420222684741, 0.00197420222684741, 0.00197420222684741, 0.00197420222684741, 0.00197420222684741, 0.00197420222684741, 0.005366438068449497, 0.005366438068449497, 0.00197420222684741, 0.00197420222684741, 0.00197420222684741, 0.005366438068449497, 0.00197420222684741, 0.00197420222684741, 0.00197420222684741, 0.00197420222684741, 0.00197420222684741, 0.00197420222684741, 0.00197420222684741, 0.00197420222684741, 0.00197420222684741, 0.00197420222684741, 0.00197420222684741, 0.00197420222684741, 0.00197420222684741, 0.00197420222684741, 0.00197420222684741, 0.00197420222684741, 0.00197420222684741, 0.00197420222684741, 0.00197420222684741, 0.00197420222684741, 0.00197420222684741, 0.00197420222684741, 0.00197420222684741, 0.00197420222684741, 0.005366438068449497, 0.00197420222684741, 0.005366438068449497, 0.00197420222684741, 0.00197420222684741, 0.00197420222684741, 0.00197420222684741, 0.00197420222684741, 0.00197420222684741, 0.00197420222684741, 0.005366438068449497, 0.005366438068449497, 0.00197420222684741, 0.00197420222684741, 0.00197420222684741, 0.005366438068449497, 0.00197420222684741, 0.00197420222684741, 0.005366438068449497, 0.005366438068449497, 0.005366438068449497, 0.00197420222684741, 0.00197420222684741, 0.00197420222684741, 0.005366438068449497, 0.005366438068449497, 0.00197420222684741, 0.00197420222684741, 0.005366438068449497, 0.00197420222684741, 0.005366438068449497, 0.00197420222684741, 0.005366438068449497, 0.005366438068449497, 0.00197420222684741, 0.00197420222684741, 0.005366438068449497, 0.005366438068449497, 0.00197420222684741, 0.005366438068449497, 0.00197420222684741, 0.00197420222684741, 0.00197420222684741, 0.005366438068449497, 0.00197420222684741, 0.00197420222684741, 0.00197420222684741, 0.005366438068449497, 0.00197420222684741, 0.00197420222684741, 0.00197420222684741, 0.005366438068449497, 0.00197420222684741, 0.005366438068449497, 0.00197420222684741, 0.00197420222684741, 0.00197420222684741, 0.00197420222684741, 0.00197420222684741, 0.00197420222684741, 0.00197420222684741, 0.00197420222684741, 0.005366438068449497, 0.00197420222684741, 0.00197420222684741, 0.00197420222684741, 0.00197420222684741, 0.005366438068449497, 0.00197420222684741, 0.00197420222684741, 0.00197420222684741, 0.00197420222684741, 0.00197420222684741, 0.005366438068449497, 0.00197420222684741, 0.00197420222684741, 0.00197420222684741, 0.00197420222684741, 0.00197420222684741, 0.005366438068449497, 0.005366438068449497, 0.00197420222684741, 0.00197420222684741, 0.00197420222684741, 0.00197420222684741, 0.00197420222684741, 0.00197420222684741, 0.00197420222684741, 0.00197420222684741, 0.00197420222684741, 0.00197420222684741, 0.00197420222684741, 0.00197420222684741, 0.005366438068449497, 0.00197420222684741, 0.00197420222684741, 0.00197420222684741, 0.00197420222684741, 0.005366438068449497, 0.00197420222684741, 0.00197420222684741, 0.00197420222684741, 0.00197420222684741, 0.00197420222684741, 0.005366438068449497, 0.00197420222684741, 0.00197420222684741, 0.00197420222684741, 0.00197420222684741, 0.005366438068449497, 0.005366438068449497, 0.00197420222684741, 0.00197420222684741, 0.00197420222684741, 0.00197420222684741, 0.00197420222684741, 0.00197420222684741, 0.00197420222684741, 0.00197420222684741, 0.00197420222684741, 0.005366438068449497, 0.00197420222684741, 0.00197420222684741, 0.005366438068449497, 0.00197420222684741, 0.00197420222684741, 0.00197420222684741, 0.00197420222684741, 0.00197420222684741, 0.005366438068449497, 0.00197420222684741, 0.00197420222684741, 0.00197420222684741, 0.00197420222684741, 0.00197420222684741, 0.00197420222684741, 0.00197420222684741, 0.00197420222684741, 0.005366438068449497, 0.005366438068449497, 0.00197420222684741, 0.00197420222684741, 0.00197420222684741, 0.00197420222684741, 0.00197420222684741, 0.00197420222684741, 0.005366438068449497, 0.00197420222684741, 0.00197420222684741, 0.00197420222684741, 0.005366438068449497, 0.005366438068449497, 0.00197420222684741, 0.00197420222684741, 0.00197420222684741, 0.005366438068449497, 0.00197420222684741, 0.00197420222684741, 0.00197420222684741, 0.00197420222684741, 0.005366438068449497, 0.00197420222684741, 0.00197420222684741, 0.00197420222684741, 0.00197420222684741, 0.00197420222684741, 0.00197420222684741, 0.00197420222684741, 0.00197420222684741, 0.00197420222684741, 0.00197420222684741, 0.00197420222684741, 0.00197420222684741, 0.00197420222684741, 0.00197420222684741, 0.00197420222684741, 0.005366438068449497, 0.00197420222684741, 0.00197420222684741, 0.00197420222684741, 0.00197420222684741, 0.00197420222684741, 0.00197420222684741, 0.00197420222684741, 0.00197420222684741, 0.00197420222684741, 0.005366438068449497, 0.00197420222684741, 0.00197420222684741, 0.00197420222684741, 0.00197420222684741, 0.00197420222684741, 0.00197420222684741, 0.00197420222684741, 0.00197420222684741, 0.00197420222684741, 0.00197420222684741, 0.00197420222684741, 0.00197420222684741, 0.00197420222684741, 0.00197420222684741, 0.00197420222684741, 0.00197420222684741, 0.00197420222684741, 0.00197420222684741, 0.00197420222684741, 0.00197420222684741, 0.00197420222684741, 0.00197420222684741, 0.00197420222684741, 0.00197420222684741, 0.00197420222684741, 0.00197420222684741, 0.00197420222684741, 0.00197420222684741, 0.00197420222684741, 0.00197420222684741, 0.00197420222684741, 0.00197420222684741, 0.00197420222684741, 0.00197420222684741, 0.00197420222684741, 0.00197420222684741, 0.00197420222684741, 0.00197420222684741, 0.00197420222684741, 0.00197420222684741, 0.00197420222684741, 0.00197420222684741, 0.00197420222684741]\n"
          ]
        },
        {
          "output_type": "error",
          "ename": "ValueError",
          "evalue": "ignored",
          "traceback": [
            "\u001b[0;31m---------------------------------------------------------------------------\u001b[0m",
            "\u001b[0;31mValueError\u001b[0m                                Traceback (most recent call last)",
            "\u001b[0;32m<ipython-input-18-7a93528854b1>\u001b[0m in \u001b[0;36m<module>\u001b[0;34m\u001b[0m\n\u001b[1;32m     28\u001b[0m \u001b[0;34m\u001b[0m\u001b[0m\n\u001b[1;32m     29\u001b[0m \u001b[0;31m# Create a pandas dataframe with the token, start time, end time, and confidence score\u001b[0m\u001b[0;34m\u001b[0m\u001b[0;34m\u001b[0m\u001b[0m\n\u001b[0;32m---> 30\u001b[0;31m \u001b[0mdf\u001b[0m \u001b[0;34m=\u001b[0m \u001b[0mpd\u001b[0m\u001b[0;34m.\u001b[0m\u001b[0mDataFrame\u001b[0m\u001b[0;34m(\u001b[0m\u001b[0;34m{\u001b[0m\u001b[0;34m'Token'\u001b[0m\u001b[0;34m:\u001b[0m \u001b[0mtokens\u001b[0m\u001b[0;34m,\u001b[0m \u001b[0;34m'Start Time'\u001b[0m\u001b[0;34m:\u001b[0m \u001b[0mtimestamps\u001b[0m\u001b[0;34m[\u001b[0m\u001b[0;34m:\u001b[0m\u001b[0;34m-\u001b[0m\u001b[0;36m1\u001b[0m\u001b[0;34m]\u001b[0m\u001b[0;34m,\u001b[0m \u001b[0;34m'End Time'\u001b[0m\u001b[0;34m:\u001b[0m \u001b[0mtimestamps\u001b[0m\u001b[0;34m[\u001b[0m\u001b[0;36m1\u001b[0m\u001b[0;34m:\u001b[0m\u001b[0;34m]\u001b[0m\u001b[0;34m,\u001b[0m \u001b[0;34m'Confidence Score'\u001b[0m\u001b[0;34m:\u001b[0m \u001b[0mconfidence_scores\u001b[0m\u001b[0;34m}\u001b[0m\u001b[0;34m)\u001b[0m\u001b[0;34m\u001b[0m\u001b[0;34m\u001b[0m\u001b[0m\n\u001b[0m\u001b[1;32m     31\u001b[0m \u001b[0;34m\u001b[0m\u001b[0m\n\u001b[1;32m     32\u001b[0m \u001b[0;31m# Print the resulting dataframe\u001b[0m\u001b[0;34m\u001b[0m\u001b[0;34m\u001b[0m\u001b[0m\n",
            "\u001b[0;32m/usr/local/lib/python3.9/dist-packages/pandas/core/frame.py\u001b[0m in \u001b[0;36m__init__\u001b[0;34m(self, data, index, columns, dtype, copy)\u001b[0m\n\u001b[1;32m    634\u001b[0m         \u001b[0;32melif\u001b[0m \u001b[0misinstance\u001b[0m\u001b[0;34m(\u001b[0m\u001b[0mdata\u001b[0m\u001b[0;34m,\u001b[0m \u001b[0mdict\u001b[0m\u001b[0;34m)\u001b[0m\u001b[0;34m:\u001b[0m\u001b[0;34m\u001b[0m\u001b[0;34m\u001b[0m\u001b[0m\n\u001b[1;32m    635\u001b[0m             \u001b[0;31m# GH#38939 de facto copy defaults to False only in non-dict cases\u001b[0m\u001b[0;34m\u001b[0m\u001b[0;34m\u001b[0m\u001b[0m\n\u001b[0;32m--> 636\u001b[0;31m             \u001b[0mmgr\u001b[0m \u001b[0;34m=\u001b[0m \u001b[0mdict_to_mgr\u001b[0m\u001b[0;34m(\u001b[0m\u001b[0mdata\u001b[0m\u001b[0;34m,\u001b[0m \u001b[0mindex\u001b[0m\u001b[0;34m,\u001b[0m \u001b[0mcolumns\u001b[0m\u001b[0;34m,\u001b[0m \u001b[0mdtype\u001b[0m\u001b[0;34m=\u001b[0m\u001b[0mdtype\u001b[0m\u001b[0;34m,\u001b[0m \u001b[0mcopy\u001b[0m\u001b[0;34m=\u001b[0m\u001b[0mcopy\u001b[0m\u001b[0;34m,\u001b[0m \u001b[0mtyp\u001b[0m\u001b[0;34m=\u001b[0m\u001b[0mmanager\u001b[0m\u001b[0;34m)\u001b[0m\u001b[0;34m\u001b[0m\u001b[0;34m\u001b[0m\u001b[0m\n\u001b[0m\u001b[1;32m    637\u001b[0m         \u001b[0;32melif\u001b[0m \u001b[0misinstance\u001b[0m\u001b[0;34m(\u001b[0m\u001b[0mdata\u001b[0m\u001b[0;34m,\u001b[0m \u001b[0mma\u001b[0m\u001b[0;34m.\u001b[0m\u001b[0mMaskedArray\u001b[0m\u001b[0;34m)\u001b[0m\u001b[0;34m:\u001b[0m\u001b[0;34m\u001b[0m\u001b[0;34m\u001b[0m\u001b[0m\n\u001b[1;32m    638\u001b[0m             \u001b[0;32mimport\u001b[0m \u001b[0mnumpy\u001b[0m\u001b[0;34m.\u001b[0m\u001b[0mma\u001b[0m\u001b[0;34m.\u001b[0m\u001b[0mmrecords\u001b[0m \u001b[0;32mas\u001b[0m \u001b[0mmrecords\u001b[0m\u001b[0;34m\u001b[0m\u001b[0;34m\u001b[0m\u001b[0m\n",
            "\u001b[0;32m/usr/local/lib/python3.9/dist-packages/pandas/core/internals/construction.py\u001b[0m in \u001b[0;36mdict_to_mgr\u001b[0;34m(data, index, columns, dtype, typ, copy)\u001b[0m\n\u001b[1;32m    500\u001b[0m         \u001b[0;31m# TODO: can we get rid of the dt64tz special case above?\u001b[0m\u001b[0;34m\u001b[0m\u001b[0;34m\u001b[0m\u001b[0m\n\u001b[1;32m    501\u001b[0m \u001b[0;34m\u001b[0m\u001b[0m\n\u001b[0;32m--> 502\u001b[0;31m     \u001b[0;32mreturn\u001b[0m \u001b[0marrays_to_mgr\u001b[0m\u001b[0;34m(\u001b[0m\u001b[0marrays\u001b[0m\u001b[0;34m,\u001b[0m \u001b[0mcolumns\u001b[0m\u001b[0;34m,\u001b[0m \u001b[0mindex\u001b[0m\u001b[0;34m,\u001b[0m \u001b[0mdtype\u001b[0m\u001b[0;34m=\u001b[0m\u001b[0mdtype\u001b[0m\u001b[0;34m,\u001b[0m \u001b[0mtyp\u001b[0m\u001b[0;34m=\u001b[0m\u001b[0mtyp\u001b[0m\u001b[0;34m,\u001b[0m \u001b[0mconsolidate\u001b[0m\u001b[0;34m=\u001b[0m\u001b[0mcopy\u001b[0m\u001b[0;34m)\u001b[0m\u001b[0;34m\u001b[0m\u001b[0;34m\u001b[0m\u001b[0m\n\u001b[0m\u001b[1;32m    503\u001b[0m \u001b[0;34m\u001b[0m\u001b[0m\n\u001b[1;32m    504\u001b[0m \u001b[0;34m\u001b[0m\u001b[0m\n",
            "\u001b[0;32m/usr/local/lib/python3.9/dist-packages/pandas/core/internals/construction.py\u001b[0m in \u001b[0;36marrays_to_mgr\u001b[0;34m(arrays, columns, index, dtype, verify_integrity, typ, consolidate)\u001b[0m\n\u001b[1;32m    118\u001b[0m         \u001b[0;31m# figure out the index, if necessary\u001b[0m\u001b[0;34m\u001b[0m\u001b[0;34m\u001b[0m\u001b[0m\n\u001b[1;32m    119\u001b[0m         \u001b[0;32mif\u001b[0m \u001b[0mindex\u001b[0m \u001b[0;32mis\u001b[0m \u001b[0;32mNone\u001b[0m\u001b[0;34m:\u001b[0m\u001b[0;34m\u001b[0m\u001b[0;34m\u001b[0m\u001b[0m\n\u001b[0;32m--> 120\u001b[0;31m             \u001b[0mindex\u001b[0m \u001b[0;34m=\u001b[0m \u001b[0m_extract_index\u001b[0m\u001b[0;34m(\u001b[0m\u001b[0marrays\u001b[0m\u001b[0;34m)\u001b[0m\u001b[0;34m\u001b[0m\u001b[0;34m\u001b[0m\u001b[0m\n\u001b[0m\u001b[1;32m    121\u001b[0m         \u001b[0;32melse\u001b[0m\u001b[0;34m:\u001b[0m\u001b[0;34m\u001b[0m\u001b[0;34m\u001b[0m\u001b[0m\n\u001b[1;32m    122\u001b[0m             \u001b[0mindex\u001b[0m \u001b[0;34m=\u001b[0m \u001b[0mensure_index\u001b[0m\u001b[0;34m(\u001b[0m\u001b[0mindex\u001b[0m\u001b[0;34m)\u001b[0m\u001b[0;34m\u001b[0m\u001b[0;34m\u001b[0m\u001b[0m\n",
            "\u001b[0;32m/usr/local/lib/python3.9/dist-packages/pandas/core/internals/construction.py\u001b[0m in \u001b[0;36m_extract_index\u001b[0;34m(data)\u001b[0m\n\u001b[1;32m    672\u001b[0m             \u001b[0mlengths\u001b[0m \u001b[0;34m=\u001b[0m \u001b[0mlist\u001b[0m\u001b[0;34m(\u001b[0m\u001b[0mset\u001b[0m\u001b[0;34m(\u001b[0m\u001b[0mraw_lengths\u001b[0m\u001b[0;34m)\u001b[0m\u001b[0;34m)\u001b[0m\u001b[0;34m\u001b[0m\u001b[0;34m\u001b[0m\u001b[0m\n\u001b[1;32m    673\u001b[0m             \u001b[0;32mif\u001b[0m \u001b[0mlen\u001b[0m\u001b[0;34m(\u001b[0m\u001b[0mlengths\u001b[0m\u001b[0;34m)\u001b[0m \u001b[0;34m>\u001b[0m \u001b[0;36m1\u001b[0m\u001b[0;34m:\u001b[0m\u001b[0;34m\u001b[0m\u001b[0;34m\u001b[0m\u001b[0m\n\u001b[0;32m--> 674\u001b[0;31m                 \u001b[0;32mraise\u001b[0m \u001b[0mValueError\u001b[0m\u001b[0;34m(\u001b[0m\u001b[0;34m\"All arrays must be of the same length\"\u001b[0m\u001b[0;34m)\u001b[0m\u001b[0;34m\u001b[0m\u001b[0;34m\u001b[0m\u001b[0m\n\u001b[0m\u001b[1;32m    675\u001b[0m \u001b[0;34m\u001b[0m\u001b[0m\n\u001b[1;32m    676\u001b[0m             \u001b[0;32mif\u001b[0m \u001b[0mhave_dicts\u001b[0m\u001b[0;34m:\u001b[0m\u001b[0;34m\u001b[0m\u001b[0;34m\u001b[0m\u001b[0m\n",
            "\u001b[0;31mValueError\u001b[0m: All arrays must be of the same length"
          ]
        }
      ]
    },
    {
      "cell_type": "code",
      "source": [
        "import torch\n",
        "from transformers import AutoTokenizer, AutoModelForTokenClassification\n",
        "import pandas as pd\n",
        "\n",
        "# Load pre-trained NLP model and tokenizer\n",
        "model_name = \"bert-base-cased\"\n",
        "tokenizer = AutoTokenizer.from_pretrained(model_name)\n",
        "model = AutoModelForTokenClassification.from_pretrained(model_name)\n",
        "\n",
        "# Tokenize the input string\n",
        "text = \"David is the technician. The patient is shy. She is a Australian checker collie mix. Sixty nine pounds today, 11 years old. Temperature was 101 seven Fahrenheit. Heart rate was 108. Respiratory rate was 48. She was also panting. Patient is presented today for a right year, year hematoma, on or nose it last week on Wednesday. Otherwise doing well, eating, drinking, urinating and deprecating okay, no current medications, no heartworm or flantick. And its current diet is kibble, some of its vaccines are not up to date and there's no previous records. Hi, it's Dr. Beats with medical notes for shy, heller, H-E-L-L-E-R patient number one two one nine one three on physical examination oral, mild twarter, PM4, left upper oral exam, right hematoma of penna scant debris AU, ear cytology scant coxay and yeast AU. Under integumentary, right subcue mass at the right stifle, one centimeter in diameter, roughly spherical, additionally right lateral thorax, a one centimeter subcue mass, each are freely movable, ocula, flinticular sclerosis AU, where you can enter default normals for the rest with the exception of reproductive, hooded vulva, assessment oral hematoma, rule out secondary to yeast and or coxay bacterial infection, otherwise apparently healthy on examination, plan, rabies vaccine, one year subcutaneously right hind, just ear cleaning AU, it's still AU, half of 100 milligram raveira, P-O-B-I-D, time seven days, gave owner estimate for drainage and bandaging of hematoma versus doing full surgical repair.\"\n",
        "tokens = tokenizer.tokenize(text)\n",
        "\n",
        "# Create input tensor for the pre-trained model\n",
        "input_ids = tokenizer.encode(text, return_tensors=\"pt\")\n",
        "with torch.no_grad():\n",
        "    outputs = model(input_ids)\n",
        "\n",
        "# Get predicted label indices for each token\n",
        "label_indices = outputs.logits.argmax(dim=2)[0, 1:-1]\n",
        "\n",
        "# Convert label indices to confidence scores using softmax function\n",
        "confidences = torch.nn.functional.softmax(outputs.logits[0, 1:-1], dim=-1).detach().numpy()\n",
        "\n",
        "# Create list of words and confidence scores\n",
        "words = []\n",
        "confidence_scores = []\n",
        "for i, token in enumerate(tokens[1:-1]): # Exclude [CLS] and [SEP] tokens\n",
        "    word = token.replace('##', '')\n",
        "    confidence = confidences[i][label_indices[i]+1]\n",
        "    words.append(word)\n",
        "    confidence_scores.append(confidence)\n",
        "\n",
        "# Create pandas dataframe with word and confidence score\n",
        "df = pd.DataFrame({'Word': words, 'Confidence Score': confidence_scores})\n",
        "print(df)\n"
      ],
      "metadata": {
        "colab": {
          "base_uri": "https://localhost:8080/",
          "height": 373
        },
        "id": "UlgntLP90zZZ",
        "outputId": "faa9d421-cb14-43dd-8363-f37c7058b2e3"
      },
      "execution_count": 2,
      "outputs": [
        {
          "output_type": "error",
          "ename": "ModuleNotFoundError",
          "evalue": "ignored",
          "traceback": [
            "\u001b[0;31m---------------------------------------------------------------------------\u001b[0m",
            "\u001b[0;31mModuleNotFoundError\u001b[0m                       Traceback (most recent call last)",
            "\u001b[0;32m<ipython-input-2-ba953262e6b5>\u001b[0m in \u001b[0;36m<module>\u001b[0;34m\u001b[0m\n\u001b[1;32m      1\u001b[0m \u001b[0;32mimport\u001b[0m \u001b[0mtorch\u001b[0m\u001b[0;34m\u001b[0m\u001b[0;34m\u001b[0m\u001b[0m\n\u001b[0;32m----> 2\u001b[0;31m \u001b[0;32mfrom\u001b[0m \u001b[0mtransformers\u001b[0m \u001b[0;32mimport\u001b[0m \u001b[0mAutoTokenizer\u001b[0m\u001b[0;34m,\u001b[0m \u001b[0mAutoModelForTokenClassification\u001b[0m\u001b[0;34m\u001b[0m\u001b[0;34m\u001b[0m\u001b[0m\n\u001b[0m\u001b[1;32m      3\u001b[0m \u001b[0;32mimport\u001b[0m \u001b[0mpandas\u001b[0m \u001b[0;32mas\u001b[0m \u001b[0mpd\u001b[0m\u001b[0;34m\u001b[0m\u001b[0;34m\u001b[0m\u001b[0m\n\u001b[1;32m      4\u001b[0m \u001b[0;34m\u001b[0m\u001b[0m\n\u001b[1;32m      5\u001b[0m \u001b[0;31m# Load pre-trained NLP model and tokenizer\u001b[0m\u001b[0;34m\u001b[0m\u001b[0;34m\u001b[0m\u001b[0m\n",
            "\u001b[0;31mModuleNotFoundError\u001b[0m: No module named 'transformers'",
            "",
            "\u001b[0;31m---------------------------------------------------------------------------\u001b[0;32m\nNOTE: If your import is failing due to a missing package, you can\nmanually install dependencies using either !pip or !apt.\n\nTo view examples of installing some common dependencies, click the\n\"Open Examples\" button below.\n\u001b[0;31m---------------------------------------------------------------------------\u001b[0m\n"
          ],
          "errorDetails": {
            "actions": [
              {
                "action": "open_url",
                "actionText": "Open Examples",
                "url": "/notebooks/snippets/importing_libraries.ipynb"
              }
            ]
          }
        }
      ]
    },
    {
      "cell_type": "code",
      "source": [],
      "metadata": {
        "id": "LV8ys745U7qx"
      },
      "execution_count": null,
      "outputs": []
    },
    {
      "cell_type": "code",
      "source": [
        "import torch\n",
        "from transformers import AutoTokenizer, AutoModelForTokenClassification\n",
        "import pandas as pd\n",
        "import librosa\n",
        "import numpy as np\n",
        "import nltk\n",
        "\n",
        "# Load pre-trained NLP model and tokenizer\n",
        "model_name = \"bert-base-cased\"\n",
        "tokenizer = AutoTokenizer.from_pretrained(model_name)\n",
        "model = AutoModelForTokenClassification.from_pretrained(model_name)\n",
        "\n",
        "# Define input text\n",
        "text = \"David is the technician. The patient is shy. She is a Australian checker collie mix. Sixty nine pounds today, 11 years old. Temperature was 101 seven Fahrenheit. Heart rate was 108. Respiratory rate was 48. She was also panting. Patient is presented today for a right year, year hematoma, on or nose it last week on Wednesday. Otherwise doing well, eating, drinking, urinating and deprecating okay, no current medications, no heartworm or flantick. And its current diet is kibble, some of its vaccines are not up to date and there's no previous records. Hi, it's Dr. Beats with Medical Notes for Shy Heller, H-E-L-L-E-R patient number one two one nine one three on physical examination oral, mild twarter, PM4, left upper oral exam, right hematoma of penna scant debris AU, ear cytology, scant, coxye and yeast AU. Under integumentary, right subcue mass at the right stifle, one centimeter in diameter, roughly spherical, additionally right lateral thorax, a one centimeter subcue mass, each are freely movable, ocular flinticular sclerosis AU, where you can enter default normals for the rest with the exception of reproductive, hooded vulva, assessment oral hematoma, rule out secondary to yeast and or coxye bacterial infection, otherwise apparently healthy on examination, plan, rabies vaccine, one year subcutaneously right hind, just ear cleaning AU, Ocernia, it's still AU, half of 100 milligram rovera, P-O-B-I-D, time seven days, gave owner estimate for drainage and bandaging of hematoma versus doing full surgical repair.\"\n",
        "\n",
        "# Tokenize input text and convert to input tensor\n",
        "inputs = tokenizer(text, return_tensors='pt')\n",
        "input_ids_tensor = inputs['input_ids']\n",
        "\n",
        "# Pass input tensor through pre-trained model to generate confidence scores for each token\n",
        "outputs = model(input_ids_tensor)\n",
        "confidences = outputs.logits.argmax(dim=2)[0, 1:-1].float().softmax(dim=0).detach().numpy()\n",
        "\n",
        "# Create list of words and confidence scores\n",
        "words = tokenizer.tokenize(text)\n",
        "confidence_scores = confidences.tolist()\n",
        "\n",
        "# Tokenize the input string\n",
        "tokens = nltk.word_tokenize(text)\n",
        "\n",
        "# Load audio file\n",
        "audio_data, sampling_rate = librosa.load('/content/bates_121913_shy.wav')\n",
        "\n",
        "# Convert audio data to floating-point format\n",
        "audio_data_float = audio_data.astype(np.float32)\n",
        "\n",
        "# Compute the duration of each token in seconds\n",
        "token_durations = []\n",
        "for token in tokens:\n",
        "    # Compute the duration of the token in seconds\n",
        "    token_duration = librosa.core.samples_to_time(len(token) * sampling_rate)\n",
        "    token_durations.append(token_duration)\n",
        "\n",
        "# Compute the start and end times of each token\n",
        "start_times = [0.0]\n",
        "end_times = []\n",
        "current_time = 0.0\n",
        "for token_duration in token_durations:\n",
        "    current_time += token_duration\n"
      ],
      "metadata": {
        "colab": {
          "base_uri": "https://localhost:8080/"
        },
        "id": "aKLLZTWZU7sO",
        "outputId": "76c0d3e5-211e-40ed-a121-537993a4998e"
      },
      "execution_count": 15,
      "outputs": [
        {
          "output_type": "stream",
          "name": "stderr",
          "text": [
            "Some weights of the model checkpoint at bert-base-cased were not used when initializing BertForTokenClassification: ['cls.predictions.transform.dense.weight', 'cls.seq_relationship.bias', 'cls.predictions.decoder.weight', 'cls.predictions.transform.dense.bias', 'cls.predictions.bias', 'cls.predictions.transform.LayerNorm.bias', 'cls.seq_relationship.weight', 'cls.predictions.transform.LayerNorm.weight']\n",
            "- This IS expected if you are initializing BertForTokenClassification from the checkpoint of a model trained on another task or with another architecture (e.g. initializing a BertForSequenceClassification model from a BertForPreTraining model).\n",
            "- This IS NOT expected if you are initializing BertForTokenClassification from the checkpoint of a model that you expect to be exactly identical (initializing a BertForSequenceClassification model from a BertForSequenceClassification model).\n",
            "Some weights of BertForTokenClassification were not initialized from the model checkpoint at bert-base-cased and are newly initialized: ['classifier.weight', 'classifier.bias']\n",
            "You should probably TRAIN this model on a down-stream task to be able to use it for predictions and inference.\n"
          ]
        }
      ]
    },
    {
      "cell_type": "code",
      "source": [],
      "metadata": {
        "id": "GXr7xuwoU7vX"
      },
      "execution_count": null,
      "outputs": []
    },
    {
      "cell_type": "code",
      "source": [],
      "metadata": {
        "id": "d_xMhC3YU7w9"
      },
      "execution_count": null,
      "outputs": []
    },
    {
      "cell_type": "code",
      "source": [],
      "metadata": {
        "id": "hPoxpwLlU70W"
      },
      "execution_count": null,
      "outputs": []
    },
    {
      "cell_type": "code",
      "source": [],
      "metadata": {
        "id": "Ixwc3JcOU710"
      },
      "execution_count": null,
      "outputs": []
    },
    {
      "cell_type": "code",
      "source": [],
      "metadata": {
        "id": "h2WaQV-_U74k"
      },
      "execution_count": null,
      "outputs": []
    },
    {
      "cell_type": "code",
      "source": [
        "!pip install transformers"
      ],
      "metadata": {
        "colab": {
          "base_uri": "https://localhost:8080/"
        },
        "id": "UuGC69jMzfin",
        "outputId": "2e803ec0-8fa8-4184-b7c8-7ec6ebc3bf6b"
      },
      "execution_count": 4,
      "outputs": [
        {
          "output_type": "stream",
          "name": "stdout",
          "text": [
            "Looking in indexes: https://pypi.org/simple, https://us-python.pkg.dev/colab-wheels/public/simple/\n",
            "Collecting transformers\n",
            "  Downloading transformers-4.27.3-py3-none-any.whl (6.8 MB)\n",
            "\u001b[2K     \u001b[90m━━━━━━━━━━━━━━━━━━━━━━━━━━━━━━━━━━━━━━━━\u001b[0m \u001b[32m6.8/6.8 MB\u001b[0m \u001b[31m47.9 MB/s\u001b[0m eta \u001b[36m0:00:00\u001b[0m\n",
            "\u001b[?25hRequirement already satisfied: filelock in /usr/local/lib/python3.9/dist-packages (from transformers) (3.10.2)\n",
            "Collecting huggingface-hub<1.0,>=0.11.0\n",
            "  Downloading huggingface_hub-0.13.3-py3-none-any.whl (199 kB)\n",
            "\u001b[2K     \u001b[90m━━━━━━━━━━━━━━━━━━━━━━━━━━━━━━━━━━━━━━\u001b[0m \u001b[32m199.8/199.8 KB\u001b[0m \u001b[31m17.2 MB/s\u001b[0m eta \u001b[36m0:00:00\u001b[0m\n",
            "\u001b[?25hRequirement already satisfied: numpy>=1.17 in /usr/local/lib/python3.9/dist-packages (from transformers) (1.22.4)\n",
            "Requirement already satisfied: tqdm>=4.27 in /usr/local/lib/python3.9/dist-packages (from transformers) (4.65.0)\n",
            "Requirement already satisfied: packaging>=20.0 in /usr/local/lib/python3.9/dist-packages (from transformers) (23.0)\n",
            "Requirement already satisfied: pyyaml>=5.1 in /usr/local/lib/python3.9/dist-packages (from transformers) (6.0)\n",
            "Collecting tokenizers!=0.11.3,<0.14,>=0.11.1\n",
            "  Downloading tokenizers-0.13.2-cp39-cp39-manylinux_2_17_x86_64.manylinux2014_x86_64.whl (7.6 MB)\n",
            "\u001b[2K     \u001b[90m━━━━━━━━━━━━━━━━━━━━━━━━━━━━━━━━━━━━━━━━\u001b[0m \u001b[32m7.6/7.6 MB\u001b[0m \u001b[31m53.5 MB/s\u001b[0m eta \u001b[36m0:00:00\u001b[0m\n",
            "\u001b[?25hRequirement already satisfied: regex!=2019.12.17 in /usr/local/lib/python3.9/dist-packages (from transformers) (2022.10.31)\n",
            "Requirement already satisfied: requests in /usr/local/lib/python3.9/dist-packages (from transformers) (2.27.1)\n",
            "Requirement already satisfied: typing-extensions>=3.7.4.3 in /usr/local/lib/python3.9/dist-packages (from huggingface-hub<1.0,>=0.11.0->transformers) (4.5.0)\n",
            "Requirement already satisfied: idna<4,>=2.5 in /usr/local/lib/python3.9/dist-packages (from requests->transformers) (3.4)\n",
            "Requirement already satisfied: certifi>=2017.4.17 in /usr/local/lib/python3.9/dist-packages (from requests->transformers) (2022.12.7)\n",
            "Requirement already satisfied: urllib3<1.27,>=1.21.1 in /usr/local/lib/python3.9/dist-packages (from requests->transformers) (1.26.15)\n",
            "Requirement already satisfied: charset-normalizer~=2.0.0 in /usr/local/lib/python3.9/dist-packages (from requests->transformers) (2.0.12)\n",
            "Installing collected packages: tokenizers, huggingface-hub, transformers\n",
            "Successfully installed huggingface-hub-0.13.3 tokenizers-0.13.2 transformers-4.27.3\n"
          ]
        }
      ]
    },
    {
      "cell_type": "code",
      "source": [
        "import pandas as pd\n",
        "import torch\n",
        "from transformers import AutoTokenizer, AutoModelForTokenClassification\n",
        "\n",
        "# Load pre-trained NLP model and tokenizer\n",
        "model_name = \"bert-base-cased\"\n",
        "tokenizer = AutoTokenizer.from_pretrained(model_name)\n",
        "model = AutoModelForTokenClassification.from_pretrained(model_name)\n",
        "\n",
        "# Define input text\n",
        "text = \" David is the technician. The patient is shy. She is a Australian checker collie mix. Sixty nine pounds today, 11 years old. Temperature was 101 seven Fahrenheit. Heart rate was 108. Respiratory rate was 48. She was also panting. Patient is presented today for a right year, year hematoma, on or nose it last week on Wednesday. Otherwise doing well, eating, drinking, urinating and deprecating okay, no current medications, no heartworm or flantick. And its current diet is kibble, some of its vaccines are not up to date and there's no previous records. Hi, it's Dr. Beats with Medical Notes for Shy Heller, H-E-L-L-E-R patient number one two one nine one three on physical examination oral, mild twarter, PM4, left upper oral exam, right hematoma of penna scant debris AU, ear cytology, scant, coxye and yeast AU. Under integumentary, right subcue mass at the right stifle, one centimeter in diameter, roughly spherical, additionally right lateral thorax, a one centimeter subcue mass, each are freely movable, ocular flinticular sclerosis AU, where you can enter default normals for the rest with the exception of reproductive, hooded vulva, assessment oral hematoma, rule out secondary to yeast and or coxye bacterial infection, otherwise apparently healthy on examination, plan, rabies vaccine, one year subcutaneously right hind, just ear cleaning AU, Ocernia, it's still AU, half of 100 milligram rovera, P-O-B-I-D, time seven days, gave owner estimate for drainage and bandaging of hematoma versus doing full surgical repair.\"\n",
        "\n",
        "# Tokenize input text and convert to input tensor\n",
        "inputs = tokenizer(text, return_tensors='pt')\n",
        "input_ids_tensor = inputs['input_ids']\n",
        "\n",
        "# Pass input tensor through pre-trained model to generate confidence scores for each token\n",
        "outputs = model(input_ids_tensor)\n",
        "confidences = outputs.logits.argmax(dim=2)[0, 1:-1].float().softmax(dim=0).detach().numpy()\n",
        "\n",
        "# Create list of words and confidence scores\n",
        "words = tokenizer.tokenize(text)\n",
        "confidence_scores = confidences.tolist()\n",
        "\n",
        "# Create a dataframe with token and confidence score columns\n",
        "df = pd.DataFrame({'token': words, 'confidence_score': confidence_scores})\n",
        "\n",
        "# Print the dataframe\n",
        "print(df)\n"
      ],
      "metadata": {
        "colab": {
          "base_uri": "https://localhost:8080/",
          "height": 527,
          "referenced_widgets": [
            "023a8c2a3aa147018c36d04ba5c48a10",
            "5126b81a232d4c2cbe5063b8a61d928b",
            "6f12d75ff25a4089bbe7a13824d0b2ea",
            "020fb848bcf64c5d9912bc6a9ef3a962",
            "20e5b658ce344ae3b1cd009b68c1c11b",
            "1ab19ac785434696a503973abcb2dd75",
            "9f7c347edc9d4e9980ac8073f9091872",
            "67bd5fd2563d461bae2a7a19f346044a",
            "c1dd4ed2d5ca4e1f99797ed3aa615a9e",
            "12f12954e0e14d58a5d791adca85751e",
            "05a7978fd0f5407181d2177ef879a576",
            "357be3cf2f07484184ffe569f6a3a1af",
            "bfdde146642742cab0afbd4aba4bb48f",
            "39f2b8ead2c64a58a8e12467d581918f",
            "97335b0c9125406784462beee8b511f5",
            "f73ab545d4714b98b3fdd5f52b71125a",
            "7bef1f705cc94007b1f947b442d9af53",
            "f6239cfa583b49cb8cc9cb72cb7220d3",
            "fc812accd9ee4425b16f5c278c19067d",
            "aaf36a3c48c54783a3c2acc34ba87097",
            "26ca2d46b89c4f74ba818810c82e6c95",
            "e98b687107ba4968be0decf577e1860b",
            "ad98a824c22a4c81bceafed7659738ce",
            "59471124af654079b18e1edadf7f91a5",
            "778d4583db70497b8de1833ae07d7c8c",
            "b2a621a187c24827a89ef9082b86ac24",
            "383a2f8dd06c4dc69a5fc0346ac9cdc2",
            "79de016570ef47b0871edf398eedb99c",
            "03ebfdf8a94e4ee2bad5180dc4b44c47",
            "d1fc39bc9c544a10b8875e581589e32b",
            "5f4c808b420e47dbbb121f2a6c73ab32",
            "ebd5a1e994f949fc86ebdab3f1ca0a24",
            "3354739d4d6544aa9f608cb43f956916",
            "39014be38fcd46508291bd4c74c7e68b",
            "c606d3c1f94548689467f286e6b28fdb",
            "a92f264bf11b4943ab6c67a7f0c285d5",
            "634e4b07d36a4bda9e707acd09d66b7f",
            "1d990a7843b945a588630e294054e560",
            "30b59b245cd6436790ebf8e63fddfc78",
            "bd6a79f73fd34d939a0e9bc30ff4d032",
            "4eed2bb32c81468f994fa3e0064df28d",
            "991540ab9c9b4346872b1577bd6e5043",
            "d6a478bd02b243ed9f36aec259f858ab",
            "39919d8ee1f24f4290d3f15ec1d67fc1",
            "99e7399d96f242348d4d9c7b37c18c12",
            "2344585d8cd34e2ebc1c02d24f6cb2fe",
            "07f400c4d994415ab7adb070cae25ff1",
            "47dfee87402f4e82a2e0ec96c208c790",
            "0b9670b22a4645d48028f65d9e0c9761",
            "d112f038b2164ecca76424d1dcc66d21",
            "76e4eb1bdcea414ca895e0c99288c37a",
            "674170fcd5df422bae9567983fc46f2b",
            "c292d47d42c542e39e29b33ce9c07f80",
            "2ab85d18f55f44ce901dd7a5e049fb2f",
            "64890427e1d84a1282600460a515b6f3"
          ]
        },
        "id": "VBwLP3EhU76M",
        "outputId": "5326bb52-7910-4688-c49b-f1f7b7bdc4e7"
      },
      "execution_count": 5,
      "outputs": [
        {
          "output_type": "display_data",
          "data": {
            "text/plain": [
              "Downloading (…)okenizer_config.json:   0%|          | 0.00/29.0 [00:00<?, ?B/s]"
            ],
            "application/vnd.jupyter.widget-view+json": {
              "version_major": 2,
              "version_minor": 0,
              "model_id": "023a8c2a3aa147018c36d04ba5c48a10"
            }
          },
          "metadata": {}
        },
        {
          "output_type": "display_data",
          "data": {
            "text/plain": [
              "Downloading (…)lve/main/config.json:   0%|          | 0.00/570 [00:00<?, ?B/s]"
            ],
            "application/vnd.jupyter.widget-view+json": {
              "version_major": 2,
              "version_minor": 0,
              "model_id": "357be3cf2f07484184ffe569f6a3a1af"
            }
          },
          "metadata": {}
        },
        {
          "output_type": "display_data",
          "data": {
            "text/plain": [
              "Downloading (…)solve/main/vocab.txt:   0%|          | 0.00/213k [00:00<?, ?B/s]"
            ],
            "application/vnd.jupyter.widget-view+json": {
              "version_major": 2,
              "version_minor": 0,
              "model_id": "ad98a824c22a4c81bceafed7659738ce"
            }
          },
          "metadata": {}
        },
        {
          "output_type": "display_data",
          "data": {
            "text/plain": [
              "Downloading (…)/main/tokenizer.json:   0%|          | 0.00/436k [00:00<?, ?B/s]"
            ],
            "application/vnd.jupyter.widget-view+json": {
              "version_major": 2,
              "version_minor": 0,
              "model_id": "39014be38fcd46508291bd4c74c7e68b"
            }
          },
          "metadata": {}
        },
        {
          "output_type": "display_data",
          "data": {
            "text/plain": [
              "Downloading pytorch_model.bin:   0%|          | 0.00/436M [00:00<?, ?B/s]"
            ],
            "application/vnd.jupyter.widget-view+json": {
              "version_major": 2,
              "version_minor": 0,
              "model_id": "99e7399d96f242348d4d9c7b37c18c12"
            }
          },
          "metadata": {}
        },
        {
          "output_type": "stream",
          "name": "stderr",
          "text": [
            "Some weights of the model checkpoint at bert-base-cased were not used when initializing BertForTokenClassification: ['cls.predictions.decoder.weight', 'cls.predictions.bias', 'cls.seq_relationship.weight', 'cls.predictions.transform.dense.weight', 'cls.predictions.transform.dense.bias', 'cls.predictions.transform.LayerNorm.bias', 'cls.predictions.transform.LayerNorm.weight', 'cls.seq_relationship.bias']\n",
            "- This IS expected if you are initializing BertForTokenClassification from the checkpoint of a model trained on another task or with another architecture (e.g. initializing a BertForSequenceClassification model from a BertForPreTraining model).\n",
            "- This IS NOT expected if you are initializing BertForTokenClassification from the checkpoint of a model that you expect to be exactly identical (initializing a BertForSequenceClassification model from a BertForSequenceClassification model).\n",
            "Some weights of BertForTokenClassification were not initialized from the model checkpoint at bert-base-cased and are newly initialized: ['classifier.weight', 'classifier.bias']\n",
            "You should probably TRAIN this model on a down-stream task to be able to use it for predictions and inference.\n"
          ]
        },
        {
          "output_type": "stream",
          "name": "stdout",
          "text": [
            "          token  confidence_score\n",
            "0         David          0.005295\n",
            "1            is          0.005295\n",
            "2           the          0.001948\n",
            "3    technician          0.001948\n",
            "4             .          0.001948\n",
            "..          ...               ...\n",
            "395       doing          0.001948\n",
            "396        full          0.001948\n",
            "397    surgical          0.001948\n",
            "398      repair          0.001948\n",
            "399           .          0.001948\n",
            "\n",
            "[400 rows x 2 columns]\n"
          ]
        }
      ]
    },
    {
      "cell_type": "code",
      "source": [
        "df.to_csv(\"Confidence_scores.csv\")"
      ],
      "metadata": {
        "id": "3vRRGYsiU7-N"
      },
      "execution_count": 6,
      "outputs": []
    },
    {
      "cell_type": "code",
      "source": [
        "import pandas as pd\n",
        "import librosa\n",
        "import numpy as np\n",
        "import nltk\n",
        "\n",
        "# Example input string\n",
        "text = \"hello world how are you\"\n",
        "\n",
        "# Tokenize the input string\n",
        "tokens = nltk.word_tokenize(text)\n",
        "\n",
        "# Load audio file\n",
        "audio_data, sampling_rate = librosa.load('/content/bates_121913_shy.wav')\n",
        "\n",
        "# Convert audio data to floating-point format\n",
        "audio_data_float = audio_data.astype(np.float32)\n",
        "\n",
        "# Compute the duration of each token in seconds\n",
        "token_durations = []\n",
        "for token in tokens:\n",
        "    # Compute the duration of the token in seconds\n",
        "    token_duration = librosa.core.samples_to_time(len(token) * sampling_rate)\n",
        "    token_durations.append(token_duration)\n",
        "\n",
        "# Compute the timestamp of each token\n",
        "timestamps = []\n",
        "current_time = 0.0\n",
        "for token_duration in token_durations:\n",
        "    timestamps.append(current_time)\n",
        "    current_time += token_duration\n",
        "timestamps.append(current_time) # Add the end time of the last token\n",
        "\n",
        "# Assign a default confidence score of 1.0 to each token\n",
        "confidence_scores = [1.0] * len(tokens)\n",
        "\n",
        "# Create a pandas dataframe with the token, start time, end time, and confidence score\n",
        "df = pd.DataFrame({'Token': tokens, 'Start Time': timestamps[:-1], 'End Time': timestamps[1:], 'Confidence Score': confidence_scores})\n",
        "\n",
        "# Print the resulting dataframe\n",
        "print(df)\n",
        "\n",
        "# Convert the dataframe to JSON format\n",
        "data = {\n",
        "    \"items\": []\n",
        "}\n",
        "\n",
        "for i in range(len(df)):\n",
        "    item = {\n",
        "        \"start_time\": str(df.loc[i, \"Start Time\"]),\n",
        "        \"end_time\": str(df.loc[i, \"End Time\"]),\n",
        "        \"alternatives\": [\n",
        "            {\n",
        "                \"confidence\": str(df.loc[i, \"Confidence Score\"]),\n",
        "                \"content\": df.loc[i, \"Token\"]\n",
        "            }\n",
        "        ],\n",
        "        \"type\": \"pronunciation\"\n",
        "    }\n",
        "    data[\"items\"].append(item)\n",
        "\n",
        "json_str = pd.io.json.dumps(data, indent=2)\n",
        "print(json_str)\n"
      ],
      "metadata": {
        "colab": {
          "base_uri": "https://localhost:8080/"
        },
        "id": "Ws2vddEqaBIt",
        "outputId": "7f7b7d13-5c59-4e54-d9ae-f042d0b1381e"
      },
      "execution_count": 11,
      "outputs": [
        {
          "output_type": "stream",
          "name": "stdout",
          "text": [
            "   Token  Start Time  End Time  Confidence Score\n",
            "0  hello         0.0       5.0               1.0\n",
            "1  world         5.0      10.0               1.0\n",
            "2    how        10.0      13.0               1.0\n",
            "3    are        13.0      16.0               1.0\n",
            "4    you        16.0      19.0               1.0\n",
            "{\n",
            "  \"items\":[\n",
            "    {\n",
            "      \"start_time\":\"0.0\",\n",
            "      \"end_time\":\"5.0\",\n",
            "      \"alternatives\":[\n",
            "        {\n",
            "          \"confidence\":\"1.0\",\n",
            "          \"content\":\"hello\"\n",
            "        }\n",
            "      ],\n",
            "      \"type\":\"pronunciation\"\n",
            "    },\n",
            "    {\n",
            "      \"start_time\":\"5.0\",\n",
            "      \"end_time\":\"10.0\",\n",
            "      \"alternatives\":[\n",
            "        {\n",
            "          \"confidence\":\"1.0\",\n",
            "          \"content\":\"world\"\n",
            "        }\n",
            "      ],\n",
            "      \"type\":\"pronunciation\"\n",
            "    },\n",
            "    {\n",
            "      \"start_time\":\"10.0\",\n",
            "      \"end_time\":\"13.0\",\n",
            "      \"alternatives\":[\n",
            "        {\n",
            "          \"confidence\":\"1.0\",\n",
            "          \"content\":\"how\"\n",
            "        }\n",
            "      ],\n",
            "      \"type\":\"pronunciation\"\n",
            "    },\n",
            "    {\n",
            "      \"start_time\":\"13.0\",\n",
            "      \"end_time\":\"16.0\",\n",
            "      \"alternatives\":[\n",
            "        {\n",
            "          \"confidence\":\"1.0\",\n",
            "          \"content\":\"are\"\n",
            "        }\n",
            "      ],\n",
            "      \"type\":\"pronunciation\"\n",
            "    },\n",
            "    {\n",
            "      \"start_time\":\"16.0\",\n",
            "      \"end_time\":\"19.0\",\n",
            "      \"alternatives\":[\n",
            "        {\n",
            "          \"confidence\":\"1.0\",\n",
            "          \"content\":\"you\"\n",
            "        }\n",
            "      ],\n",
            "      \"type\":\"pronunciation\"\n",
            "    }\n",
            "  ]\n",
            "}\n"
          ]
        }
      ]
    },
    {
      "cell_type": "code",
      "source": [
        "df.to_csv(\"WhisperOutput.csv\")"
      ],
      "metadata": {
        "id": "2jxU6ps-vKNZ"
      },
      "execution_count": null,
      "outputs": []
    },
    {
      "cell_type": "code",
      "source": [
        "df.to_json(\"WhisperOutput.json\")"
      ],
      "metadata": {
        "id": "QtIYvnGHvKQt"
      },
      "execution_count": null,
      "outputs": []
    },
    {
      "cell_type": "code",
      "source": [],
      "metadata": {
        "id": "DWuEl7sMvKSZ"
      },
      "execution_count": null,
      "outputs": []
    },
    {
      "cell_type": "code",
      "source": [],
      "metadata": {
        "id": "6JD-FoTvvKVk"
      },
      "execution_count": null,
      "outputs": []
    },
    {
      "cell_type": "code",
      "source": [],
      "metadata": {
        "id": "lamPHb96vKXX"
      },
      "execution_count": null,
      "outputs": []
    },
    {
      "cell_type": "code",
      "source": [],
      "metadata": {
        "id": "5V7tWz8GvKaZ"
      },
      "execution_count": null,
      "outputs": []
    },
    {
      "cell_type": "code",
      "source": [],
      "metadata": {
        "id": "nFBUlGHCvKb8"
      },
      "execution_count": null,
      "outputs": []
    }
  ]
}